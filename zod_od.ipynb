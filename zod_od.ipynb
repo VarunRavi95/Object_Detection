{
 "cells": [
  {
   "cell_type": "code",
   "execution_count": null,
   "metadata": {},
   "outputs": [],
   "source": [
    "import os\n",
    "from zod import ZodFrames\n",
    "from zod.constants import AnnotationProject\n",
    "from typing import List\n",
    "import cv2  # Assuming you have OpenCV installed for image dimension extraction\n",
    "\n",
    "# Initialize the dataset\n",
    "dataset_root = \"/Users/varunravi/Desktop/OD\"  # Your local path to ZOD\n",
    "version = \"full\"  # Choose \"mini\" or \"full\"\n",
    "zod_frames = ZodFrames(dataset_root=dataset_root, version=version)"
   ]
  },
  {
   "cell_type": "markdown",
   "metadata": {},
   "source": [
    "### Creating Label files in YOLO format"
   ]
  },
  {
   "cell_type": "code",
   "execution_count": null,
   "metadata": {},
   "outputs": [],
   "source": [
    "import zod.constants as constants\n",
    "from zod import ObjectAnnotation\n",
    "# Define paths for images and labels\n",
    "\n",
    "labels_dir = os.path.join(dataset_root, \"dataset_zod/labels_new\")\n",
    "\n",
    "# Ensure labels directory exists\n",
    "os.makedirs(labels_dir, exist_ok=True)\n",
    "\n",
    "# Helper function to convert Box2D annotations to YOLO format\n",
    "def convert_to_yolo_format(box, img_width, img_height):\n",
    "    x, y, w, h = box\n",
    "    center_x = x + (w / 2)\n",
    "    center_y = y + (h / 2)\n",
    "\n",
    "    center_x_normalized = center_x / img_width\n",
    "    center_y_normalized = center_y / img_height\n",
    "    width_normalized = w / img_width\n",
    "    height_normalized = h / img_height\n",
    "    return center_x_normalized, center_y_normalized, width_normalized, height_normalized\n",
    "\n",
    "# Dictionary to map annotation names to class IDs\n",
    "class_mapping = {}\n",
    "next_class_id = 0\n",
    "\n",
    "# Set the maximum number of frames to process\n",
    "max_frames = 10000\n",
    "processed_frames = 0\n",
    "\n",
    "# Process each frame in the training set\n",
    "for frame_id in zod_frames.get_split(constants.TRAIN):\n",
    "    if processed_frames >= max_frames:\n",
    "        break  # Stop after processing 10,000 frames\n",
    "\n",
    "    zod_frame = zod_frames[frame_id]\n",
    "    #print(frame_id)\n",
    "    annotations: List[ObjectAnnotation] = zod_frame.get_annotation(AnnotationProject.OBJECT_DETECTION)\n",
    "    \n",
    "\n",
    "    # Define path to the specific frame's image folder\n",
    "    images_dir = os.path.join(dataset_root, f\"single_frames/{frame_id}/camera_front_blur\")\n",
    "\n",
    "    # Fetch the image file from the camera_front_blur folder\n",
    "    image_files = [f for f in os.listdir(images_dir) if os.path.isfile(os.path.join(images_dir, f))]\n",
    "\n",
    "    if not image_files:\n",
    "        print(f\"No images found in the directory: {images_dir}\")\n",
    "        continue\n",
    "\n",
    "    # Assume only one image file per folder; select the first one\n",
    "    image_file = image_files[0]\n",
    "    image_path = os.path.join(images_dir, image_file)\n",
    "\n",
    "    # Load image to get its dimensions\n",
    "    image = cv2.imread(image_path)\n",
    "    if image is None:\n",
    "        print(f\"Failed to load image at path: {image_path}\")\n",
    "        continue\n",
    "    img_height, img_width = image.shape[:2]\n",
    "\n",
    "    # Prepare the label file name, corresponding to the image name without extension\n",
    "    label_file_name = os.path.splitext(image_file)[0] + \".txt\"\n",
    "    label_path = os.path.join(labels_dir, label_file_name)\n",
    "    \n",
    "    with open(label_path, \"w\") as label_file:\n",
    "        for annotation in annotations:\n",
    "            # Extract the 2D bounding box if it exists\n",
    "            box2d = annotation.box2d\n",
    "            if box2d:\n",
    "                # Convert annotation box2d to YOLO format\n",
    "                center_x, center_y, width, height = convert_to_yolo_format(box2d.xywh, img_width, img_height)\n",
    "\n",
    "                # Get the class name for the annotation\n",
    "                annotation_name = annotation.name\n",
    "\n",
    "                # Check if the annotation name already has a class ID\n",
    "                if annotation_name not in class_mapping:\n",
    "                    # Assign a new class ID to this annotation name\n",
    "                    class_mapping[annotation_name] = next_class_id\n",
    "                    next_class_id += 1\n",
    "\n",
    "                # Retrieve the class ID for this annotation\n",
    "                class_id = class_mapping[annotation_name]\n",
    "\n",
    "                # Write to file: class_id + yolo formatted bounding box\n",
    "                label_file.write(f\"{class_id} {center_x} {center_y} {width} {height}\\n\")\n",
    "\n",
    "    processed_frames += 1  # Increment the count of processed frames\n",
    "\n",
    "# Print the class mapping for reference\n",
    "print(\"Class mapping:\", class_mapping)"
   ]
  },
  {
   "cell_type": "code",
   "execution_count": null,
   "metadata": {},
   "outputs": [],
   "source": [
    "import os\n",
    "import shutil\n",
    "\n",
    "# Define your folder paths\n",
    "labels_folder = '/Users/varunravi/Desktop/OD/dataset_zod/labels_new'\n",
    "images_folder = '/Users/varunravi/Desktop/OD/zod_image_labels/images'\n",
    "images_new_folder = '/Users/varunravi/Desktop/OD/dataset_zod/images_new'\n",
    "\n",
    "# Create the new folder if it doesn't exist\n",
    "os.makedirs(images_new_folder, exist_ok=True)\n",
    "\n",
    "# Get list of filenames (without extension) in the labels folder\n",
    "label_files = {os.path.splitext(f)[0] for f in os.listdir(labels_folder) if f.endswith('.txt')}\n",
    "\n",
    "# Iterate through images and move the corresponding ones\n",
    "for image_file in os.listdir(images_folder):\n",
    "    image_name, image_ext = os.path.splitext(image_file)\n",
    "\n",
    "    # Check if the image name matches any label filename\n",
    "    if image_name in label_files:\n",
    "        source_path = os.path.join(images_folder, image_file)\n",
    "        destination_path = os.path.join(images_new_folder, image_file)\n",
    "        \n",
    "        # Move the image to the new folder\n",
    "        shutil.move(source_path, destination_path)\n",
    "\n",
    "print(f\"Images matching the labels have been moved to '{images_new_folder}'.\")"
   ]
  },
  {
   "cell_type": "markdown",
   "metadata": {},
   "source": [
    "### Visualize Bounding Boxes"
   ]
  },
  {
   "cell_type": "code",
   "execution_count": null,
   "metadata": {},
   "outputs": [],
   "source": [
    "import os\n",
    "import cv2\n",
    "\n",
    "# Define the folder paths\n",
    "images_folder = '/Users/varunravi/Desktop/OD/dataset_zod/images_new'\n",
    "labels_folder = '/Users/varunravi/Desktop/OD/dataset_zod/labels_new'\n",
    "annotated_folder = '/Users/varunravi/Desktop/OD/dataset_zod/annotated_frames'\n",
    "\n",
    "# Create the annotated folder if it doesn't exist\n",
    "os.makedirs(annotated_folder, exist_ok=True)\n",
    "\n",
    "# Define class names and corresponding colors\n",
    "class_mappings = {'TrafficSign': 0, 'PoleObject': 1, 'TrafficSignal': 2, 'Vehicle': 3, 'TrafficGuide': 4, 'VulnerableVehicle': 5, 'Pedestrian': 6, 'DynamicBarrier': 7, 'TrafficBeacon': 8, 'Unclear': 9, 'Animal': 10}\n",
    "\n",
    "class_names = {v: k for k, v in class_mappings.items()}\n",
    "\n",
    "# Define colors for each class\n",
    "class_colors = {\n",
    "    0: (0, 255, 255),   # Yellow for TrafficSign\n",
    "    1: (128, 128, 128), # Gray for PoleObject\n",
    "    2: (255, 0, 0),     # Blue for Vehicle\n",
    "    3: (0, 0, 255),     # Red for VulnerableVehicle\n",
    "    4: (0, 255, 0),     # Green for TrafficSignal\n",
    "    5: (255, 255, 0),   # Cyan for TrafficGuide\n",
    "    6: (255, 0, 255),   # Magenta for Pedestrian\n",
    "    7: (0, 165, 255),   # Orange for Animal\n",
    "    8: (255, 255, 255), # White for Unclear\n",
    "    9: (128, 0, 128),   # Purple for TrafficBeacon\n",
    "    10: (0, 128, 255),  # Light Orange for DynamicBarrier\n",
    "}\n",
    "\n",
    "# Function to convert Box2D.xywh to YOLO format\n",
    "def convert_to_yolo_format(box, img_width, img_height):\n",
    "    x, y, w, h = box\n",
    "    center_x = (x + w / 2) / img_width\n",
    "    center_y = (y + h / 2) / img_height\n",
    "    width = w / img_width\n",
    "    height = h / img_height\n",
    "    return center_x, center_y, width, height\n",
    "\n",
    "# Function to draw bounding boxes on images\n",
    "def annotate_image(image_path, label_path, save_path):\n",
    "    # Read the image\n",
    "    image = cv2.imread(image_path)\n",
    "    height, width, _ = image.shape\n",
    "    \n",
    "    # Read the label file\n",
    "    with open(label_path, 'r') as file:\n",
    "        for line in file:\n",
    "            # Parse the label line in Box2D.xywh format\n",
    "            class_id, x, y, box_width, box_height = map(float, line.split())\n",
    "            class_id = int(class_id)\n",
    "            \n",
    "            # Convert Box2D.xywh to YOLO format\n",
    "            x_center, y_center, box_width, box_height = convert_to_yolo_format((x, y, box_width, box_height), width, height)\n",
    "\n",
    "            # Ensure values are within bounds [0, 1]\n",
    "            x_center = min(max(x_center, 0), 1)\n",
    "            y_center = min(max(y_center, 0), 1)\n",
    "            box_width = min(max(box_width, 0), 1)\n",
    "            box_height = min(max(box_height, 0), 1)\n",
    "            \n",
    "            # Convert YOLO format to pixel values for drawing\n",
    "            x_center *= width\n",
    "            y_center *= height\n",
    "            box_width *= width\n",
    "            box_height *= height\n",
    "            \n",
    "            # Calculate top-left corner and bottom-right corner of the bounding box\n",
    "            x1 = int(x_center - box_width / 2)\n",
    "            y1 = int(y_center - box_height / 2)\n",
    "            x2 = int(x_center + box_width / 2)\n",
    "            y2 = int(y_center + box_height / 2)\n",
    "            \n",
    "            # Choose color and class name\n",
    "            color = class_colors.get(class_id, (255, 255, 255))  # Default to white if not specified\n",
    "            class_name = class_names.get(class_id, 'Unknown')\n",
    "            \n",
    "            # Draw the bounding box on the image\n",
    "            cv2.rectangle(image, (x1, y1), (x2, y2), color, 2)\n",
    "            # Put class name and class ID as text above the bounding box\n",
    "            cv2.putText(image, class_name, (x1, y1 - 10), cv2.FONT_HERSHEY_SIMPLEX, 0.5, color, 2)\n",
    "\n",
    "    # Save the annotated image\n",
    "    cv2.imwrite(save_path, image)\n",
    "\n",
    "# Process each image in the images folder\n",
    "for image_file in os.listdir(images_folder):\n",
    "    image_name, image_ext = os.path.splitext(image_file)\n",
    "    image_path = os.path.join(images_folder, image_file)\n",
    "    label_path = os.path.join(labels_folder, f\"{image_name}.txt\")\n",
    "    save_path = os.path.join(annotated_folder, image_file)\n",
    "    \n",
    "    # Check if a corresponding label file exists\n",
    "    if os.path.exists(label_path):\n",
    "        # Annotate and save the image\n",
    "        annotate_image(image_path, label_path, save_path)\n",
    "\n",
    "print(f\"Annotated images have been saved in '{annotated_folder}'.\")"
   ]
  },
  {
   "cell_type": "code",
   "execution_count": null,
   "metadata": {},
   "outputs": [],
   "source": [
    "import os\n",
    "import shutil\n",
    "import random\n",
    "\n",
    "# Define the folder paths\n",
    "dataset_folder = '/Users/varunravi/Desktop/OD/dataset_zod'\n",
    "images_folder = os.path.join(dataset_folder, 'images_new')\n",
    "labels_folder = os.path.join(dataset_folder, 'labels_new')\n",
    "\n",
    "# Define the paths for train, val, and test folders\n",
    "splits = ['train', 'val', 'test']\n",
    "for split in splits:\n",
    "    os.makedirs(os.path.join(dataset_folder, split, 'images'), exist_ok=True)\n",
    "    os.makedirs(os.path.join(dataset_folder, split, 'labels'), exist_ok=True)\n",
    "\n",
    "# Get the list of images and ensure corresponding labels exist\n",
    "image_files = [f for f in os.listdir(images_folder) if f.endswith(('.jpg', '.jpeg', '.png'))]\n",
    "random.shuffle(image_files)  # Shuffle the files for random splitting\n",
    "\n",
    "# Define split ratios\n",
    "train_ratio = 0.7\n",
    "val_ratio = 0.2\n",
    "test_ratio = 0.1\n",
    "\n",
    "# Calculate the number of files for each split\n",
    "total_images = len(image_files)\n",
    "train_count = int(total_images * train_ratio)\n",
    "val_count = int(total_images * val_ratio)\n",
    "\n",
    "# Split the files into train, val, and test sets\n",
    "train_files = image_files[:train_count]\n",
    "val_files = image_files[train_count:train_count + val_count]\n",
    "test_files = image_files[train_count + val_count:]\n",
    "\n",
    "# Function to move files to respective directories\n",
    "def move_files(file_list, split):\n",
    "    for file_name in file_list:\n",
    "        base_name, ext = os.path.splitext(file_name)\n",
    "        image_path = os.path.join(images_folder, file_name)\n",
    "        label_path = os.path.join(labels_folder, f\"{base_name}.txt\")\n",
    "        \n",
    "        # Check if the label file exists for the image\n",
    "        if os.path.exists(label_path):\n",
    "            # Define destination paths\n",
    "            dest_image_path = os.path.join(dataset_folder, split, 'images', file_name)\n",
    "            dest_label_path = os.path.join(dataset_folder, split, 'labels', f\"{base_name}.txt\")\n",
    "            \n",
    "            # Move image and label to respective split folders\n",
    "            shutil.copy(image_path, dest_image_path)\n",
    "            shutil.copy(label_path, dest_label_path)\n",
    "\n",
    "# Move files into train, val, and test folders\n",
    "move_files(train_files, 'train')\n",
    "move_files(val_files, 'val')\n",
    "move_files(test_files, 'test')\n",
    "\n",
    "print(f\"Dataset split into train, val, and test folders under '{dataset_folder}'.\")"
   ]
  },
  {
   "cell_type": "markdown",
   "metadata": {},
   "source": [
    "### Creating data.yaml file"
   ]
  },
  {
   "cell_type": "code",
   "execution_count": null,
   "metadata": {},
   "outputs": [],
   "source": [
    "import os\n",
    "\n",
    "# Define the dataset folder path\n",
    "dataset_folder = '/Users/varunravi/Desktop/OD/dataset_zod'\n",
    "\n",
    "# Define the paths for train, val, and test sets\n",
    "train_path = os.path.join(dataset_folder, 'train', 'images')\n",
    "val_path = os.path.join(dataset_folder, 'valid', 'images')\n",
    "test_path = os.path.join(dataset_folder, 'test', 'images')\n",
    "\n",
    "# Define the class mappings\n",
    "class_names = [\n",
    "    'TrafficSign', 'PoleObject', 'Vehicle', 'VulnerableVehicle', \n",
    "    'TrafficSignal', 'TrafficGuide', 'Pedestrian', 'Animal', \n",
    "    'Unclear', 'TrafficBeacon', 'DynamicBarrier'\n",
    "]\n",
    "\n",
    "# Create the data.yaml content\n",
    "data_yaml_content = f\"\"\"\n",
    "# YOLO data configuration file\n",
    "\n",
    "path: {dataset_folder}  # Root path to your dataset\n",
    "train: {train_path}  # Train images directory\n",
    "val: {val_path}  # Validation images directory\n",
    "test: {test_path}  # Test images directory\n",
    "\n",
    "# Number of classes\n",
    "nc: {len(class_names)}\n",
    "\n",
    "# Class names\n",
    "names: {class_names}\n",
    "\"\"\"\n",
    "\n",
    "# Save the data.yaml file\n",
    "yaml_path = os.path.join(dataset_folder, 'data.yaml')\n",
    "with open(yaml_path, 'w') as file:\n",
    "    file.write(data_yaml_content.strip())\n",
    "\n",
    "print(f\"'data.yaml' file has been created at: {yaml_path}\")"
   ]
  },
  {
   "cell_type": "code",
   "execution_count": null,
   "metadata": {},
   "outputs": [],
   "source": [
    "from ultralytics import YOLO\n",
    "model = YOLO(\"yolov8n.yaml\")"
   ]
  },
  {
   "cell_type": "code",
   "execution_count": null,
   "metadata": {},
   "outputs": [],
   "source": [
    "results = model.train(data=\"/Users/varunravi/Desktop/OD/dataset_zod/data.yaml\", epochs=50, conf = 0.5, iou=0.45)"
   ]
  },
  {
   "cell_type": "code",
   "execution_count": null,
   "metadata": {},
   "outputs": [],
   "source": [
    "import os\n",
    "import cv2\n",
    "from tqdm import tqdm\n",
    "from ultralytics import YOLO\n",
    "import random\n",
    "\n",
    "# Load the pretrained YOLOv8 model\n",
    "model = YOLO(\"/opt/homebrew/runs/detect/train29/weights/best.pt\")\n",
    "\n",
    "# Define the path to the test images and the path to save the results\n",
    "test_images_folder = \"/Users/varunravi/Desktop/OD/dataset_zod/test/images\"\n",
    "pred_folder = \"/Users/varunravi/Desktop/OD/dataset_zod/pred\"\n",
    "\n",
    "# Create the 'pred' folder if it doesn't exist\n",
    "os.makedirs(pred_folder, exist_ok=True)\n",
    "\n",
    "# Get list of test images\n",
    "test_images = [os.path.join(test_images_folder, f) for f in os.listdir(test_images_folder) if f.endswith(('.jpg', '.jpeg', '.png'))]\n",
    "\n",
    "# Generate random colors for each class\n",
    "class_colors = {name: (random.randint(0, 255), random.randint(0, 255), random.randint(0, 255)) for name in model.names.values()}\n",
    "\n",
    "def draw_sleek_bounding_boxes(image, boxes, labels, scores, class_colors):\n",
    "    \"\"\"Draws sleek and elegant bounding boxes with different colors for each class.\"\"\"\n",
    "    for box, label, score in zip(boxes, labels, scores):\n",
    "        # Extract box coordinates\n",
    "        x_min, y_min, x_max, y_max = map(int, box)\n",
    "\n",
    "        # Use class-specific color\n",
    "        color = class_colors[label]\n",
    "\n",
    "        # Draw the rectangle with a sleek thin line\n",
    "        cv2.rectangle(image, (x_min, y_min), (x_max, y_max), color, 2, lineType=cv2.LINE_AA)\n",
    "\n",
    "        # Prepare the label with the score\n",
    "        label_text = f\"{label}: {score:.2f}\"\n",
    "        (label_width, label_height), baseline = cv2.getTextSize(label_text, cv2.FONT_HERSHEY_SIMPLEX, 0.5, 1)\n",
    "        \n",
    "        # Draw a semi-transparent background for the label\n",
    "        overlay = image.copy()\n",
    "        label_bg_top_left = (x_min, y_min - label_height - baseline - 10)\n",
    "        label_bg_bottom_right = (x_min + label_width + 10, y_min)\n",
    "        cv2.rectangle(overlay, label_bg_top_left, label_bg_bottom_right, color, -1)\n",
    "        alpha = 0.6\n",
    "        cv2.addWeighted(overlay, alpha, image, 1 - alpha, 0, image)\n",
    "\n",
    "        # Draw the label text\n",
    "        label_pos = (x_min + 5, y_min - baseline - 5)\n",
    "        cv2.putText(image, label_text, label_pos, cv2.FONT_HERSHEY_SIMPLEX, 0.5, (255, 255, 255), 1, lineType=cv2.LINE_AA)\n",
    "\n",
    "    return image\n",
    "\n",
    "# Run batched inference on the list of images with progress bar\n",
    "for image_path in tqdm(test_images, desc=\"Processing images\"):\n",
    "    # Run inference on the current image\n",
    "    result = model(image_path)[0]  # Get the first (and only) result\n",
    "\n",
    "    # Extract the original filename\n",
    "    original_filename = os.path.basename(image_path)\n",
    "\n",
    "    # Get bounding boxes, labels, and scores from the result\n",
    "    boxes = result.boxes.xyxy.cpu().numpy()  # Bounding box coordinates\n",
    "    scores = result.boxes.conf.cpu().numpy()  # Confidence scores\n",
    "    labels = [model.names[int(cls)] for cls in result.boxes.cls.cpu().numpy()]  # Class names\n",
    "\n",
    "    # Load the original image\n",
    "    image = cv2.imread(image_path)\n",
    "\n",
    "    # Draw sleek and elegant bounding boxes with class-specific colors\n",
    "    sleek_image = draw_sleek_bounding_boxes(image, boxes, labels, scores, class_colors)\n",
    "\n",
    "    # Define the path to save the result image in the 'pred' folder\n",
    "    save_path = os.path.join(pred_folder, original_filename)\n",
    "\n",
    "    # Save the result image\n",
    "    cv2.imwrite(save_path, sleek_image)  # Save to disk with the same filename in the 'pred' folder\n",
    "\n",
    "    # Display the result image\n",
    "    cv2.imshow(\"Detected Image\", sleek_image)\n",
    "    \n",
    "    # Wait for a key press to close the image window\n",
    "    cv2.waitKey(1)  # Press any key to advance to the next image\n",
    "\n",
    "# Close all OpenCV windows after processing\n",
    "cv2.destroyAllWindows()\n",
    "\n",
    "print(f\"Processed images saved in: {pred_folder}\")"
   ]
  },
  {
   "cell_type": "code",
   "execution_count": 1,
   "metadata": {},
   "outputs": [
    {
     "name": "stderr",
     "output_type": "stream",
     "text": [
      "Processing images:   0%|          | 0/201 [00:00<?, ?it/s]"
     ]
    },
    {
     "name": "stdout",
     "output_type": "stream",
     "text": [
      "\n",
      "image 1/1 /Users/varunravi/Desktop/OD/sequences/000002/camera_front_blur/000002_romeo_2022-06-13T10:50:07.785457Z.jpg: 384x640 14 Vehicles, 24.1ms\n",
      "Speed: 1.3ms preprocess, 24.1ms inference, 0.5ms postprocess per image at shape (1, 3, 384, 640)\n"
     ]
    },
    {
     "name": "stderr",
     "output_type": "stream",
     "text": [
      "Processing images:   0%|          | 1/201 [00:00<02:49,  1.18it/s]"
     ]
    },
    {
     "name": "stdout",
     "output_type": "stream",
     "text": [
      "\n",
      "image 1/1 /Users/varunravi/Desktop/OD/sequences/000002/camera_front_blur/000002_romeo_2022-06-13T10:50:16.499809Z.jpg: 384x640 1 TrafficSign, 4 Vehicles, 27.5ms\n",
      "Speed: 1.3ms preprocess, 27.5ms inference, 0.3ms postprocess per image at shape (1, 3, 384, 640)\n"
     ]
    },
    {
     "name": "stderr",
     "output_type": "stream",
     "text": [
      "Processing images:   1%|          | 2/201 [00:00<01:25,  2.34it/s]"
     ]
    },
    {
     "name": "stdout",
     "output_type": "stream",
     "text": [
      "\n",
      "image 1/1 /Users/varunravi/Desktop/OD/sequences/000002/camera_front_blur/000002_romeo_2022-06-13T10:50:00.160399Z.jpg: 384x640 3 Vehicles, 26.0ms\n",
      "Speed: 1.8ms preprocess, 26.0ms inference, 0.3ms postprocess per image at shape (1, 3, 384, 640)\n"
     ]
    },
    {
     "name": "stderr",
     "output_type": "stream",
     "text": [
      "Processing images:   1%|▏         | 3/201 [00:01<00:57,  3.47it/s]"
     ]
    },
    {
     "name": "stdout",
     "output_type": "stream",
     "text": [
      "\n",
      "image 1/1 /Users/varunravi/Desktop/OD/sequences/000002/camera_front_blur/000002_romeo_2022-06-13T10:50:17.093970Z.jpg: 384x640 1 TrafficSign, 4 Vehicles, 25.6ms\n",
      "Speed: 1.5ms preprocess, 25.6ms inference, 0.3ms postprocess per image at shape (1, 3, 384, 640)\n"
     ]
    },
    {
     "name": "stderr",
     "output_type": "stream",
     "text": [
      "Processing images:   2%|▏         | 4/201 [00:01<00:44,  4.42it/s]"
     ]
    },
    {
     "name": "stdout",
     "output_type": "stream",
     "text": [
      "\n",
      "image 1/1 /Users/varunravi/Desktop/OD/sequences/000002/camera_front_blur/000002_romeo_2022-06-13T10:50:05.903949Z.jpg: 384x640 10 Vehicles, 27.1ms\n",
      "Speed: 1.6ms preprocess, 27.1ms inference, 0.3ms postprocess per image at shape (1, 3, 384, 640)\n"
     ]
    },
    {
     "name": "stderr",
     "output_type": "stream",
     "text": [
      "Processing images:   2%|▏         | 5/201 [00:01<00:40,  4.85it/s]"
     ]
    },
    {
     "name": "stdout",
     "output_type": "stream",
     "text": [
      "\n",
      "image 1/1 /Users/varunravi/Desktop/OD/sequences/000002/camera_front_blur/000002_romeo_2022-06-13T10:50:09.865018Z.jpg: 384x640 7 Vehicles, 27.4ms\n",
      "Speed: 1.3ms preprocess, 27.4ms inference, 0.4ms postprocess per image at shape (1, 3, 384, 640)\n"
     ]
    },
    {
     "name": "stderr",
     "output_type": "stream",
     "text": [
      "Processing images:   3%|▎         | 6/201 [00:01<00:36,  5.32it/s]"
     ]
    },
    {
     "name": "stdout",
     "output_type": "stream",
     "text": [
      "\n",
      "image 1/1 /Users/varunravi/Desktop/OD/sequences/000002/camera_front_blur/000002_romeo_2022-06-13T10:49:59.665265Z.jpg: 384x640 4 Vehicles, 22.9ms\n",
      "Speed: 1.5ms preprocess, 22.9ms inference, 0.3ms postprocess per image at shape (1, 3, 384, 640)\n"
     ]
    },
    {
     "name": "stderr",
     "output_type": "stream",
     "text": [
      "Processing images:   3%|▎         | 7/201 [00:01<00:32,  5.91it/s]"
     ]
    },
    {
     "name": "stdout",
     "output_type": "stream",
     "text": [
      "\n",
      "image 1/1 /Users/varunravi/Desktop/OD/sequences/000002/camera_front_blur/000002_romeo_2022-06-13T10:50:09.369885Z.jpg: 384x640 9 Vehicles, 25.5ms\n",
      "Speed: 1.3ms preprocess, 25.5ms inference, 0.3ms postprocess per image at shape (1, 3, 384, 640)\n"
     ]
    },
    {
     "name": "stderr",
     "output_type": "stream",
     "text": [
      "Processing images:   4%|▍         | 8/201 [00:01<00:32,  6.02it/s]"
     ]
    },
    {
     "name": "stdout",
     "output_type": "stream",
     "text": [
      "\n",
      "image 1/1 /Users/varunravi/Desktop/OD/sequences/000002/camera_front_blur/000002_romeo_2022-06-13T10:50:01.348719Z.jpg: 384x640 1 TrafficSign, 6 Vehicles, 26.7ms\n",
      "Speed: 1.6ms preprocess, 26.7ms inference, 0.3ms postprocess per image at shape (1, 3, 384, 640)\n"
     ]
    },
    {
     "name": "stderr",
     "output_type": "stream",
     "text": [
      "Processing images:   4%|▍         | 9/201 [00:01<00:30,  6.22it/s]"
     ]
    },
    {
     "name": "stdout",
     "output_type": "stream",
     "text": [
      "\n",
      "image 1/1 /Users/varunravi/Desktop/OD/sequences/000002/camera_front_blur/000002_romeo_2022-06-13T10:50:06.498110Z.jpg: 384x640 12 Vehicles, 25.7ms\n",
      "Speed: 1.6ms preprocess, 25.7ms inference, 0.3ms postprocess per image at shape (1, 3, 384, 640)\n"
     ]
    },
    {
     "name": "stderr",
     "output_type": "stream",
     "text": [
      "Processing images:   5%|▍         | 10/201 [00:02<00:31,  5.98it/s]"
     ]
    },
    {
     "name": "stdout",
     "output_type": "stream",
     "text": [
      "\n",
      "image 1/1 /Users/varunravi/Desktop/OD/sequences/000002/camera_front_blur/000002_romeo_2022-06-13T10:50:08.577671Z.jpg: 384x640 14 Vehicles, 26.9ms\n",
      "Speed: 1.5ms preprocess, 26.9ms inference, 0.3ms postprocess per image at shape (1, 3, 384, 640)\n"
     ]
    },
    {
     "name": "stderr",
     "output_type": "stream",
     "text": [
      "Processing images:   5%|▌         | 11/201 [00:02<00:33,  5.73it/s]"
     ]
    },
    {
     "name": "stdout",
     "output_type": "stream",
     "text": [
      "\n",
      "image 1/1 /Users/varunravi/Desktop/OD/sequences/000002/camera_front_blur/000002_romeo_2022-06-13T10:49:57.585704Z.jpg: 384x640 5 Vehicles, 25.8ms\n",
      "Speed: 1.7ms preprocess, 25.8ms inference, 0.3ms postprocess per image at shape (1, 3, 384, 640)\n"
     ]
    },
    {
     "name": "stderr",
     "output_type": "stream",
     "text": [
      "Processing images:   6%|▌         | 12/201 [00:02<00:30,  6.12it/s]"
     ]
    },
    {
     "name": "stdout",
     "output_type": "stream",
     "text": [
      "\n",
      "image 1/1 /Users/varunravi/Desktop/OD/sequences/000002/camera_front_blur/000002_romeo_2022-06-13T10:50:10.063072Z.jpg: 384x640 10 Vehicles, 24.2ms\n",
      "Speed: 1.7ms preprocess, 24.2ms inference, 0.5ms postprocess per image at shape (1, 3, 384, 640)\n"
     ]
    },
    {
     "name": "stderr",
     "output_type": "stream",
     "text": [
      "Processing images:   6%|▋         | 13/201 [00:02<00:30,  6.08it/s]"
     ]
    },
    {
     "name": "stdout",
     "output_type": "stream",
     "text": [
      "\n",
      "image 1/1 /Users/varunravi/Desktop/OD/sequences/000002/camera_front_blur/000002_romeo_2022-06-13T10:50:15.410515Z.jpg: 384x640 10 Vehicles, 26.1ms\n",
      "Speed: 1.3ms preprocess, 26.1ms inference, 0.3ms postprocess per image at shape (1, 3, 384, 640)\n"
     ]
    },
    {
     "name": "stderr",
     "output_type": "stream",
     "text": [
      "Processing images:   7%|▋         | 14/201 [00:02<00:29,  6.25it/s]"
     ]
    },
    {
     "name": "stdout",
     "output_type": "stream",
     "text": [
      "\n",
      "image 1/1 /Users/varunravi/Desktop/OD/sequences/000002/camera_front_blur/000002_romeo_2022-06-13T10:50:10.360152Z.jpg: 384x640 8 Vehicles, 24.9ms\n",
      "Speed: 1.2ms preprocess, 24.9ms inference, 0.3ms postprocess per image at shape (1, 3, 384, 640)\n"
     ]
    },
    {
     "name": "stderr",
     "output_type": "stream",
     "text": [
      "Processing images:   7%|▋         | 15/201 [00:02<00:29,  6.36it/s]"
     ]
    },
    {
     "name": "stdout",
     "output_type": "stream",
     "text": [
      "\n",
      "image 1/1 /Users/varunravi/Desktop/OD/sequences/000002/camera_front_blur/000002_romeo_2022-06-13T10:50:06.300056Z.jpg: 384x640 10 Vehicles, 26.1ms\n",
      "Speed: 1.7ms preprocess, 26.1ms inference, 0.3ms postprocess per image at shape (1, 3, 384, 640)\n"
     ]
    },
    {
     "name": "stderr",
     "output_type": "stream",
     "text": [
      "Processing images:   8%|▊         | 16/201 [00:03<00:29,  6.20it/s]"
     ]
    },
    {
     "name": "stdout",
     "output_type": "stream",
     "text": [
      "\n",
      "image 1/1 /Users/varunravi/Desktop/OD/sequences/000002/camera_front_blur/000002_romeo_2022-06-13T10:50:02.636067Z.jpg: 384x640 5 Vehicles, 25.8ms\n",
      "Speed: 1.6ms preprocess, 25.8ms inference, 0.3ms postprocess per image at shape (1, 3, 384, 640)\n"
     ]
    },
    {
     "name": "stderr",
     "output_type": "stream",
     "text": [
      "Processing images:   8%|▊         | 17/201 [00:03<00:28,  6.51it/s]"
     ]
    },
    {
     "name": "stdout",
     "output_type": "stream",
     "text": [
      "\n",
      "image 1/1 /Users/varunravi/Desktop/OD/sequences/000002/camera_front_blur/000002_romeo_2022-06-13T10:50:02.041907Z.jpg: 384x640 1 TrafficSign, 7 Vehicles, 26.5ms\n",
      "Speed: 1.9ms preprocess, 26.5ms inference, 0.3ms postprocess per image at shape (1, 3, 384, 640)\n"
     ]
    },
    {
     "name": "stderr",
     "output_type": "stream",
     "text": [
      "Processing images:   9%|▉         | 18/201 [00:03<00:27,  6.58it/s]"
     ]
    },
    {
     "name": "stdout",
     "output_type": "stream",
     "text": [
      "\n",
      "image 1/1 /Users/varunravi/Desktop/OD/sequences/000002/camera_front_blur/000002_romeo_2022-06-13T10:50:11.152366Z.jpg: 384x640 2 TrafficSigns, 2 Vehicles, 26.9ms\n",
      "Speed: 1.4ms preprocess, 26.9ms inference, 0.3ms postprocess per image at shape (1, 3, 384, 640)\n"
     ]
    },
    {
     "name": "stderr",
     "output_type": "stream",
     "text": [
      "Processing images:   9%|▉         | 19/201 [00:03<00:26,  6.87it/s]"
     ]
    },
    {
     "name": "stdout",
     "output_type": "stream",
     "text": [
      "\n",
      "image 1/1 /Users/varunravi/Desktop/OD/sequences/000002/camera_front_blur/000002_romeo_2022-06-13T10:50:08.082537Z.jpg: 384x640 11 Vehicles, 26.0ms\n",
      "Speed: 1.4ms preprocess, 26.0ms inference, 0.3ms postprocess per image at shape (1, 3, 384, 640)\n"
     ]
    },
    {
     "name": "stderr",
     "output_type": "stream",
     "text": [
      "Processing images:  10%|▉         | 20/201 [00:03<00:28,  6.45it/s]"
     ]
    },
    {
     "name": "stdout",
     "output_type": "stream",
     "text": [
      "\n",
      "image 1/1 /Users/varunravi/Desktop/OD/sequences/000002/camera_front_blur/000002_romeo_2022-06-13T10:50:14.519275Z.jpg: 384x640 4 Vehicles, 24.7ms\n",
      "Speed: 2.0ms preprocess, 24.7ms inference, 0.3ms postprocess per image at shape (1, 3, 384, 640)\n"
     ]
    },
    {
     "name": "stderr",
     "output_type": "stream",
     "text": [
      "Processing images:  10%|█         | 21/201 [00:03<00:26,  6.81it/s]"
     ]
    },
    {
     "name": "stdout",
     "output_type": "stream",
     "text": [
      "\n",
      "image 1/1 /Users/varunravi/Desktop/OD/sequences/000002/camera_front_blur/000002_romeo_2022-06-13T10:50:03.131201Z.jpg: 384x640 5 Vehicles, 26.9ms\n",
      "Speed: 2.0ms preprocess, 26.9ms inference, 0.4ms postprocess per image at shape (1, 3, 384, 640)\n"
     ]
    },
    {
     "name": "stderr",
     "output_type": "stream",
     "text": [
      "Processing images:  11%|█         | 22/201 [00:04<00:25,  6.95it/s]"
     ]
    },
    {
     "name": "stdout",
     "output_type": "stream",
     "text": [
      "\n",
      "image 1/1 /Users/varunravi/Desktop/OD/sequences/000002/camera_front_blur/000002_romeo_2022-06-13T10:50:08.478644Z.jpg: 384x640 10 Vehicles, 25.7ms\n",
      "Speed: 1.5ms preprocess, 25.7ms inference, 0.3ms postprocess per image at shape (1, 3, 384, 640)\n"
     ]
    },
    {
     "name": "stderr",
     "output_type": "stream",
     "text": [
      "Processing images:  11%|█▏        | 23/201 [00:04<00:26,  6.61it/s]"
     ]
    },
    {
     "name": "stdout",
     "output_type": "stream",
     "text": [
      "\n",
      "image 1/1 /Users/varunravi/Desktop/OD/sequences/000002/camera_front_blur/000002_romeo_2022-06-13T10:50:04.121468Z.jpg: 384x640 2 Vehicles, 25.0ms\n",
      "Speed: 2.1ms preprocess, 25.0ms inference, 0.3ms postprocess per image at shape (1, 3, 384, 640)\n"
     ]
    },
    {
     "name": "stderr",
     "output_type": "stream",
     "text": [
      "Processing images:  12%|█▏        | 24/201 [00:04<00:24,  7.09it/s]"
     ]
    },
    {
     "name": "stdout",
     "output_type": "stream",
     "text": [
      "\n",
      "image 1/1 /Users/varunravi/Desktop/OD/sequences/000002/camera_front_blur/000002_romeo_2022-06-13T10:49:58.873051Z.jpg: 384x640 5 Vehicles, 25.9ms\n",
      "Speed: 1.7ms preprocess, 25.9ms inference, 0.3ms postprocess per image at shape (1, 3, 384, 640)\n"
     ]
    },
    {
     "name": "stderr",
     "output_type": "stream",
     "text": [
      "Processing images:  12%|█▏        | 25/201 [00:04<00:24,  7.20it/s]"
     ]
    },
    {
     "name": "stdout",
     "output_type": "stream",
     "text": [
      "\n",
      "image 1/1 /Users/varunravi/Desktop/OD/sequences/000002/camera_front_blur/000002_romeo_2022-06-13T10:50:12.439713Z.jpg: 384x640 1 TrafficSign, 4 Vehicles, 25.3ms\n",
      "Speed: 1.3ms preprocess, 25.3ms inference, 0.3ms postprocess per image at shape (1, 3, 384, 640)\n"
     ]
    },
    {
     "name": "stderr",
     "output_type": "stream",
     "text": [
      "Processing images:  13%|█▎        | 26/201 [00:04<00:23,  7.51it/s]"
     ]
    },
    {
     "name": "stdout",
     "output_type": "stream",
     "text": [
      "\n",
      "image 1/1 /Users/varunravi/Desktop/OD/sequences/000002/camera_front_blur/000002_romeo_2022-06-13T10:50:03.923414Z.jpg: 384x640 4 Vehicles, 24.9ms\n",
      "Speed: 1.5ms preprocess, 24.9ms inference, 0.3ms postprocess per image at shape (1, 3, 384, 640)\n"
     ]
    },
    {
     "name": "stderr",
     "output_type": "stream",
     "text": [
      "Processing images:  13%|█▎        | 27/201 [00:04<00:22,  7.64it/s]"
     ]
    },
    {
     "name": "stdout",
     "output_type": "stream",
     "text": [
      "\n",
      "image 1/1 /Users/varunravi/Desktop/OD/sequences/000002/camera_front_blur/000002_romeo_2022-06-13T10:50:10.954313Z.jpg: 384x640 1 TrafficSign, 3 Vehicles, 40.0ms\n",
      "Speed: 1.3ms preprocess, 40.0ms inference, 0.3ms postprocess per image at shape (1, 3, 384, 640)\n"
     ]
    },
    {
     "name": "stderr",
     "output_type": "stream",
     "text": [
      "Processing images:  14%|█▍        | 28/201 [00:04<00:23,  7.48it/s]"
     ]
    },
    {
     "name": "stdout",
     "output_type": "stream",
     "text": [
      "\n",
      "image 1/1 /Users/varunravi/Desktop/OD/sequences/000002/camera_front_blur/000002_romeo_2022-06-13T10:49:57.684730Z.jpg: 384x640 5 Vehicles, 24.5ms\n",
      "Speed: 1.5ms preprocess, 24.5ms inference, 0.3ms postprocess per image at shape (1, 3, 384, 640)\n"
     ]
    },
    {
     "name": "stderr",
     "output_type": "stream",
     "text": [
      "Processing images:  14%|█▍        | 29/201 [00:04<00:23,  7.39it/s]"
     ]
    },
    {
     "name": "stdout",
     "output_type": "stream",
     "text": [
      "\n",
      "image 1/1 /Users/varunravi/Desktop/OD/sequences/000002/camera_front_blur/000002_romeo_2022-06-13T10:50:15.113435Z.jpg: 384x640 8 Vehicles, 24.1ms\n",
      "Speed: 1.8ms preprocess, 24.1ms inference, 0.3ms postprocess per image at shape (1, 3, 384, 640)\n"
     ]
    },
    {
     "name": "stderr",
     "output_type": "stream",
     "text": [
      "Processing images:  15%|█▍        | 30/201 [00:05<00:24,  7.10it/s]"
     ]
    },
    {
     "name": "stdout",
     "output_type": "stream",
     "text": [
      "\n",
      "image 1/1 /Users/varunravi/Desktop/OD/sequences/000002/camera_front_blur/000002_romeo_2022-06-13T10:50:15.905649Z.jpg: 384x640 1 TrafficSign, 7 Vehicles, 26.5ms\n",
      "Speed: 1.5ms preprocess, 26.5ms inference, 0.3ms postprocess per image at shape (1, 3, 384, 640)\n"
     ]
    },
    {
     "name": "stderr",
     "output_type": "stream",
     "text": [
      "Processing images:  15%|█▌        | 31/201 [00:05<00:24,  6.95it/s]"
     ]
    },
    {
     "name": "stdout",
     "output_type": "stream",
     "text": [
      "\n",
      "image 1/1 /Users/varunravi/Desktop/OD/sequences/000002/camera_front_blur/000002_romeo_2022-06-13T10:50:03.428281Z.jpg: 384x640 4 Vehicles, 28.4ms\n",
      "Speed: 1.8ms preprocess, 28.4ms inference, 0.3ms postprocess per image at shape (1, 3, 384, 640)\n"
     ]
    },
    {
     "name": "stderr",
     "output_type": "stream",
     "text": [
      "Processing images:  16%|█▌        | 32/201 [00:05<00:23,  7.09it/s]"
     ]
    },
    {
     "name": "stdout",
     "output_type": "stream",
     "text": [
      "\n",
      "image 1/1 /Users/varunravi/Desktop/OD/sequences/000002/camera_front_blur/000002_romeo_2022-06-13T10:50:16.994943Z.jpg: 384x640 1 TrafficSign, 4 Vehicles, 24.0ms\n",
      "Speed: 1.7ms preprocess, 24.0ms inference, 0.4ms postprocess per image at shape (1, 3, 384, 640)\n"
     ]
    },
    {
     "name": "stderr",
     "output_type": "stream",
     "text": [
      "Processing images:  16%|█▋        | 33/201 [00:05<00:23,  7.23it/s]"
     ]
    },
    {
     "name": "stdout",
     "output_type": "stream",
     "text": [
      "\n",
      "image 1/1 /Users/varunravi/Desktop/OD/sequences/000002/camera_front_blur/000002_romeo_2022-06-13T10:50:09.666965Z.jpg: 384x640 10 Vehicles, 26.2ms\n",
      "Speed: 1.7ms preprocess, 26.2ms inference, 0.3ms postprocess per image at shape (1, 3, 384, 640)\n"
     ]
    },
    {
     "name": "stderr",
     "output_type": "stream",
     "text": [
      "Processing images:  17%|█▋        | 34/201 [00:05<00:24,  6.80it/s]"
     ]
    },
    {
     "name": "stdout",
     "output_type": "stream",
     "text": [
      "\n",
      "image 1/1 /Users/varunravi/Desktop/OD/sequences/000002/camera_front_blur/000002_romeo_2022-06-13T10:50:04.319521Z.jpg: 384x640 5 Vehicles, 25.7ms\n",
      "Speed: 1.6ms preprocess, 25.7ms inference, 0.4ms postprocess per image at shape (1, 3, 384, 640)\n"
     ]
    },
    {
     "name": "stderr",
     "output_type": "stream",
     "text": [
      "Processing images:  17%|█▋        | 35/201 [00:05<00:23,  6.97it/s]"
     ]
    },
    {
     "name": "stdout",
     "output_type": "stream",
     "text": [
      "\n",
      "image 1/1 /Users/varunravi/Desktop/OD/sequences/000002/camera_front_blur/000002_romeo_2022-06-13T10:50:07.290323Z.jpg: 384x640 9 Vehicles, 24.9ms\n",
      "Speed: 1.2ms preprocess, 24.9ms inference, 0.3ms postprocess per image at shape (1, 3, 384, 640)\n"
     ]
    },
    {
     "name": "stderr",
     "output_type": "stream",
     "text": [
      "Processing images:  18%|█▊        | 36/201 [00:05<00:24,  6.72it/s]"
     ]
    },
    {
     "name": "stdout",
     "output_type": "stream",
     "text": [
      "\n",
      "image 1/1 /Users/varunravi/Desktop/OD/sequences/000002/camera_front_blur/000002_romeo_2022-06-13T10:50:00.259425Z.jpg: 384x640 4 Vehicles, 25.5ms\n",
      "Speed: 1.6ms preprocess, 25.5ms inference, 0.3ms postprocess per image at shape (1, 3, 384, 640)\n"
     ]
    },
    {
     "name": "stderr",
     "output_type": "stream",
     "text": [
      "Processing images:  18%|█▊        | 37/201 [00:06<00:23,  6.96it/s]"
     ]
    },
    {
     "name": "stdout",
     "output_type": "stream",
     "text": [
      "\n",
      "image 1/1 /Users/varunravi/Desktop/OD/sequences/000002/camera_front_blur/000002_romeo_2022-06-13T10:50:14.816355Z.jpg: 384x640 6 Vehicles, 24.9ms\n",
      "Speed: 1.9ms preprocess, 24.9ms inference, 0.3ms postprocess per image at shape (1, 3, 384, 640)\n"
     ]
    },
    {
     "name": "stderr",
     "output_type": "stream",
     "text": [
      "Processing images:  19%|█▉        | 38/201 [00:06<00:22,  7.24it/s]"
     ]
    },
    {
     "name": "stdout",
     "output_type": "stream",
     "text": [
      "\n",
      "image 1/1 /Users/varunravi/Desktop/OD/sequences/000002/camera_front_blur/000002_romeo_2022-06-13T10:50:04.616602Z.jpg: 384x640 7 Vehicles, 25.6ms\n",
      "Speed: 1.5ms preprocess, 25.6ms inference, 0.3ms postprocess per image at shape (1, 3, 384, 640)\n"
     ]
    },
    {
     "name": "stderr",
     "output_type": "stream",
     "text": [
      "Processing images:  19%|█▉        | 39/201 [00:06<00:22,  7.12it/s]"
     ]
    },
    {
     "name": "stdout",
     "output_type": "stream",
     "text": [
      "\n",
      "image 1/1 /Users/varunravi/Desktop/OD/sequences/000002/camera_front_blur/000002_romeo_2022-06-13T10:50:06.102003Z.jpg: 384x640 8 Vehicles, 1 TrafficGuide, 25.1ms\n",
      "Speed: 1.4ms preprocess, 25.1ms inference, 0.3ms postprocess per image at shape (1, 3, 384, 640)\n"
     ]
    },
    {
     "name": "stderr",
     "output_type": "stream",
     "text": [
      "Processing images:  20%|█▉        | 40/201 [00:06<00:23,  6.79it/s]"
     ]
    },
    {
     "name": "stdout",
     "output_type": "stream",
     "text": [
      "\n",
      "image 1/1 /Users/varunravi/Desktop/OD/sequences/000002/camera_front_blur/000002_romeo_2022-06-13T10:50:05.210762Z.jpg: 384x640 7 Vehicles, 24.8ms\n",
      "Speed: 1.7ms preprocess, 24.8ms inference, 0.3ms postprocess per image at shape (1, 3, 384, 640)\n"
     ]
    },
    {
     "name": "stderr",
     "output_type": "stream",
     "text": [
      "Processing images:  20%|██        | 41/201 [00:06<00:23,  6.81it/s]"
     ]
    },
    {
     "name": "stdout",
     "output_type": "stream",
     "text": [
      "\n",
      "image 1/1 /Users/varunravi/Desktop/OD/sequences/000002/camera_front_blur/000002_romeo_2022-06-13T10:50:03.527308Z.jpg: 384x640 4 Vehicles, 26.4ms\n",
      "Speed: 2.5ms preprocess, 26.4ms inference, 0.3ms postprocess per image at shape (1, 3, 384, 640)\n"
     ]
    },
    {
     "name": "stderr",
     "output_type": "stream",
     "text": [
      "Processing images:  21%|██        | 42/201 [00:06<00:22,  7.08it/s]"
     ]
    },
    {
     "name": "stdout",
     "output_type": "stream",
     "text": [
      "\n",
      "image 1/1 /Users/varunravi/Desktop/OD/sequences/000002/camera_front_blur/000002_romeo_2022-06-13T10:50:09.964045Z.jpg: 384x640 1 TrafficSign, 10 Vehicles, 1 TrafficSignal, 25.0ms\n",
      "Speed: 1.3ms preprocess, 25.0ms inference, 0.3ms postprocess per image at shape (1, 3, 384, 640)\n"
     ]
    },
    {
     "name": "stderr",
     "output_type": "stream",
     "text": [
      "Processing images:  21%|██▏       | 43/201 [00:06<00:24,  6.58it/s]"
     ]
    },
    {
     "name": "stdout",
     "output_type": "stream",
     "text": [
      "\n",
      "image 1/1 /Users/varunravi/Desktop/OD/sequences/000002/camera_front_blur/000002_romeo_2022-06-13T10:50:02.735094Z.jpg: 384x640 7 Vehicles, 25.5ms\n",
      "Speed: 1.8ms preprocess, 25.5ms inference, 0.3ms postprocess per image at shape (1, 3, 384, 640)\n"
     ]
    },
    {
     "name": "stderr",
     "output_type": "stream",
     "text": [
      "Processing images:  22%|██▏       | 44/201 [00:07<00:23,  6.65it/s]"
     ]
    },
    {
     "name": "stdout",
     "output_type": "stream",
     "text": [
      "\n",
      "image 1/1 /Users/varunravi/Desktop/OD/sequences/000002/camera_front_blur/000002_romeo_2022-06-13T10:50:17.391050Z.jpg: 384x640 1 TrafficSign, 6 Vehicles, 26.0ms\n",
      "Speed: 1.4ms preprocess, 26.0ms inference, 0.3ms postprocess per image at shape (1, 3, 384, 640)\n"
     ]
    },
    {
     "name": "stderr",
     "output_type": "stream",
     "text": [
      "Processing images:  22%|██▏       | 45/201 [00:07<00:23,  6.72it/s]"
     ]
    },
    {
     "name": "stdout",
     "output_type": "stream",
     "text": [
      "\n",
      "image 1/1 /Users/varunravi/Desktop/OD/sequences/000002/camera_front_blur/000002_romeo_2022-06-13T10:50:03.725361Z.jpg: 384x640 3 Vehicles, 25.9ms\n",
      "Speed: 1.8ms preprocess, 25.9ms inference, 0.3ms postprocess per image at shape (1, 3, 384, 640)\n"
     ]
    },
    {
     "name": "stderr",
     "output_type": "stream",
     "text": [
      "Processing images:  23%|██▎       | 46/201 [00:07<00:21,  7.10it/s]"
     ]
    },
    {
     "name": "stdout",
     "output_type": "stream",
     "text": [
      "\n",
      "image 1/1 /Users/varunravi/Desktop/OD/sequences/000002/camera_front_blur/000002_romeo_2022-06-13T10:50:15.509542Z.jpg: 384x640 9 Vehicles, 26.1ms\n",
      "Speed: 1.4ms preprocess, 26.1ms inference, 0.3ms postprocess per image at shape (1, 3, 384, 640)\n"
     ]
    },
    {
     "name": "stderr",
     "output_type": "stream",
     "text": [
      "Processing images:  23%|██▎       | 47/201 [00:07<00:22,  6.87it/s]"
     ]
    },
    {
     "name": "stdout",
     "output_type": "stream",
     "text": [
      "\n",
      "image 1/1 /Users/varunravi/Desktop/OD/sequences/000002/camera_front_blur/000002_romeo_2022-06-13T10:50:01.744826Z.jpg: 384x640 1 TrafficSign, 7 Vehicles, 24.8ms\n",
      "Speed: 1.7ms preprocess, 24.8ms inference, 0.4ms postprocess per image at shape (1, 3, 384, 640)\n"
     ]
    },
    {
     "name": "stderr",
     "output_type": "stream",
     "text": [
      "Processing images:  24%|██▍       | 48/201 [00:07<00:22,  6.77it/s]"
     ]
    },
    {
     "name": "stdout",
     "output_type": "stream",
     "text": [
      "\n",
      "image 1/1 /Users/varunravi/Desktop/OD/sequences/000002/camera_front_blur/000002_romeo_2022-06-13T10:50:04.220495Z.jpg: 384x640 3 Vehicles, 23.8ms\n",
      "Speed: 1.7ms preprocess, 23.8ms inference, 0.3ms postprocess per image at shape (1, 3, 384, 640)\n"
     ]
    },
    {
     "name": "stderr",
     "output_type": "stream",
     "text": [
      "Processing images:  24%|██▍       | 49/201 [00:07<00:21,  7.17it/s]"
     ]
    },
    {
     "name": "stdout",
     "output_type": "stream",
     "text": [
      "\n",
      "image 1/1 /Users/varunravi/Desktop/OD/sequences/000002/camera_front_blur/000002_romeo_2022-06-13T10:49:57.882784Z.jpg: 384x640 1 TrafficSign, 7 Vehicles, 25.2ms\n",
      "Speed: 1.8ms preprocess, 25.2ms inference, 0.3ms postprocess per image at shape (1, 3, 384, 640)\n"
     ]
    },
    {
     "name": "stderr",
     "output_type": "stream",
     "text": [
      "Processing images:  25%|██▍       | 50/201 [00:07<00:21,  7.10it/s]"
     ]
    },
    {
     "name": "stdout",
     "output_type": "stream",
     "text": [
      "\n",
      "image 1/1 /Users/varunravi/Desktop/OD/sequences/000002/camera_front_blur/000002_romeo_2022-06-13T10:50:07.191297Z.jpg: 384x640 10 Vehicles, 37.8ms\n",
      "Speed: 1.8ms preprocess, 37.8ms inference, 0.3ms postprocess per image at shape (1, 3, 384, 640)\n"
     ]
    },
    {
     "name": "stderr",
     "output_type": "stream",
     "text": [
      "Processing images:  25%|██▌       | 51/201 [00:08<00:22,  6.54it/s]"
     ]
    },
    {
     "name": "stdout",
     "output_type": "stream",
     "text": [
      "\n",
      "image 1/1 /Users/varunravi/Desktop/OD/sequences/000002/camera_front_blur/000002_romeo_2022-06-13T10:50:16.202729Z.jpg: 384x640 1 TrafficSign, 4 Vehicles, 26.3ms\n",
      "Speed: 1.3ms preprocess, 26.3ms inference, 0.3ms postprocess per image at shape (1, 3, 384, 640)\n"
     ]
    },
    {
     "name": "stderr",
     "output_type": "stream",
     "text": [
      "Processing images:  26%|██▌       | 52/201 [00:08<00:21,  6.79it/s]"
     ]
    },
    {
     "name": "stdout",
     "output_type": "stream",
     "text": [
      "\n",
      "image 1/1 /Users/varunravi/Desktop/OD/sequences/000002/camera_front_blur/000002_romeo_2022-06-13T10:50:06.894216Z.jpg: 384x640 7 Vehicles, 25.9ms\n",
      "Speed: 1.7ms preprocess, 25.9ms inference, 0.3ms postprocess per image at shape (1, 3, 384, 640)\n"
     ]
    },
    {
     "name": "stderr",
     "output_type": "stream",
     "text": [
      "Processing images:  26%|██▋       | 53/201 [00:08<00:21,  6.73it/s]"
     ]
    },
    {
     "name": "stdout",
     "output_type": "stream",
     "text": [
      "\n",
      "image 1/1 /Users/varunravi/Desktop/OD/sequences/000002/camera_front_blur/000002_romeo_2022-06-13T10:50:13.925114Z.jpg: 384x640 8 Vehicles, 25.9ms\n",
      "Speed: 1.3ms preprocess, 25.9ms inference, 0.3ms postprocess per image at shape (1, 3, 384, 640)\n"
     ]
    },
    {
     "name": "stderr",
     "output_type": "stream",
     "text": [
      "Processing images:  27%|██▋       | 54/201 [00:08<00:22,  6.68it/s]"
     ]
    },
    {
     "name": "stdout",
     "output_type": "stream",
     "text": [
      "\n",
      "image 1/1 /Users/varunravi/Desktop/OD/sequences/000002/camera_front_blur/000002_romeo_2022-06-13T10:50:12.142633Z.jpg: 384x640 1 TrafficSign, 4 Vehicles, 26.3ms\n",
      "Speed: 1.4ms preprocess, 26.3ms inference, 0.3ms postprocess per image at shape (1, 3, 384, 640)\n"
     ]
    },
    {
     "name": "stderr",
     "output_type": "stream",
     "text": [
      "Processing images:  27%|██▋       | 55/201 [00:08<00:20,  6.97it/s]"
     ]
    },
    {
     "name": "stdout",
     "output_type": "stream",
     "text": [
      "\n",
      "image 1/1 /Users/varunravi/Desktop/OD/sequences/000002/camera_front_blur/000002_romeo_2022-06-13T10:50:06.002976Z.jpg: 384x640 9 Vehicles, 25.6ms\n",
      "Speed: 2.3ms preprocess, 25.6ms inference, 0.3ms postprocess per image at shape (1, 3, 384, 640)\n"
     ]
    },
    {
     "name": "stderr",
     "output_type": "stream",
     "text": [
      "Processing images:  28%|██▊       | 56/201 [00:08<00:21,  6.68it/s]"
     ]
    },
    {
     "name": "stdout",
     "output_type": "stream",
     "text": [
      "\n",
      "image 1/1 /Users/varunravi/Desktop/OD/sequences/000002/camera_front_blur/000002_romeo_2022-06-13T10:50:10.657232Z.jpg: 384x640 6 Vehicles, 25.5ms\n",
      "Speed: 1.4ms preprocess, 25.5ms inference, 0.3ms postprocess per image at shape (1, 3, 384, 640)\n"
     ]
    },
    {
     "name": "stderr",
     "output_type": "stream",
     "text": [
      "Processing images:  28%|██▊       | 57/201 [00:09<00:21,  6.79it/s]"
     ]
    },
    {
     "name": "stdout",
     "output_type": "stream",
     "text": [
      "\n",
      "image 1/1 /Users/varunravi/Desktop/OD/sequences/000002/camera_front_blur/000002_romeo_2022-06-13T10:50:01.447746Z.jpg: 384x640 1 TrafficSign, 7 Vehicles, 25.0ms\n",
      "Speed: 1.9ms preprocess, 25.0ms inference, 0.3ms postprocess per image at shape (1, 3, 384, 640)\n"
     ]
    },
    {
     "name": "stderr",
     "output_type": "stream",
     "text": [
      "Processing images:  29%|██▉       | 58/201 [00:09<00:21,  6.74it/s]"
     ]
    },
    {
     "name": "stdout",
     "output_type": "stream",
     "text": [
      "\n",
      "image 1/1 /Users/varunravi/Desktop/OD/sequences/000002/camera_front_blur/000002_romeo_2022-06-13T10:49:58.179864Z.jpg: 384x640 7 Vehicles, 24.4ms\n",
      "Speed: 2.1ms preprocess, 24.4ms inference, 0.3ms postprocess per image at shape (1, 3, 384, 640)\n"
     ]
    },
    {
     "name": "stderr",
     "output_type": "stream",
     "text": [
      "Processing images:  29%|██▉       | 59/201 [00:09<00:21,  6.75it/s]"
     ]
    },
    {
     "name": "stdout",
     "output_type": "stream",
     "text": [
      "\n",
      "image 1/1 /Users/varunravi/Desktop/OD/sequences/000002/camera_front_blur/000002_romeo_2022-06-13T10:50:14.321221Z.jpg: 384x640 5 Vehicles, 25.5ms\n",
      "Speed: 1.3ms preprocess, 25.5ms inference, 0.3ms postprocess per image at shape (1, 3, 384, 640)\n"
     ]
    },
    {
     "name": "stderr",
     "output_type": "stream",
     "text": [
      "Processing images:  30%|██▉       | 60/201 [00:09<00:20,  6.95it/s]"
     ]
    },
    {
     "name": "stdout",
     "output_type": "stream",
     "text": [
      "\n",
      "image 1/1 /Users/varunravi/Desktop/OD/sequences/000002/camera_front_blur/000002_romeo_2022-06-13T10:50:16.796890Z.jpg: 384x640 1 TrafficSign, 6 Vehicles, 26.2ms\n",
      "Speed: 1.3ms preprocess, 26.2ms inference, 0.4ms postprocess per image at shape (1, 3, 384, 640)\n"
     ]
    },
    {
     "name": "stderr",
     "output_type": "stream",
     "text": [
      "Processing images:  30%|███       | 61/201 [00:09<00:20,  6.99it/s]"
     ]
    },
    {
     "name": "stdout",
     "output_type": "stream",
     "text": [
      "\n",
      "image 1/1 /Users/varunravi/Desktop/OD/sequences/000002/camera_front_blur/000002_romeo_2022-06-13T10:50:01.051639Z.jpg: 384x640 6 Vehicles, 25.6ms\n",
      "Speed: 1.5ms preprocess, 25.6ms inference, 0.3ms postprocess per image at shape (1, 3, 384, 640)\n"
     ]
    },
    {
     "name": "stderr",
     "output_type": "stream",
     "text": [
      "Processing images:  31%|███       | 62/201 [00:09<00:19,  7.22it/s]"
     ]
    },
    {
     "name": "stdout",
     "output_type": "stream",
     "text": [
      "\n",
      "image 1/1 /Users/varunravi/Desktop/OD/sequences/000002/camera_front_blur/000002_romeo_2022-06-13T10:50:12.241660Z.jpg: 384x640 1 TrafficSign, 3 Vehicles, 26.5ms\n",
      "Speed: 1.3ms preprocess, 26.5ms inference, 0.3ms postprocess per image at shape (1, 3, 384, 640)\n"
     ]
    },
    {
     "name": "stderr",
     "output_type": "stream",
     "text": [
      "Processing images:  31%|███▏      | 63/201 [00:09<00:18,  7.41it/s]"
     ]
    },
    {
     "name": "stdout",
     "output_type": "stream",
     "text": [
      "\n",
      "image 1/1 /Users/varunravi/Desktop/OD/sequences/000002/camera_front_blur/000002_romeo_2022-06-13T10:50:15.311489Z.jpg: 384x640 9 Vehicles, 25.3ms\n",
      "Speed: 1.8ms preprocess, 25.3ms inference, 0.3ms postprocess per image at shape (1, 3, 384, 640)\n"
     ]
    },
    {
     "name": "stderr",
     "output_type": "stream",
     "text": [
      "Processing images:  32%|███▏      | 64/201 [00:10<00:19,  7.11it/s]"
     ]
    },
    {
     "name": "stdout",
     "output_type": "stream",
     "text": [
      "\n",
      "image 1/1 /Users/varunravi/Desktop/OD/sequences/000002/camera_front_blur/000002_romeo_2022-06-13T10:50:13.826088Z.jpg: 384x640 8 Vehicles, 26.8ms\n",
      "Speed: 1.2ms preprocess, 26.8ms inference, 0.3ms postprocess per image at shape (1, 3, 384, 640)\n"
     ]
    },
    {
     "name": "stderr",
     "output_type": "stream",
     "text": [
      "Processing images:  32%|███▏      | 65/201 [00:10<00:19,  7.02it/s]"
     ]
    },
    {
     "name": "stdout",
     "output_type": "stream",
     "text": [
      "\n",
      "image 1/1 /Users/varunravi/Desktop/OD/sequences/000002/camera_front_blur/000002_romeo_2022-06-13T10:50:00.358452Z.jpg: 384x640 7 Vehicles, 36.4ms\n",
      "Speed: 2.0ms preprocess, 36.4ms inference, 0.3ms postprocess per image at shape (1, 3, 384, 640)\n"
     ]
    },
    {
     "name": "stderr",
     "output_type": "stream",
     "text": [
      "Processing images:  33%|███▎      | 66/201 [00:10<00:19,  6.76it/s]"
     ]
    },
    {
     "name": "stdout",
     "output_type": "stream",
     "text": [
      "\n",
      "image 1/1 /Users/varunravi/Desktop/OD/sequences/000002/camera_front_blur/000002_romeo_2022-06-13T10:49:58.080837Z.jpg: 384x640 7 Vehicles, 26.7ms\n",
      "Speed: 1.8ms preprocess, 26.7ms inference, 0.3ms postprocess per image at shape (1, 3, 384, 640)\n"
     ]
    },
    {
     "name": "stderr",
     "output_type": "stream",
     "text": [
      "Processing images:  33%|███▎      | 67/201 [00:10<00:19,  6.75it/s]"
     ]
    },
    {
     "name": "stdout",
     "output_type": "stream",
     "text": [
      "\n",
      "image 1/1 /Users/varunravi/Desktop/OD/sequences/000002/camera_front_blur/000002_romeo_2022-06-13T10:50:06.993243Z.jpg: 384x640 7 Vehicles, 2 VulnerableVehicles, 26.7ms\n",
      "Speed: 1.3ms preprocess, 26.7ms inference, 0.4ms postprocess per image at shape (1, 3, 384, 640)\n"
     ]
    },
    {
     "name": "stderr",
     "output_type": "stream",
     "text": [
      "Processing images:  34%|███▍      | 68/201 [00:10<00:20,  6.52it/s]"
     ]
    },
    {
     "name": "stdout",
     "output_type": "stream",
     "text": [
      "\n",
      "image 1/1 /Users/varunravi/Desktop/OD/sequences/000002/camera_front_blur/000002_romeo_2022-06-13T10:50:07.686430Z.jpg: 384x640 8 Vehicles, 24.8ms\n",
      "Speed: 1.7ms preprocess, 24.8ms inference, 0.3ms postprocess per image at shape (1, 3, 384, 640)\n"
     ]
    },
    {
     "name": "stderr",
     "output_type": "stream",
     "text": [
      "Processing images:  34%|███▍      | 69/201 [00:10<00:20,  6.52it/s]"
     ]
    },
    {
     "name": "stdout",
     "output_type": "stream",
     "text": [
      "\n",
      "image 1/1 /Users/varunravi/Desktop/OD/sequences/000002/camera_front_blur/000002_romeo_2022-06-13T10:50:11.449446Z.jpg: 384x640 1 TrafficSign, 4 Vehicles, 26.7ms\n",
      "Speed: 1.4ms preprocess, 26.7ms inference, 0.3ms postprocess per image at shape (1, 3, 384, 640)\n"
     ]
    },
    {
     "name": "stderr",
     "output_type": "stream",
     "text": [
      "Processing images:  35%|███▍      | 70/201 [00:11<00:30,  4.35it/s]"
     ]
    },
    {
     "name": "stdout",
     "output_type": "stream",
     "text": [
      "\n",
      "image 1/1 /Users/varunravi/Desktop/OD/sequences/000002/camera_front_blur/000002_romeo_2022-06-13T10:50:01.249693Z.jpg: 384x640 6 Vehicles, 25.7ms\n",
      "Speed: 1.3ms preprocess, 25.7ms inference, 0.3ms postprocess per image at shape (1, 3, 384, 640)\n"
     ]
    },
    {
     "name": "stderr",
     "output_type": "stream",
     "text": [
      "Processing images:  35%|███▌      | 71/201 [00:11<00:26,  4.86it/s]"
     ]
    },
    {
     "name": "stdout",
     "output_type": "stream",
     "text": [
      "\n",
      "image 1/1 /Users/varunravi/Desktop/OD/sequences/000002/camera_front_blur/000002_romeo_2022-06-13T10:50:02.834120Z.jpg: 384x640 6 Vehicles, 24.6ms\n",
      "Speed: 1.7ms preprocess, 24.6ms inference, 0.3ms postprocess per image at shape (1, 3, 384, 640)\n"
     ]
    },
    {
     "name": "stderr",
     "output_type": "stream",
     "text": [
      "Processing images:  36%|███▌      | 72/201 [00:11<00:23,  5.40it/s]"
     ]
    },
    {
     "name": "stdout",
     "output_type": "stream",
     "text": [
      "\n",
      "image 1/1 /Users/varunravi/Desktop/OD/sequences/000002/camera_front_blur/000002_romeo_2022-06-13T10:50:16.697863Z.jpg: 384x640 1 TrafficSign, 4 Vehicles, 26.8ms\n",
      "Speed: 1.4ms preprocess, 26.8ms inference, 0.3ms postprocess per image at shape (1, 3, 384, 640)\n"
     ]
    },
    {
     "name": "stderr",
     "output_type": "stream",
     "text": [
      "Processing images:  36%|███▋      | 73/201 [00:11<00:21,  5.89it/s]"
     ]
    },
    {
     "name": "stdout",
     "output_type": "stream",
     "text": [
      "\n",
      "image 1/1 /Users/varunravi/Desktop/OD/sequences/000002/camera_front_blur/000002_romeo_2022-06-13T10:49:59.071105Z.jpg: 384x640 4 Vehicles, 26.1ms\n",
      "Speed: 1.7ms preprocess, 26.1ms inference, 0.3ms postprocess per image at shape (1, 3, 384, 640)\n"
     ]
    },
    {
     "name": "stderr",
     "output_type": "stream",
     "text": [
      "Processing images:  37%|███▋      | 74/201 [00:11<00:19,  6.48it/s]"
     ]
    },
    {
     "name": "stdout",
     "output_type": "stream",
     "text": [
      "\n",
      "image 1/1 /Users/varunravi/Desktop/OD/sequences/000002/camera_front_blur/000002_romeo_2022-06-13T10:50:15.806622Z.jpg: 384x640 1 TrafficSign, 9 Vehicles, 25.7ms\n",
      "Speed: 2.0ms preprocess, 25.7ms inference, 0.3ms postprocess per image at shape (1, 3, 384, 640)\n"
     ]
    },
    {
     "name": "stderr",
     "output_type": "stream",
     "text": [
      "Processing images:  37%|███▋      | 75/201 [00:11<00:19,  6.34it/s]"
     ]
    },
    {
     "name": "stdout",
     "output_type": "stream",
     "text": [
      "\n",
      "image 1/1 /Users/varunravi/Desktop/OD/sequences/000002/camera_front_blur/000002_romeo_2022-06-13T10:50:14.618302Z.jpg: 384x640 4 Vehicles, 25.6ms\n",
      "Speed: 1.5ms preprocess, 25.6ms inference, 0.3ms postprocess per image at shape (1, 3, 384, 640)\n"
     ]
    },
    {
     "name": "stderr",
     "output_type": "stream",
     "text": [
      "Processing images:  38%|███▊      | 76/201 [00:12<00:18,  6.76it/s]"
     ]
    },
    {
     "name": "stdout",
     "output_type": "stream",
     "text": [
      "\n",
      "image 1/1 /Users/varunravi/Desktop/OD/sequences/000002/camera_front_blur/000002_romeo_2022-06-13T10:50:00.952612Z.jpg: 384x640 5 Vehicles, 26.6ms\n",
      "Speed: 1.3ms preprocess, 26.6ms inference, 0.3ms postprocess per image at shape (1, 3, 384, 640)\n"
     ]
    },
    {
     "name": "stderr",
     "output_type": "stream",
     "text": [
      "Processing images:  38%|███▊      | 77/201 [00:12<00:17,  6.93it/s]"
     ]
    },
    {
     "name": "stdout",
     "output_type": "stream",
     "text": [
      "\n",
      "image 1/1 /Users/varunravi/Desktop/OD/sequences/000002/camera_front_blur/000002_romeo_2022-06-13T10:50:02.338987Z.jpg: 384x640 7 Vehicles, 26.2ms\n",
      "Speed: 1.3ms preprocess, 26.2ms inference, 0.3ms postprocess per image at shape (1, 3, 384, 640)\n"
     ]
    },
    {
     "name": "stderr",
     "output_type": "stream",
     "text": [
      "Processing images:  39%|███▉      | 78/201 [00:12<00:17,  6.93it/s]"
     ]
    },
    {
     "name": "stdout",
     "output_type": "stream",
     "text": [
      "\n",
      "image 1/1 /Users/varunravi/Desktop/OD/sequences/000002/camera_front_blur/000002_romeo_2022-06-13T10:49:58.575971Z.jpg: 384x640 8 Vehicles, 26.3ms\n",
      "Speed: 1.4ms preprocess, 26.3ms inference, 0.3ms postprocess per image at shape (1, 3, 384, 640)\n"
     ]
    },
    {
     "name": "stderr",
     "output_type": "stream",
     "text": [
      "Processing images:  39%|███▉      | 79/201 [00:12<00:17,  6.79it/s]"
     ]
    },
    {
     "name": "stdout",
     "output_type": "stream",
     "text": [
      "\n",
      "image 1/1 /Users/varunravi/Desktop/OD/sequences/000002/camera_front_blur/000002_romeo_2022-06-13T10:50:13.231927Z.jpg: 384x640 7 Vehicles, 26.6ms\n",
      "Speed: 1.3ms preprocess, 26.6ms inference, 0.3ms postprocess per image at shape (1, 3, 384, 640)\n"
     ]
    },
    {
     "name": "stderr",
     "output_type": "stream",
     "text": [
      "Processing images:  40%|███▉      | 80/201 [00:12<00:17,  6.77it/s]"
     ]
    },
    {
     "name": "stdout",
     "output_type": "stream",
     "text": [
      "\n",
      "image 1/1 /Users/varunravi/Desktop/OD/sequences/000002/camera_front_blur/000002_romeo_2022-06-13T10:50:07.587404Z.jpg: 384x640 12 Vehicles, 24.7ms\n",
      "Speed: 1.9ms preprocess, 24.7ms inference, 0.4ms postprocess per image at shape (1, 3, 384, 640)\n"
     ]
    },
    {
     "name": "stderr",
     "output_type": "stream",
     "text": [
      "Processing images:  40%|████      | 81/201 [00:12<00:19,  6.18it/s]"
     ]
    },
    {
     "name": "stdout",
     "output_type": "stream",
     "text": [
      "\n",
      "image 1/1 /Users/varunravi/Desktop/OD/sequences/000002/camera_front_blur/000002_romeo_2022-06-13T10:50:08.280591Z.jpg: 384x640 11 Vehicles, 26.2ms\n",
      "Speed: 1.7ms preprocess, 26.2ms inference, 0.3ms postprocess per image at shape (1, 3, 384, 640)\n"
     ]
    },
    {
     "name": "stderr",
     "output_type": "stream",
     "text": [
      "Processing images:  41%|████      | 82/201 [00:12<00:19,  6.09it/s]"
     ]
    },
    {
     "name": "stdout",
     "output_type": "stream",
     "text": [
      "\n",
      "image 1/1 /Users/varunravi/Desktop/OD/sequences/000002/camera_front_blur/000002_romeo_2022-06-13T10:50:09.072805Z.jpg: 384x640 12 Vehicles, 27.7ms\n",
      "Speed: 1.3ms preprocess, 27.7ms inference, 0.3ms postprocess per image at shape (1, 3, 384, 640)\n"
     ]
    },
    {
     "name": "stderr",
     "output_type": "stream",
     "text": [
      "Processing images:  41%|████▏     | 83/201 [00:13<00:19,  5.95it/s]"
     ]
    },
    {
     "name": "stdout",
     "output_type": "stream",
     "text": [
      "\n",
      "image 1/1 /Users/varunravi/Desktop/OD/sequences/000002/camera_front_blur/000002_romeo_2022-06-13T10:50:03.032174Z.jpg: 384x640 5 Vehicles, 25.6ms\n",
      "Speed: 1.6ms preprocess, 25.6ms inference, 0.3ms postprocess per image at shape (1, 3, 384, 640)\n"
     ]
    },
    {
     "name": "stderr",
     "output_type": "stream",
     "text": [
      "Processing images:  42%|████▏     | 84/201 [00:13<00:18,  6.27it/s]"
     ]
    },
    {
     "name": "stdout",
     "output_type": "stream",
     "text": [
      "\n",
      "image 1/1 /Users/varunravi/Desktop/OD/sequences/000002/camera_front_blur/000002_romeo_2022-06-13T10:50:15.707596Z.jpg: 384x640 1 TrafficSign, 11 Vehicles, 25.9ms\n",
      "Speed: 1.4ms preprocess, 25.9ms inference, 0.4ms postprocess per image at shape (1, 3, 384, 640)\n"
     ]
    },
    {
     "name": "stderr",
     "output_type": "stream",
     "text": [
      "Processing images:  42%|████▏     | 85/201 [00:13<00:19,  6.07it/s]"
     ]
    },
    {
     "name": "stdout",
     "output_type": "stream",
     "text": [
      "\n",
      "image 1/1 /Users/varunravi/Desktop/OD/sequences/000002/camera_front_blur/000002_romeo_2022-06-13T10:50:10.261125Z.jpg: 384x640 7 Vehicles, 27.2ms\n",
      "Speed: 1.7ms preprocess, 27.2ms inference, 0.3ms postprocess per image at shape (1, 3, 384, 640)\n"
     ]
    },
    {
     "name": "stderr",
     "output_type": "stream",
     "text": [
      "Processing images:  43%|████▎     | 86/201 [00:13<00:18,  6.39it/s]"
     ]
    },
    {
     "name": "stdout",
     "output_type": "stream",
     "text": [
      "\n",
      "image 1/1 /Users/varunravi/Desktop/OD/sequences/000002/camera_front_blur/000002_romeo_2022-06-13T10:50:10.756259Z.jpg: 384x640 1 TrafficSign, 4 Vehicles, 25.6ms\n",
      "Speed: 1.8ms preprocess, 25.6ms inference, 0.3ms postprocess per image at shape (1, 3, 384, 640)\n"
     ]
    },
    {
     "name": "stderr",
     "output_type": "stream",
     "text": [
      "Processing images:  43%|████▎     | 87/201 [00:13<00:16,  6.71it/s]"
     ]
    },
    {
     "name": "stdout",
     "output_type": "stream",
     "text": [
      "\n",
      "image 1/1 /Users/varunravi/Desktop/OD/sequences/000002/camera_front_blur/000002_romeo_2022-06-13T10:50:05.507842Z.jpg: 384x640 8 Vehicles, 26.0ms\n",
      "Speed: 1.4ms preprocess, 26.0ms inference, 0.3ms postprocess per image at shape (1, 3, 384, 640)\n"
     ]
    },
    {
     "name": "stderr",
     "output_type": "stream",
     "text": [
      "Processing images:  44%|████▍     | 88/201 [00:13<00:17,  6.62it/s]"
     ]
    },
    {
     "name": "stdout",
     "output_type": "stream",
     "text": [
      "\n",
      "image 1/1 /Users/varunravi/Desktop/OD/sequences/000002/camera_front_blur/000002_romeo_2022-06-13T10:49:59.368185Z.jpg: 384x640 4 Vehicles, 1 TrafficGuide, 24.4ms\n",
      "Speed: 1.2ms preprocess, 24.4ms inference, 0.3ms postprocess per image at shape (1, 3, 384, 640)\n"
     ]
    },
    {
     "name": "stderr",
     "output_type": "stream",
     "text": [
      "Processing images:  44%|████▍     | 89/201 [00:14<00:16,  6.82it/s]"
     ]
    },
    {
     "name": "stdout",
     "output_type": "stream",
     "text": [
      "\n",
      "image 1/1 /Users/varunravi/Desktop/OD/sequences/000002/camera_front_blur/000002_romeo_2022-06-13T10:50:04.715628Z.jpg: 384x640 8 Vehicles, 26.0ms\n",
      "Speed: 1.8ms preprocess, 26.0ms inference, 0.3ms postprocess per image at shape (1, 3, 384, 640)\n"
     ]
    },
    {
     "name": "stderr",
     "output_type": "stream",
     "text": [
      "Processing images:  45%|████▍     | 90/201 [00:14<00:16,  6.72it/s]"
     ]
    },
    {
     "name": "stdout",
     "output_type": "stream",
     "text": [
      "\n",
      "image 1/1 /Users/varunravi/Desktop/OD/sequences/000002/camera_front_blur/000002_romeo_2022-06-13T10:50:01.645800Z.jpg: 384x640 8 Vehicles, 25.5ms\n",
      "Speed: 1.7ms preprocess, 25.5ms inference, 0.3ms postprocess per image at shape (1, 3, 384, 640)\n"
     ]
    },
    {
     "name": "stderr",
     "output_type": "stream",
     "text": [
      "Processing images:  45%|████▌     | 91/201 [00:14<00:16,  6.64it/s]"
     ]
    },
    {
     "name": "stdout",
     "output_type": "stream",
     "text": [
      "\n",
      "image 1/1 /Users/varunravi/Desktop/OD/sequences/000002/camera_front_blur/000002_romeo_2022-06-13T10:50:04.517575Z.jpg: 384x640 5 Vehicles, 26.1ms\n",
      "Speed: 1.4ms preprocess, 26.1ms inference, 0.3ms postprocess per image at shape (1, 3, 384, 640)\n"
     ]
    },
    {
     "name": "stderr",
     "output_type": "stream",
     "text": [
      "Processing images:  46%|████▌     | 92/201 [00:14<00:15,  6.87it/s]"
     ]
    },
    {
     "name": "stdout",
     "output_type": "stream",
     "text": [
      "\n",
      "image 1/1 /Users/varunravi/Desktop/OD/sequences/000002/camera_front_blur/000002_romeo_2022-06-13T10:50:03.329254Z.jpg: 384x640 1 TrafficSign, 5 Vehicles, 25.5ms\n",
      "Speed: 1.8ms preprocess, 25.5ms inference, 0.3ms postprocess per image at shape (1, 3, 384, 640)\n"
     ]
    },
    {
     "name": "stderr",
     "output_type": "stream",
     "text": [
      "Processing images:  46%|████▋     | 93/201 [00:14<00:15,  6.79it/s]"
     ]
    },
    {
     "name": "stdout",
     "output_type": "stream",
     "text": [
      "\n",
      "image 1/1 /Users/varunravi/Desktop/OD/sequences/000002/camera_front_blur/000002_romeo_2022-06-13T10:50:16.004676Z.jpg: 384x640 2 TrafficSigns, 5 Vehicles, 25.3ms\n",
      "Speed: 1.3ms preprocess, 25.3ms inference, 0.3ms postprocess per image at shape (1, 3, 384, 640)\n"
     ]
    },
    {
     "name": "stderr",
     "output_type": "stream",
     "text": [
      "Processing images:  47%|████▋     | 94/201 [00:14<00:15,  6.81it/s]"
     ]
    },
    {
     "name": "stdout",
     "output_type": "stream",
     "text": [
      "\n",
      "image 1/1 /Users/varunravi/Desktop/OD/sequences/000002/camera_front_blur/000002_romeo_2022-06-13T10:50:05.408815Z.jpg: 384x640 6 Vehicles, 24.7ms\n",
      "Speed: 2.2ms preprocess, 24.7ms inference, 0.3ms postprocess per image at shape (1, 3, 384, 640)\n"
     ]
    },
    {
     "name": "stderr",
     "output_type": "stream",
     "text": [
      "Processing images:  47%|████▋     | 95/201 [00:14<00:15,  6.87it/s]"
     ]
    },
    {
     "name": "stdout",
     "output_type": "stream",
     "text": [
      "\n",
      "image 1/1 /Users/varunravi/Desktop/OD/sequences/000002/camera_front_blur/000002_romeo_2022-06-13T10:50:05.804922Z.jpg: 384x640 10 Vehicles, 1 TrafficGuide, 25.0ms\n",
      "Speed: 1.8ms preprocess, 25.0ms inference, 0.3ms postprocess per image at shape (1, 3, 384, 640)\n"
     ]
    },
    {
     "name": "stderr",
     "output_type": "stream",
     "text": [
      "Processing images:  48%|████▊     | 96/201 [00:15<00:16,  6.55it/s]"
     ]
    },
    {
     "name": "stdout",
     "output_type": "stream",
     "text": [
      "\n",
      "image 1/1 /Users/varunravi/Desktop/OD/sequences/000002/camera_front_blur/000002_romeo_2022-06-13T10:50:13.330954Z.jpg: 384x640 6 Vehicles, 28.7ms\n",
      "Speed: 1.3ms preprocess, 28.7ms inference, 0.4ms postprocess per image at shape (1, 3, 384, 640)\n"
     ]
    },
    {
     "name": "stderr",
     "output_type": "stream",
     "text": [
      "Processing images:  48%|████▊     | 97/201 [00:15<00:15,  6.68it/s]"
     ]
    },
    {
     "name": "stdout",
     "output_type": "stream",
     "text": [
      "\n",
      "image 1/1 /Users/varunravi/Desktop/OD/sequences/000002/camera_front_blur/000002_romeo_2022-06-13T10:49:58.476944Z.jpg: 384x640 11 Vehicles, 24.6ms\n",
      "Speed: 1.8ms preprocess, 24.6ms inference, 0.3ms postprocess per image at shape (1, 3, 384, 640)\n"
     ]
    },
    {
     "name": "stderr",
     "output_type": "stream",
     "text": [
      "Processing images:  49%|████▉     | 98/201 [00:15<00:15,  6.50it/s]"
     ]
    },
    {
     "name": "stdout",
     "output_type": "stream",
     "text": [
      "\n",
      "image 1/1 /Users/varunravi/Desktop/OD/sequences/000002/camera_front_blur/000002_romeo_2022-06-13T10:50:04.814655Z.jpg: 384x640 9 Vehicles, 25.3ms\n",
      "Speed: 2.0ms preprocess, 25.3ms inference, 0.3ms postprocess per image at shape (1, 3, 384, 640)\n"
     ]
    },
    {
     "name": "stderr",
     "output_type": "stream",
     "text": [
      "Processing images:  49%|████▉     | 99/201 [00:15<00:15,  6.44it/s]"
     ]
    },
    {
     "name": "stdout",
     "output_type": "stream",
     "text": [
      "\n",
      "image 1/1 /Users/varunravi/Desktop/OD/sequences/000002/camera_front_blur/000002_romeo_2022-06-13T10:50:11.845553Z.jpg: 384x640 1 TrafficSign, 5 Vehicles, 25.9ms\n",
      "Speed: 1.4ms preprocess, 25.9ms inference, 0.4ms postprocess per image at shape (1, 3, 384, 640)\n"
     ]
    },
    {
     "name": "stderr",
     "output_type": "stream",
     "text": [
      "Processing images:  50%|████▉     | 100/201 [00:15<00:15,  6.65it/s]"
     ]
    },
    {
     "name": "stdout",
     "output_type": "stream",
     "text": [
      "\n",
      "image 1/1 /Users/varunravi/Desktop/OD/sequences/000002/camera_front_blur/000002_romeo_2022-06-13T10:50:12.835820Z.jpg: 384x640 1 TrafficSign, 5 Vehicles, 26.0ms\n",
      "Speed: 1.4ms preprocess, 26.0ms inference, 0.3ms postprocess per image at shape (1, 3, 384, 640)\n"
     ]
    },
    {
     "name": "stderr",
     "output_type": "stream",
     "text": [
      "Processing images:  50%|█████     | 101/201 [00:15<00:14,  6.85it/s]"
     ]
    },
    {
     "name": "stdout",
     "output_type": "stream",
     "text": [
      "\n",
      "image 1/1 /Users/varunravi/Desktop/OD/sequences/000002/camera_front_blur/000002_romeo_2022-06-13T10:49:59.962345Z.jpg: 384x640 1 TrafficSign, 5 Vehicles, 25.2ms\n",
      "Speed: 1.6ms preprocess, 25.2ms inference, 0.3ms postprocess per image at shape (1, 3, 384, 640)\n"
     ]
    },
    {
     "name": "stderr",
     "output_type": "stream",
     "text": [
      "Processing images:  51%|█████     | 102/201 [00:15<00:14,  6.85it/s]"
     ]
    },
    {
     "name": "stdout",
     "output_type": "stream",
     "text": [
      "\n",
      "image 1/1 /Users/varunravi/Desktop/OD/sequences/000002/camera_front_blur/000002_romeo_2022-06-13T10:50:06.696163Z.jpg: 384x640 7 Vehicles, 27.7ms\n",
      "Speed: 1.3ms preprocess, 27.7ms inference, 0.3ms postprocess per image at shape (1, 3, 384, 640)\n"
     ]
    },
    {
     "name": "stderr",
     "output_type": "stream",
     "text": [
      "Processing images:  51%|█████     | 103/201 [00:16<00:14,  6.64it/s]"
     ]
    },
    {
     "name": "stdout",
     "output_type": "stream",
     "text": [
      "\n",
      "image 1/1 /Users/varunravi/Desktop/OD/sequences/000002/camera_front_blur/000002_romeo_2022-06-13T10:49:59.269158Z.jpg: 384x640 4 Vehicles, 1 TrafficGuide, 28.3ms\n",
      "Speed: 3.0ms preprocess, 28.3ms inference, 0.3ms postprocess per image at shape (1, 3, 384, 640)\n"
     ]
    },
    {
     "name": "stderr",
     "output_type": "stream",
     "text": [
      "Processing images:  52%|█████▏    | 104/201 [00:16<00:14,  6.68it/s]"
     ]
    },
    {
     "name": "stdout",
     "output_type": "stream",
     "text": [
      "\n",
      "image 1/1 /Users/varunravi/Desktop/OD/sequences/000002/camera_front_blur/000002_romeo_2022-06-13T10:50:16.895916Z.jpg: 384x640 1 TrafficSign, 5 Vehicles, 26.4ms\n",
      "Speed: 1.3ms preprocess, 26.4ms inference, 0.4ms postprocess per image at shape (1, 3, 384, 640)\n"
     ]
    },
    {
     "name": "stderr",
     "output_type": "stream",
     "text": [
      "Processing images:  52%|█████▏    | 105/201 [00:16<00:14,  6.80it/s]"
     ]
    },
    {
     "name": "stdout",
     "output_type": "stream",
     "text": [
      "\n",
      "image 1/1 /Users/varunravi/Desktop/OD/sequences/000002/camera_front_blur/000002_romeo_2022-06-13T10:50:09.567938Z.jpg: 384x640 12 Vehicles, 1 TrafficSignal, 26.2ms\n",
      "Speed: 1.2ms preprocess, 26.2ms inference, 0.3ms postprocess per image at shape (1, 3, 384, 640)\n"
     ]
    },
    {
     "name": "stderr",
     "output_type": "stream",
     "text": [
      "Processing images:  53%|█████▎    | 106/201 [00:16<00:15,  6.23it/s]"
     ]
    },
    {
     "name": "stdout",
     "output_type": "stream",
     "text": [
      "\n",
      "image 1/1 /Users/varunravi/Desktop/OD/sequences/000002/camera_front_blur/000002_romeo_2022-06-13T10:50:13.628034Z.jpg: 384x640 5 Vehicles, 27.8ms\n",
      "Speed: 1.4ms preprocess, 27.8ms inference, 0.3ms postprocess per image at shape (1, 3, 384, 640)\n"
     ]
    },
    {
     "name": "stderr",
     "output_type": "stream",
     "text": [
      "Processing images:  53%|█████▎    | 107/201 [00:16<00:14,  6.37it/s]"
     ]
    },
    {
     "name": "stdout",
     "output_type": "stream",
     "text": [
      "\n",
      "image 1/1 /Users/varunravi/Desktop/OD/sequences/000002/camera_front_blur/000002_romeo_2022-06-13T10:50:01.843853Z.jpg: 384x640 1 TrafficSign, 9 Vehicles, 26.9ms\n",
      "Speed: 2.2ms preprocess, 26.9ms inference, 0.5ms postprocess per image at shape (1, 3, 384, 640)\n"
     ]
    },
    {
     "name": "stderr",
     "output_type": "stream",
     "text": [
      "Processing images:  54%|█████▎    | 108/201 [00:16<00:14,  6.20it/s]"
     ]
    },
    {
     "name": "stdout",
     "output_type": "stream",
     "text": [
      "\n",
      "image 1/1 /Users/varunravi/Desktop/OD/sequences/000002/camera_front_blur/000002_romeo_2022-06-13T10:50:00.556506Z.jpg: 384x640 8 Vehicles, 26.0ms\n",
      "Speed: 1.6ms preprocess, 26.0ms inference, 0.3ms postprocess per image at shape (1, 3, 384, 640)\n"
     ]
    },
    {
     "name": "stderr",
     "output_type": "stream",
     "text": [
      "Processing images:  54%|█████▍    | 109/201 [00:17<00:14,  6.25it/s]"
     ]
    },
    {
     "name": "stdout",
     "output_type": "stream",
     "text": [
      "\n",
      "image 1/1 /Users/varunravi/Desktop/OD/sequences/000002/camera_front_blur/000002_romeo_2022-06-13T10:50:02.239960Z.jpg: 384x640 7 Vehicles, 1 TrafficGuide, 26.5ms\n",
      "Speed: 1.8ms preprocess, 26.5ms inference, 0.4ms postprocess per image at shape (1, 3, 384, 640)\n"
     ]
    },
    {
     "name": "stderr",
     "output_type": "stream",
     "text": [
      "Processing images:  55%|█████▍    | 110/201 [00:17<00:14,  6.47it/s]"
     ]
    },
    {
     "name": "stdout",
     "output_type": "stream",
     "text": [
      "\n",
      "image 1/1 /Users/varunravi/Desktop/OD/sequences/000002/camera_front_blur/000002_romeo_2022-06-13T10:50:04.913682Z.jpg: 384x640 7 Vehicles, 26.2ms\n",
      "Speed: 1.5ms preprocess, 26.2ms inference, 0.3ms postprocess per image at shape (1, 3, 384, 640)\n"
     ]
    },
    {
     "name": "stderr",
     "output_type": "stream",
     "text": [
      "Processing images:  55%|█████▌    | 111/201 [00:17<00:13,  6.53it/s]"
     ]
    },
    {
     "name": "stdout",
     "output_type": "stream",
     "text": [
      "\n",
      "image 1/1 /Users/varunravi/Desktop/OD/sequences/000002/camera_front_blur/000002_romeo_2022-06-13T10:50:11.746526Z.jpg: 384x640 5 Vehicles, 29.5ms\n",
      "Speed: 1.4ms preprocess, 29.5ms inference, 0.3ms postprocess per image at shape (1, 3, 384, 640)\n"
     ]
    },
    {
     "name": "stderr",
     "output_type": "stream",
     "text": [
      "Processing images:  56%|█████▌    | 112/201 [00:17<00:13,  6.72it/s]"
     ]
    },
    {
     "name": "stdout",
     "output_type": "stream",
     "text": [
      "\n",
      "image 1/1 /Users/varunravi/Desktop/OD/sequences/000002/camera_front_blur/000002_romeo_2022-06-13T10:50:14.123168Z.jpg: 384x640 7 Vehicles, 27.4ms\n",
      "Speed: 1.7ms preprocess, 27.4ms inference, 0.3ms postprocess per image at shape (1, 3, 384, 640)\n"
     ]
    },
    {
     "name": "stderr",
     "output_type": "stream",
     "text": [
      "Processing images:  56%|█████▌    | 113/201 [00:17<00:13,  6.72it/s]"
     ]
    },
    {
     "name": "stdout",
     "output_type": "stream",
     "text": [
      "\n",
      "image 1/1 /Users/varunravi/Desktop/OD/sequences/000002/camera_front_blur/000002_romeo_2022-06-13T10:50:14.420248Z.jpg: 384x640 6 Vehicles, 27.7ms\n",
      "Speed: 2.0ms preprocess, 27.7ms inference, 0.5ms postprocess per image at shape (1, 3, 384, 640)\n"
     ]
    },
    {
     "name": "stderr",
     "output_type": "stream",
     "text": [
      "Processing images:  57%|█████▋    | 114/201 [00:17<00:12,  6.86it/s]"
     ]
    },
    {
     "name": "stdout",
     "output_type": "stream",
     "text": [
      "\n",
      "image 1/1 /Users/varunravi/Desktop/OD/sequences/000002/camera_front_blur/000002_romeo_2022-06-13T10:50:13.132900Z.jpg: 384x640 7 Vehicles, 28.3ms\n",
      "Speed: 1.5ms preprocess, 28.3ms inference, 0.3ms postprocess per image at shape (1, 3, 384, 640)\n"
     ]
    },
    {
     "name": "stderr",
     "output_type": "stream",
     "text": [
      "Processing images:  57%|█████▋    | 115/201 [00:17<00:12,  6.84it/s]"
     ]
    },
    {
     "name": "stdout",
     "output_type": "stream",
     "text": [
      "\n",
      "image 1/1 /Users/varunravi/Desktop/OD/sequences/000002/camera_front_blur/000002_romeo_2022-06-13T10:50:02.537040Z.jpg: 384x640 5 Vehicles, 27.3ms\n",
      "Speed: 3.2ms preprocess, 27.3ms inference, 0.3ms postprocess per image at shape (1, 3, 384, 640)\n"
     ]
    },
    {
     "name": "stderr",
     "output_type": "stream",
     "text": [
      "Processing images:  58%|█████▊    | 116/201 [00:18<00:12,  6.93it/s]"
     ]
    },
    {
     "name": "stdout",
     "output_type": "stream",
     "text": [
      "\n",
      "image 1/1 /Users/varunravi/Desktop/OD/sequences/000002/camera_front_blur/000002_romeo_2022-06-13T10:50:08.181564Z.jpg: 384x640 12 Vehicles, 25.4ms\n",
      "Speed: 2.0ms preprocess, 25.4ms inference, 0.6ms postprocess per image at shape (1, 3, 384, 640)\n"
     ]
    },
    {
     "name": "stderr",
     "output_type": "stream",
     "text": [
      "Processing images:  58%|█████▊    | 117/201 [00:18<00:13,  6.37it/s]"
     ]
    },
    {
     "name": "stdout",
     "output_type": "stream",
     "text": [
      "\n",
      "image 1/1 /Users/varunravi/Desktop/OD/sequences/000002/camera_front_blur/000002_romeo_2022-06-13T10:50:11.251393Z.jpg: 384x640 1 TrafficSign, 3 Vehicles, 30.0ms\n",
      "Speed: 1.4ms preprocess, 30.0ms inference, 0.4ms postprocess per image at shape (1, 3, 384, 640)\n"
     ]
    },
    {
     "name": "stderr",
     "output_type": "stream",
     "text": [
      "Processing images:  59%|█████▊    | 118/201 [00:18<00:12,  6.65it/s]"
     ]
    },
    {
     "name": "stdout",
     "output_type": "stream",
     "text": [
      "\n",
      "image 1/1 /Users/varunravi/Desktop/OD/sequences/000002/camera_front_blur/000002_romeo_2022-06-13T10:50:15.014408Z.jpg: 384x640 8 Vehicles, 27.1ms\n",
      "Speed: 1.3ms preprocess, 27.1ms inference, 0.5ms postprocess per image at shape (1, 3, 384, 640)\n"
     ]
    },
    {
     "name": "stderr",
     "output_type": "stream",
     "text": [
      "Processing images:  59%|█████▉    | 119/201 [00:18<00:12,  6.40it/s]"
     ]
    },
    {
     "name": "stdout",
     "output_type": "stream",
     "text": [
      "\n",
      "image 1/1 /Users/varunravi/Desktop/OD/sequences/000002/camera_front_blur/000002_romeo_2022-06-13T10:50:13.033874Z.jpg: 384x640 7 Vehicles, 29.4ms\n",
      "Speed: 2.0ms preprocess, 29.4ms inference, 0.3ms postprocess per image at shape (1, 3, 384, 640)\n"
     ]
    },
    {
     "name": "stderr",
     "output_type": "stream",
     "text": [
      "Processing images:  60%|█████▉    | 120/201 [00:18<00:12,  6.33it/s]"
     ]
    },
    {
     "name": "stdout",
     "output_type": "stream",
     "text": [
      "\n",
      "image 1/1 /Users/varunravi/Desktop/OD/sequences/000002/camera_front_blur/000002_romeo_2022-06-13T10:50:16.400783Z.jpg: 384x640 1 TrafficSign, 1 PoleObject, 5 Vehicles, 29.9ms\n",
      "Speed: 1.8ms preprocess, 29.9ms inference, 0.3ms postprocess per image at shape (1, 3, 384, 640)\n"
     ]
    },
    {
     "name": "stderr",
     "output_type": "stream",
     "text": [
      "Processing images:  60%|██████    | 121/201 [00:18<00:12,  6.29it/s]"
     ]
    },
    {
     "name": "stdout",
     "output_type": "stream",
     "text": [
      "\n",
      "image 1/1 /Users/varunravi/Desktop/OD/sequences/000002/camera_front_blur/000002_romeo_2022-06-13T10:50:03.626334Z.jpg: 384x640 3 Vehicles, 35.9ms\n",
      "Speed: 1.5ms preprocess, 35.9ms inference, 0.5ms postprocess per image at shape (1, 3, 384, 640)\n"
     ]
    },
    {
     "name": "stderr",
     "output_type": "stream",
     "text": [
      "Processing images:  61%|██████    | 122/201 [00:19<00:11,  6.67it/s]"
     ]
    },
    {
     "name": "stdout",
     "output_type": "stream",
     "text": [
      "\n",
      "image 1/1 /Users/varunravi/Desktop/OD/sequences/000002/camera_front_blur/000002_romeo_2022-06-13T10:50:04.022441Z.jpg: 384x640 3 Vehicles, 1 TrafficGuide, 27.4ms\n",
      "Speed: 1.2ms preprocess, 27.4ms inference, 0.3ms postprocess per image at shape (1, 3, 384, 640)\n"
     ]
    },
    {
     "name": "stderr",
     "output_type": "stream",
     "text": [
      "Processing images:  61%|██████    | 123/201 [00:19<00:11,  6.90it/s]"
     ]
    },
    {
     "name": "stdout",
     "output_type": "stream",
     "text": [
      "\n",
      "image 1/1 /Users/varunravi/Desktop/OD/sequences/000002/camera_front_blur/000002_romeo_2022-06-13T10:50:13.727061Z.jpg: 384x640 5 Vehicles, 27.3ms\n",
      "Speed: 1.3ms preprocess, 27.3ms inference, 0.3ms postprocess per image at shape (1, 3, 384, 640)\n"
     ]
    },
    {
     "name": "stderr",
     "output_type": "stream",
     "text": [
      "Processing images:  62%|██████▏   | 124/201 [00:19<00:10,  7.05it/s]"
     ]
    },
    {
     "name": "stdout",
     "output_type": "stream",
     "text": [
      "\n",
      "image 1/1 /Users/varunravi/Desktop/OD/sequences/000002/camera_front_blur/000002_romeo_2022-06-13T10:50:08.676698Z.jpg: 384x640 12 Vehicles, 24.4ms\n",
      "Speed: 1.4ms preprocess, 24.4ms inference, 0.3ms postprocess per image at shape (1, 3, 384, 640)\n"
     ]
    },
    {
     "name": "stderr",
     "output_type": "stream",
     "text": [
      "Processing images:  62%|██████▏   | 125/201 [00:19<00:11,  6.52it/s]"
     ]
    },
    {
     "name": "stdout",
     "output_type": "stream",
     "text": [
      "\n",
      "image 1/1 /Users/varunravi/Desktop/OD/sequences/000002/camera_front_blur/000002_romeo_2022-06-13T10:50:05.705896Z.jpg: 384x640 6 Vehicles, 1 TrafficGuide, 23.0ms\n",
      "Speed: 1.3ms preprocess, 23.0ms inference, 0.4ms postprocess per image at shape (1, 3, 384, 640)\n"
     ]
    },
    {
     "name": "stderr",
     "output_type": "stream",
     "text": [
      "Processing images:  63%|██████▎   | 126/201 [00:19<00:11,  6.56it/s]"
     ]
    },
    {
     "name": "stdout",
     "output_type": "stream",
     "text": [
      "\n",
      "image 1/1 /Users/varunravi/Desktop/OD/sequences/000002/camera_front_blur/000002_romeo_2022-06-13T10:50:11.944580Z.jpg: 384x640 1 TrafficSign, 4 Vehicles, 25.4ms\n",
      "Speed: 1.3ms preprocess, 25.4ms inference, 0.3ms postprocess per image at shape (1, 3, 384, 640)\n"
     ]
    },
    {
     "name": "stderr",
     "output_type": "stream",
     "text": [
      "Processing images:  63%|██████▎   | 127/201 [00:19<00:10,  6.77it/s]"
     ]
    },
    {
     "name": "stdout",
     "output_type": "stream",
     "text": [
      "\n",
      "image 1/1 /Users/varunravi/Desktop/OD/sequences/000002/camera_front_blur/000002_romeo_2022-06-13T10:49:59.764292Z.jpg: 384x640 5 Vehicles, 24.9ms\n",
      "Speed: 1.4ms preprocess, 24.9ms inference, 0.3ms postprocess per image at shape (1, 3, 384, 640)\n"
     ]
    },
    {
     "name": "stderr",
     "output_type": "stream",
     "text": [
      "Processing images:  64%|██████▎   | 128/201 [00:19<00:10,  6.83it/s]"
     ]
    },
    {
     "name": "stdout",
     "output_type": "stream",
     "text": [
      "\n",
      "image 1/1 /Users/varunravi/Desktop/OD/sequences/000002/camera_front_blur/000002_romeo_2022-06-13T10:49:58.377918Z.jpg: 384x640 8 Vehicles, 23.5ms\n",
      "Speed: 1.3ms preprocess, 23.5ms inference, 0.3ms postprocess per image at shape (1, 3, 384, 640)\n"
     ]
    },
    {
     "name": "stderr",
     "output_type": "stream",
     "text": [
      "Processing images:  64%|██████▍   | 129/201 [00:20<00:10,  6.78it/s]"
     ]
    },
    {
     "name": "stdout",
     "output_type": "stream",
     "text": [
      "\n",
      "image 1/1 /Users/varunravi/Desktop/OD/sequences/000002/camera_front_blur/000002_romeo_2022-06-13T10:50:11.350419Z.jpg: 384x640 1 TrafficSign, 2 Vehicles, 23.4ms\n",
      "Speed: 1.3ms preprocess, 23.4ms inference, 0.3ms postprocess per image at shape (1, 3, 384, 640)\n"
     ]
    },
    {
     "name": "stderr",
     "output_type": "stream",
     "text": [
      "Processing images:  65%|██████▍   | 130/201 [00:20<00:09,  7.21it/s]"
     ]
    },
    {
     "name": "stdout",
     "output_type": "stream",
     "text": [
      "\n",
      "image 1/1 /Users/varunravi/Desktop/OD/sequences/000002/camera_front_blur/000002_romeo_2022-06-13T10:50:06.399083Z.jpg: 384x640 11 Vehicles, 24.1ms\n",
      "Speed: 1.6ms preprocess, 24.1ms inference, 0.3ms postprocess per image at shape (1, 3, 384, 640)\n"
     ]
    },
    {
     "name": "stderr",
     "output_type": "stream",
     "text": [
      "Processing images:  65%|██████▌   | 131/201 [00:20<00:10,  6.70it/s]"
     ]
    },
    {
     "name": "stdout",
     "output_type": "stream",
     "text": [
      "\n",
      "image 1/1 /Users/varunravi/Desktop/OD/sequences/000002/camera_front_blur/000002_romeo_2022-06-13T10:50:11.647500Z.jpg: 384x640 1 TrafficSign, 4 Vehicles, 25.0ms\n",
      "Speed: 1.5ms preprocess, 25.0ms inference, 0.3ms postprocess per image at shape (1, 3, 384, 640)\n"
     ]
    },
    {
     "name": "stderr",
     "output_type": "stream",
     "text": [
      "Processing images:  66%|██████▌   | 132/201 [00:20<00:10,  6.88it/s]"
     ]
    },
    {
     "name": "stdout",
     "output_type": "stream",
     "text": [
      "\n",
      "image 1/1 /Users/varunravi/Desktop/OD/sequences/000002/camera_front_blur/000002_romeo_2022-06-13T10:50:12.340687Z.jpg: 384x640 1 TrafficSign, 4 Vehicles, 24.7ms\n",
      "Speed: 1.9ms preprocess, 24.7ms inference, 0.3ms postprocess per image at shape (1, 3, 384, 640)\n"
     ]
    },
    {
     "name": "stderr",
     "output_type": "stream",
     "text": [
      "Processing images:  66%|██████▌   | 133/201 [00:20<00:09,  7.16it/s]"
     ]
    },
    {
     "name": "stdout",
     "output_type": "stream",
     "text": [
      "\n",
      "image 1/1 /Users/varunravi/Desktop/OD/sequences/000002/camera_front_blur/000002_romeo_2022-06-13T10:50:03.230227Z.jpg: 384x640 1 TrafficSign, 5 Vehicles, 22.7ms\n",
      "Speed: 1.4ms preprocess, 22.7ms inference, 0.3ms postprocess per image at shape (1, 3, 384, 640)\n"
     ]
    },
    {
     "name": "stderr",
     "output_type": "stream",
     "text": [
      "Processing images:  67%|██████▋   | 134/201 [00:20<00:09,  7.39it/s]"
     ]
    },
    {
     "name": "stdout",
     "output_type": "stream",
     "text": [
      "\n",
      "image 1/1 /Users/varunravi/Desktop/OD/sequences/000002/camera_front_blur/000002_romeo_2022-06-13T10:50:01.150666Z.jpg: 384x640 4 Vehicles, 22.8ms\n",
      "Speed: 1.2ms preprocess, 22.8ms inference, 0.3ms postprocess per image at shape (1, 3, 384, 640)\n"
     ]
    },
    {
     "name": "stderr",
     "output_type": "stream",
     "text": [
      "Processing images:  67%|██████▋   | 135/201 [00:20<00:08,  7.62it/s]"
     ]
    },
    {
     "name": "stdout",
     "output_type": "stream",
     "text": [
      "\n",
      "image 1/1 /Users/varunravi/Desktop/OD/sequences/000002/camera_front_blur/000002_romeo_2022-06-13T10:50:08.775724Z.jpg: 384x640 11 Vehicles, 22.9ms\n",
      "Speed: 1.3ms preprocess, 22.9ms inference, 0.3ms postprocess per image at shape (1, 3, 384, 640)\n"
     ]
    },
    {
     "name": "stderr",
     "output_type": "stream",
     "text": [
      "Processing images:  68%|██████▊   | 136/201 [00:21<00:09,  6.91it/s]"
     ]
    },
    {
     "name": "stdout",
     "output_type": "stream",
     "text": [
      "\n",
      "image 1/1 /Users/varunravi/Desktop/OD/sequences/000002/camera_front_blur/000002_romeo_2022-06-13T10:50:05.012708Z.jpg: 384x640 7 Vehicles, 24.7ms\n",
      "Speed: 1.3ms preprocess, 24.7ms inference, 0.3ms postprocess per image at shape (1, 3, 384, 640)\n"
     ]
    },
    {
     "name": "stderr",
     "output_type": "stream",
     "text": [
      "Processing images:  68%|██████▊   | 137/201 [00:21<00:09,  6.83it/s]"
     ]
    },
    {
     "name": "stdout",
     "output_type": "stream",
     "text": [
      "\n",
      "image 1/1 /Users/varunravi/Desktop/OD/sequences/000002/camera_front_blur/000002_romeo_2022-06-13T10:50:12.934847Z.jpg: 384x640 4 Vehicles, 23.0ms\n",
      "Speed: 1.5ms preprocess, 23.0ms inference, 0.3ms postprocess per image at shape (1, 3, 384, 640)\n"
     ]
    },
    {
     "name": "stderr",
     "output_type": "stream",
     "text": [
      "Processing images:  69%|██████▊   | 138/201 [00:21<00:08,  7.19it/s]"
     ]
    },
    {
     "name": "stdout",
     "output_type": "stream",
     "text": [
      "\n",
      "image 1/1 /Users/varunravi/Desktop/OD/sequences/000002/camera_front_blur/000002_romeo_2022-06-13T10:50:02.140933Z.jpg: 384x640 9 Vehicles, 23.3ms\n",
      "Speed: 1.3ms preprocess, 23.3ms inference, 0.3ms postprocess per image at shape (1, 3, 384, 640)\n"
     ]
    },
    {
     "name": "stderr",
     "output_type": "stream",
     "text": [
      "Processing images:  69%|██████▉   | 139/201 [00:21<00:08,  6.93it/s]"
     ]
    },
    {
     "name": "stdout",
     "output_type": "stream",
     "text": [
      "\n",
      "image 1/1 /Users/varunravi/Desktop/OD/sequences/000002/camera_front_blur/000002_romeo_2022-06-13T10:50:09.171831Z.jpg: 384x640 11 Vehicles, 22.7ms\n",
      "Speed: 1.4ms preprocess, 22.7ms inference, 0.3ms postprocess per image at shape (1, 3, 384, 640)\n"
     ]
    },
    {
     "name": "stderr",
     "output_type": "stream",
     "text": [
      "Processing images:  70%|██████▉   | 140/201 [00:21<00:14,  4.30it/s]"
     ]
    },
    {
     "name": "stdout",
     "output_type": "stream",
     "text": [
      "\n",
      "image 1/1 /Users/varunravi/Desktop/OD/sequences/000002/camera_front_blur/000002_romeo_2022-06-13T10:49:57.783757Z.jpg: 384x640 5 Vehicles, 22.0ms\n",
      "Speed: 1.3ms preprocess, 22.0ms inference, 0.3ms postprocess per image at shape (1, 3, 384, 640)\n"
     ]
    },
    {
     "name": "stderr",
     "output_type": "stream",
     "text": [
      "Processing images:  70%|███████   | 141/201 [00:22<00:12,  4.92it/s]"
     ]
    },
    {
     "name": "stdout",
     "output_type": "stream",
     "text": [
      "\n",
      "image 1/1 /Users/varunravi/Desktop/OD/sequences/000002/camera_front_blur/000002_romeo_2022-06-13T10:50:06.597136Z.jpg: 384x640 11 Vehicles, 22.3ms\n",
      "Speed: 1.3ms preprocess, 22.3ms inference, 0.3ms postprocess per image at shape (1, 3, 384, 640)\n"
     ]
    },
    {
     "name": "stderr",
     "output_type": "stream",
     "text": [
      "Processing images:  71%|███████   | 142/201 [00:22<00:11,  5.16it/s]"
     ]
    },
    {
     "name": "stdout",
     "output_type": "stream",
     "text": [
      "\n",
      "image 1/1 /Users/varunravi/Desktop/OD/sequences/000002/camera_front_blur/000002_romeo_2022-06-13T10:50:10.459179Z.jpg: 384x640 1 TrafficSign, 7 Vehicles, 1 VulnerableVehicle, 1 TrafficSignal, 22.3ms\n",
      "Speed: 1.4ms preprocess, 22.3ms inference, 0.3ms postprocess per image at shape (1, 3, 384, 640)\n"
     ]
    },
    {
     "name": "stderr",
     "output_type": "stream",
     "text": [
      "Processing images:  71%|███████   | 143/201 [00:22<00:10,  5.42it/s]"
     ]
    },
    {
     "name": "stdout",
     "output_type": "stream",
     "text": [
      "\n",
      "image 1/1 /Users/varunravi/Desktop/OD/sequences/000002/camera_front_blur/000002_romeo_2022-06-13T10:50:03.824388Z.jpg: 384x640 3 Vehicles, 22.8ms\n",
      "Speed: 1.4ms preprocess, 22.8ms inference, 0.3ms postprocess per image at shape (1, 3, 384, 640)\n"
     ]
    },
    {
     "name": "stderr",
     "output_type": "stream",
     "text": [
      "Processing images:  72%|███████▏  | 144/201 [00:22<00:09,  6.06it/s]"
     ]
    },
    {
     "name": "stdout",
     "output_type": "stream",
     "text": [
      "\n",
      "image 1/1 /Users/varunravi/Desktop/OD/sequences/000002/camera_front_blur/000002_romeo_2022-06-13T10:49:58.278891Z.jpg: 384x640 10 Vehicles, 2 TrafficGuides, 22.2ms\n",
      "Speed: 1.3ms preprocess, 22.2ms inference, 0.4ms postprocess per image at shape (1, 3, 384, 640)\n"
     ]
    },
    {
     "name": "stderr",
     "output_type": "stream",
     "text": [
      "Processing images:  72%|███████▏  | 145/201 [00:22<00:09,  5.96it/s]"
     ]
    },
    {
     "name": "stdout",
     "output_type": "stream",
     "text": [
      "\n",
      "image 1/1 /Users/varunravi/Desktop/OD/sequences/000002/camera_front_blur/000002_romeo_2022-06-13T10:50:07.983510Z.jpg: 384x640 10 Vehicles, 24.0ms\n",
      "Speed: 1.3ms preprocess, 24.0ms inference, 0.3ms postprocess per image at shape (1, 3, 384, 640)\n"
     ]
    },
    {
     "name": "stderr",
     "output_type": "stream",
     "text": [
      "Processing images:  73%|███████▎  | 146/201 [00:22<00:08,  6.17it/s]"
     ]
    },
    {
     "name": "stdout",
     "output_type": "stream",
     "text": [
      "\n",
      "image 1/1 /Users/varunravi/Desktop/OD/sequences/000002/camera_front_blur/000002_romeo_2022-06-13T10:50:01.942880Z.jpg: 384x640 1 TrafficSign, 9 Vehicles, 23.1ms\n",
      "Speed: 1.3ms preprocess, 23.1ms inference, 0.3ms postprocess per image at shape (1, 3, 384, 640)\n"
     ]
    },
    {
     "name": "stderr",
     "output_type": "stream",
     "text": [
      "Processing images:  73%|███████▎  | 147/201 [00:22<00:08,  6.15it/s]"
     ]
    },
    {
     "name": "stdout",
     "output_type": "stream",
     "text": [
      "\n",
      "image 1/1 /Users/varunravi/Desktop/OD/sequences/000002/camera_front_blur/000002_romeo_2022-06-13T10:50:00.853586Z.jpg: 384x640 7 Vehicles, 23.0ms\n",
      "Speed: 1.2ms preprocess, 23.0ms inference, 0.3ms postprocess per image at shape (1, 3, 384, 640)\n"
     ]
    },
    {
     "name": "stderr",
     "output_type": "stream",
     "text": [
      "Processing images:  74%|███████▎  | 148/201 [00:23<00:08,  6.41it/s]"
     ]
    },
    {
     "name": "stdout",
     "output_type": "stream",
     "text": [
      "\n",
      "image 1/1 /Users/varunravi/Desktop/OD/sequences/000002/camera_front_blur/000002_romeo_2022-06-13T10:49:59.863318Z.jpg: 384x640 3 Vehicles, 22.4ms\n",
      "Speed: 1.3ms preprocess, 22.4ms inference, 0.3ms postprocess per image at shape (1, 3, 384, 640)\n"
     ]
    },
    {
     "name": "stderr",
     "output_type": "stream",
     "text": [
      "Processing images:  74%|███████▍  | 149/201 [00:23<00:07,  6.97it/s]"
     ]
    },
    {
     "name": "stdout",
     "output_type": "stream",
     "text": [
      "\n",
      "image 1/1 /Users/varunravi/Desktop/OD/sequences/000002/camera_front_blur/000002_romeo_2022-06-13T10:50:08.973778Z.jpg: 384x640 12 Vehicles, 22.8ms\n",
      "Speed: 1.2ms preprocess, 22.8ms inference, 0.3ms postprocess per image at shape (1, 3, 384, 640)\n"
     ]
    },
    {
     "name": "stderr",
     "output_type": "stream",
     "text": [
      "Processing images:  75%|███████▍  | 150/201 [00:23<00:07,  6.53it/s]"
     ]
    },
    {
     "name": "stdout",
     "output_type": "stream",
     "text": [
      "\n",
      "image 1/1 /Users/varunravi/Desktop/OD/sequences/000002/camera_front_blur/000002_romeo_2022-06-13T10:50:11.548473Z.jpg: 384x640 1 TrafficSign, 4 Vehicles, 23.5ms\n",
      "Speed: 1.4ms preprocess, 23.5ms inference, 0.3ms postprocess per image at shape (1, 3, 384, 640)\n"
     ]
    },
    {
     "name": "stderr",
     "output_type": "stream",
     "text": [
      "Processing images:  75%|███████▌  | 151/201 [00:23<00:07,  6.84it/s]"
     ]
    },
    {
     "name": "stdout",
     "output_type": "stream",
     "text": [
      "\n",
      "image 1/1 /Users/varunravi/Desktop/OD/sequences/000002/camera_front_blur/000002_romeo_2022-06-13T10:49:59.170131Z.jpg: 384x640 6 Vehicles, 1 TrafficGuide, 22.9ms\n",
      "Speed: 1.2ms preprocess, 22.9ms inference, 0.3ms postprocess per image at shape (1, 3, 384, 640)\n"
     ]
    },
    {
     "name": "stderr",
     "output_type": "stream",
     "text": [
      "Processing images:  76%|███████▌  | 152/201 [00:23<00:07,  6.86it/s]"
     ]
    },
    {
     "name": "stdout",
     "output_type": "stream",
     "text": [
      "\n",
      "image 1/1 /Users/varunravi/Desktop/OD/sequences/000002/camera_front_blur/000002_romeo_2022-06-13T10:50:09.468911Z.jpg: 384x640 10 Vehicles, 23.5ms\n",
      "Speed: 1.3ms preprocess, 23.5ms inference, 0.3ms postprocess per image at shape (1, 3, 384, 640)\n"
     ]
    },
    {
     "name": "stderr",
     "output_type": "stream",
     "text": [
      "Processing images:  76%|███████▌  | 153/201 [00:23<00:07,  6.62it/s]"
     ]
    },
    {
     "name": "stdout",
     "output_type": "stream",
     "text": [
      "\n",
      "image 1/1 /Users/varunravi/Desktop/OD/sequences/000002/camera_front_blur/000002_romeo_2022-06-13T10:50:05.111735Z.jpg: 384x640 6 Vehicles, 23.4ms\n",
      "Speed: 1.3ms preprocess, 23.4ms inference, 0.3ms postprocess per image at shape (1, 3, 384, 640)\n"
     ]
    },
    {
     "name": "stderr",
     "output_type": "stream",
     "text": [
      "Processing images:  77%|███████▋  | 154/201 [00:23<00:06,  6.78it/s]"
     ]
    },
    {
     "name": "stdout",
     "output_type": "stream",
     "text": [
      "\n",
      "image 1/1 /Users/varunravi/Desktop/OD/sequences/000002/camera_front_blur/000002_romeo_2022-06-13T10:50:14.717328Z.jpg: 384x640 7 Vehicles, 23.7ms\n",
      "Speed: 1.4ms preprocess, 23.7ms inference, 0.3ms postprocess per image at shape (1, 3, 384, 640)\n"
     ]
    },
    {
     "name": "stderr",
     "output_type": "stream",
     "text": [
      "Processing images:  77%|███████▋  | 155/201 [00:24<00:06,  6.85it/s]"
     ]
    },
    {
     "name": "stdout",
     "output_type": "stream",
     "text": [
      "\n",
      "image 1/1 /Users/varunravi/Desktop/OD/sequences/000002/camera_front_blur/000002_romeo_2022-06-13T10:50:12.538740Z.jpg: 384x640 1 TrafficSign, 5 Vehicles, 23.0ms\n",
      "Speed: 1.3ms preprocess, 23.0ms inference, 0.3ms postprocess per image at shape (1, 3, 384, 640)\n"
     ]
    },
    {
     "name": "stderr",
     "output_type": "stream",
     "text": [
      "Processing images:  78%|███████▊  | 156/201 [00:24<00:06,  7.07it/s]"
     ]
    },
    {
     "name": "stdout",
     "output_type": "stream",
     "text": [
      "\n",
      "image 1/1 /Users/varunravi/Desktop/OD/sequences/000002/camera_front_blur/000002_romeo_2022-06-13T10:50:08.874751Z.jpg: 384x640 10 Vehicles, 23.0ms\n",
      "Speed: 1.3ms preprocess, 23.0ms inference, 0.3ms postprocess per image at shape (1, 3, 384, 640)\n"
     ]
    },
    {
     "name": "stderr",
     "output_type": "stream",
     "text": [
      "Processing images:  78%|███████▊  | 157/201 [00:24<00:06,  6.73it/s]"
     ]
    },
    {
     "name": "stdout",
     "output_type": "stream",
     "text": [
      "\n",
      "image 1/1 /Users/varunravi/Desktop/OD/sequences/000002/camera_front_blur/000002_romeo_2022-06-13T10:50:12.043606Z.jpg: 384x640 1 TrafficSign, 3 Vehicles, 23.6ms\n",
      "Speed: 1.8ms preprocess, 23.6ms inference, 0.3ms postprocess per image at shape (1, 3, 384, 640)\n"
     ]
    },
    {
     "name": "stderr",
     "output_type": "stream",
     "text": [
      "Processing images:  79%|███████▊  | 158/201 [00:24<00:05,  7.28it/s]"
     ]
    },
    {
     "name": "stdout",
     "output_type": "stream",
     "text": [
      "\n",
      "image 1/1 /Users/varunravi/Desktop/OD/sequences/000002/camera_front_blur/000002_romeo_2022-06-13T10:50:12.637767Z.jpg: 384x640 1 TrafficSign, 7 Vehicles, 23.0ms\n",
      "Speed: 1.4ms preprocess, 23.0ms inference, 0.3ms postprocess per image at shape (1, 3, 384, 640)\n"
     ]
    },
    {
     "name": "stderr",
     "output_type": "stream",
     "text": [
      "Processing images:  79%|███████▉  | 159/201 [00:24<00:05,  7.24it/s]"
     ]
    },
    {
     "name": "stdout",
     "output_type": "stream",
     "text": [
      "\n",
      "image 1/1 /Users/varunravi/Desktop/OD/sequences/000002/camera_front_blur/000002_romeo_2022-06-13T10:50:16.301756Z.jpg: 384x640 1 TrafficSign, 4 Vehicles, 23.5ms\n",
      "Speed: 1.3ms preprocess, 23.5ms inference, 0.3ms postprocess per image at shape (1, 3, 384, 640)\n"
     ]
    },
    {
     "name": "stderr",
     "output_type": "stream",
     "text": [
      "Processing images:  80%|███████▉  | 160/201 [00:24<00:05,  7.45it/s]"
     ]
    },
    {
     "name": "stdout",
     "output_type": "stream",
     "text": [
      "\n",
      "image 1/1 /Users/varunravi/Desktop/OD/sequences/000002/camera_front_blur/000002_romeo_2022-06-13T10:49:57.981811Z.jpg: 384x640 5 Vehicles, 22.8ms\n",
      "Speed: 1.4ms preprocess, 22.8ms inference, 0.3ms postprocess per image at shape (1, 3, 384, 640)\n"
     ]
    },
    {
     "name": "stderr",
     "output_type": "stream",
     "text": [
      "Processing images:  80%|████████  | 161/201 [00:24<00:05,  7.43it/s]"
     ]
    },
    {
     "name": "stdout",
     "output_type": "stream",
     "text": [
      "\n",
      "image 1/1 /Users/varunravi/Desktop/OD/sequences/000002/camera_front_blur/000002_romeo_2022-06-13T10:50:07.488377Z.jpg: 384x640 12 Vehicles, 23.1ms\n",
      "Speed: 1.4ms preprocess, 23.1ms inference, 0.3ms postprocess per image at shape (1, 3, 384, 640)\n"
     ]
    },
    {
     "name": "stderr",
     "output_type": "stream",
     "text": [
      "Processing images:  81%|████████  | 162/201 [00:25<00:05,  6.78it/s]"
     ]
    },
    {
     "name": "stdout",
     "output_type": "stream",
     "text": [
      "\n",
      "image 1/1 /Users/varunravi/Desktop/OD/sequences/000002/camera_front_blur/000002_romeo_2022-06-13T10:50:01.546773Z.jpg: 384x640 6 Vehicles, 23.0ms\n",
      "Speed: 1.3ms preprocess, 23.0ms inference, 0.3ms postprocess per image at shape (1, 3, 384, 640)\n"
     ]
    },
    {
     "name": "stderr",
     "output_type": "stream",
     "text": [
      "Processing images:  81%|████████  | 163/201 [00:25<00:05,  6.90it/s]"
     ]
    },
    {
     "name": "stdout",
     "output_type": "stream",
     "text": [
      "\n",
      "image 1/1 /Users/varunravi/Desktop/OD/sequences/000002/camera_front_blur/000002_romeo_2022-06-13T10:49:59.566238Z.jpg: 384x640 3 Vehicles, 23.4ms\n",
      "Speed: 1.5ms preprocess, 23.4ms inference, 0.3ms postprocess per image at shape (1, 3, 384, 640)\n"
     ]
    },
    {
     "name": "stderr",
     "output_type": "stream",
     "text": [
      "Processing images:  82%|████████▏ | 164/201 [00:25<00:05,  7.29it/s]"
     ]
    },
    {
     "name": "stdout",
     "output_type": "stream",
     "text": [
      "\n",
      "image 1/1 /Users/varunravi/Desktop/OD/sequences/000002/camera_front_blur/000002_romeo_2022-06-13T10:50:17.292023Z.jpg: 384x640 1 TrafficSign, 5 Vehicles, 22.7ms\n",
      "Speed: 1.3ms preprocess, 22.7ms inference, 0.3ms postprocess per image at shape (1, 3, 384, 640)\n"
     ]
    },
    {
     "name": "stderr",
     "output_type": "stream",
     "text": [
      "Processing images:  82%|████████▏ | 165/201 [00:25<00:04,  7.31it/s]"
     ]
    },
    {
     "name": "stdout",
     "output_type": "stream",
     "text": [
      "\n",
      "image 1/1 /Users/varunravi/Desktop/OD/sequences/000002/camera_front_blur/000002_romeo_2022-06-13T10:50:16.103702Z.jpg: 384x640 1 TrafficSign, 7 Vehicles, 23.2ms\n",
      "Speed: 1.3ms preprocess, 23.2ms inference, 0.3ms postprocess per image at shape (1, 3, 384, 640)\n"
     ]
    },
    {
     "name": "stderr",
     "output_type": "stream",
     "text": [
      "Processing images:  83%|████████▎ | 166/201 [00:25<00:04,  7.23it/s]"
     ]
    },
    {
     "name": "stdout",
     "output_type": "stream",
     "text": [
      "\n",
      "image 1/1 /Users/varunravi/Desktop/OD/sequences/000002/camera_front_blur/000002_romeo_2022-06-13T10:50:13.529007Z.jpg: 384x640 5 Vehicles, 23.0ms\n",
      "Speed: 1.3ms preprocess, 23.0ms inference, 0.3ms postprocess per image at shape (1, 3, 384, 640)\n"
     ]
    },
    {
     "name": "stderr",
     "output_type": "stream",
     "text": [
      "Processing images:  83%|████████▎ | 167/201 [00:25<00:04,  7.46it/s]"
     ]
    },
    {
     "name": "stdout",
     "output_type": "stream",
     "text": [
      "\n",
      "image 1/1 /Users/varunravi/Desktop/OD/sequences/000002/camera_front_blur/000002_romeo_2022-06-13T10:50:16.598836Z.jpg: 384x640 1 TrafficSign, 4 Vehicles, 23.0ms\n",
      "Speed: 1.3ms preprocess, 23.0ms inference, 0.3ms postprocess per image at shape (1, 3, 384, 640)\n"
     ]
    },
    {
     "name": "stderr",
     "output_type": "stream",
     "text": [
      "Processing images:  84%|████████▎ | 168/201 [00:25<00:04,  7.63it/s]"
     ]
    },
    {
     "name": "stdout",
     "output_type": "stream",
     "text": [
      "\n",
      "image 1/1 /Users/varunravi/Desktop/OD/sequences/000002/camera_front_blur/000002_romeo_2022-06-13T10:50:07.092270Z.jpg: 384x640 9 Vehicles, 1 VulnerableVehicle, 22.5ms\n",
      "Speed: 1.2ms preprocess, 22.5ms inference, 0.4ms postprocess per image at shape (1, 3, 384, 640)\n"
     ]
    },
    {
     "name": "stderr",
     "output_type": "stream",
     "text": [
      "Processing images:  84%|████████▍ | 169/201 [00:26<00:04,  7.06it/s]"
     ]
    },
    {
     "name": "stdout",
     "output_type": "stream",
     "text": [
      "\n",
      "image 1/1 /Users/varunravi/Desktop/OD/sequences/000002/camera_front_blur/000002_romeo_2022-06-13T10:50:15.212462Z.jpg: 384x640 1 TrafficSign, 12 Vehicles, 22.8ms\n",
      "Speed: 1.3ms preprocess, 22.8ms inference, 0.3ms postprocess per image at shape (1, 3, 384, 640)\n"
     ]
    },
    {
     "name": "stderr",
     "output_type": "stream",
     "text": [
      "Processing images:  85%|████████▍ | 170/201 [00:26<00:04,  6.73it/s]"
     ]
    },
    {
     "name": "stdout",
     "output_type": "stream",
     "text": [
      "\n",
      "image 1/1 /Users/varunravi/Desktop/OD/sequences/000002/camera_front_blur/000002_romeo_2022-06-13T10:50:00.655532Z.jpg: 384x640 7 Vehicles, 22.7ms\n",
      "Speed: 1.7ms preprocess, 22.7ms inference, 0.3ms postprocess per image at shape (1, 3, 384, 640)\n"
     ]
    },
    {
     "name": "stderr",
     "output_type": "stream",
     "text": [
      "Processing images:  85%|████████▌ | 171/201 [00:26<00:04,  6.80it/s]"
     ]
    },
    {
     "name": "stdout",
     "output_type": "stream",
     "text": [
      "\n",
      "image 1/1 /Users/varunravi/Desktop/OD/sequences/000002/camera_front_blur/000002_romeo_2022-06-13T10:50:09.270858Z.jpg: 384x640 13 Vehicles, 1 TrafficSignal, 23.5ms\n",
      "Speed: 1.3ms preprocess, 23.5ms inference, 0.4ms postprocess per image at shape (1, 3, 384, 640)\n"
     ]
    },
    {
     "name": "stderr",
     "output_type": "stream",
     "text": [
      "Processing images:  86%|████████▌ | 172/201 [00:26<00:04,  6.27it/s]"
     ]
    },
    {
     "name": "stdout",
     "output_type": "stream",
     "text": [
      "\n",
      "image 1/1 /Users/varunravi/Desktop/OD/sequences/000002/camera_front_blur/000002_romeo_2022-06-13T10:50:15.608569Z.jpg: 384x640 1 TrafficSign, 8 Vehicles, 23.5ms\n",
      "Speed: 1.4ms preprocess, 23.5ms inference, 0.3ms postprocess per image at shape (1, 3, 384, 640)\n"
     ]
    },
    {
     "name": "stderr",
     "output_type": "stream",
     "text": [
      "Processing images:  86%|████████▌ | 173/201 [00:26<00:04,  6.30it/s]"
     ]
    },
    {
     "name": "stdout",
     "output_type": "stream",
     "text": [
      "\n",
      "image 1/1 /Users/varunravi/Desktop/OD/sequences/000002/camera_front_blur/000002_romeo_2022-06-13T10:50:06.795190Z.jpg: 384x640 8 Vehicles, 23.1ms\n",
      "Speed: 1.3ms preprocess, 23.1ms inference, 0.3ms postprocess per image at shape (1, 3, 384, 640)\n"
     ]
    },
    {
     "name": "stderr",
     "output_type": "stream",
     "text": [
      "Processing images:  87%|████████▋ | 174/201 [00:26<00:04,  6.35it/s]"
     ]
    },
    {
     "name": "stdout",
     "output_type": "stream",
     "text": [
      "\n",
      "image 1/1 /Users/varunravi/Desktop/OD/sequences/000002/camera_front_blur/000002_romeo_2022-06-13T10:49:58.674998Z.jpg: 384x640 6 Vehicles, 22.9ms\n",
      "Speed: 1.2ms preprocess, 22.9ms inference, 0.3ms postprocess per image at shape (1, 3, 384, 640)\n"
     ]
    },
    {
     "name": "stderr",
     "output_type": "stream",
     "text": [
      "Processing images:  87%|████████▋ | 175/201 [00:27<00:03,  6.53it/s]"
     ]
    },
    {
     "name": "stdout",
     "output_type": "stream",
     "text": [
      "\n",
      "image 1/1 /Users/varunravi/Desktop/OD/sequences/000002/camera_front_blur/000002_romeo_2022-06-13T10:50:08.379617Z.jpg: 384x640 10 Vehicles, 23.3ms\n",
      "Speed: 1.3ms preprocess, 23.3ms inference, 0.3ms postprocess per image at shape (1, 3, 384, 640)\n"
     ]
    },
    {
     "name": "stderr",
     "output_type": "stream",
     "text": [
      "Processing images:  88%|████████▊ | 176/201 [00:27<00:03,  6.37it/s]"
     ]
    },
    {
     "name": "stdout",
     "output_type": "stream",
     "text": [
      "\n",
      "image 1/1 /Users/varunravi/Desktop/OD/sequences/000002/camera_front_blur/000002_romeo_2022-06-13T10:50:07.389350Z.jpg: 384x640 11 Vehicles, 22.8ms\n",
      "Speed: 1.4ms preprocess, 22.8ms inference, 0.3ms postprocess per image at shape (1, 3, 384, 640)\n"
     ]
    },
    {
     "name": "stderr",
     "output_type": "stream",
     "text": [
      "Processing images:  88%|████████▊ | 177/201 [00:27<00:03,  6.26it/s]"
     ]
    },
    {
     "name": "stdout",
     "output_type": "stream",
     "text": [
      "\n",
      "image 1/1 /Users/varunravi/Desktop/OD/sequences/000002/camera_front_blur/000002_romeo_2022-06-13T10:50:05.606869Z.jpg: 384x640 7 Vehicles, 22.8ms\n",
      "Speed: 1.3ms preprocess, 22.8ms inference, 0.3ms postprocess per image at shape (1, 3, 384, 640)\n"
     ]
    },
    {
     "name": "stderr",
     "output_type": "stream",
     "text": [
      "Processing images:  89%|████████▊ | 178/201 [00:27<00:03,  6.42it/s]"
     ]
    },
    {
     "name": "stdout",
     "output_type": "stream",
     "text": [
      "\n",
      "image 1/1 /Users/varunravi/Desktop/OD/sequences/000002/camera_front_blur/000002_romeo_2022-06-13T10:50:04.418548Z.jpg: 384x640 3 Vehicles, 24.4ms\n",
      "Speed: 1.5ms preprocess, 24.4ms inference, 0.3ms postprocess per image at shape (1, 3, 384, 640)\n"
     ]
    },
    {
     "name": "stderr",
     "output_type": "stream",
     "text": [
      "Processing images:  89%|████████▉ | 179/201 [00:27<00:03,  6.89it/s]"
     ]
    },
    {
     "name": "stdout",
     "output_type": "stream",
     "text": [
      "\n",
      "image 1/1 /Users/varunravi/Desktop/OD/sequences/000002/camera_front_blur/000002_romeo_2022-06-13T10:50:10.162099Z.jpg: 384x640 8 Vehicles, 1 TrafficSignal, 23.8ms\n",
      "Speed: 1.3ms preprocess, 23.8ms inference, 0.3ms postprocess per image at shape (1, 3, 384, 640)\n"
     ]
    },
    {
     "name": "stderr",
     "output_type": "stream",
     "text": [
      "Processing images:  90%|████████▉ | 180/201 [00:27<00:03,  6.73it/s]"
     ]
    },
    {
     "name": "stdout",
     "output_type": "stream",
     "text": [
      "\n",
      "image 1/1 /Users/varunravi/Desktop/OD/sequences/000002/camera_front_blur/000002_romeo_2022-06-13T10:50:09.765992Z.jpg: 384x640 11 Vehicles, 22.8ms\n",
      "Speed: 1.4ms preprocess, 22.8ms inference, 0.4ms postprocess per image at shape (1, 3, 384, 640)\n"
     ]
    },
    {
     "name": "stderr",
     "output_type": "stream",
     "text": [
      "Processing images:  90%|█████████ | 181/201 [00:27<00:03,  6.49it/s]"
     ]
    },
    {
     "name": "stdout",
     "output_type": "stream",
     "text": [
      "\n",
      "image 1/1 /Users/varunravi/Desktop/OD/sequences/000002/camera_front_blur/000002_romeo_2022-06-13T10:50:14.915382Z.jpg: 384x640 10 Vehicles, 23.1ms\n",
      "Speed: 1.3ms preprocess, 23.1ms inference, 0.3ms postprocess per image at shape (1, 3, 384, 640)\n"
     ]
    },
    {
     "name": "stderr",
     "output_type": "stream",
     "text": [
      "Processing images:  91%|█████████ | 182/201 [00:28<00:02,  6.57it/s]"
     ]
    },
    {
     "name": "stdout",
     "output_type": "stream",
     "text": [
      "\n",
      "image 1/1 /Users/varunravi/Desktop/OD/sequences/000002/camera_front_blur/000002_romeo_2022-06-13T10:50:14.024141Z.jpg: 384x640 9 Vehicles, 22.6ms\n",
      "Speed: 1.3ms preprocess, 22.6ms inference, 0.3ms postprocess per image at shape (1, 3, 384, 640)\n"
     ]
    },
    {
     "name": "stderr",
     "output_type": "stream",
     "text": [
      "Processing images:  91%|█████████ | 183/201 [00:28<00:02,  6.63it/s]"
     ]
    },
    {
     "name": "stdout",
     "output_type": "stream",
     "text": [
      "\n",
      "image 1/1 /Users/varunravi/Desktop/OD/sequences/000002/camera_front_blur/000002_romeo_2022-06-13T10:50:00.061372Z.jpg: 384x640 3 Vehicles, 23.1ms\n",
      "Speed: 1.3ms preprocess, 23.1ms inference, 0.3ms postprocess per image at shape (1, 3, 384, 640)\n"
     ]
    },
    {
     "name": "stderr",
     "output_type": "stream",
     "text": [
      "Processing images:  92%|█████████▏| 184/201 [00:28<00:02,  7.06it/s]"
     ]
    },
    {
     "name": "stdout",
     "output_type": "stream",
     "text": [
      "\n",
      "image 1/1 /Users/varunravi/Desktop/OD/sequences/000002/camera_front_blur/000002_romeo_2022-06-13T10:50:11.053339Z.jpg: 384x640 1 TrafficSign, 3 Vehicles, 23.0ms\n",
      "Speed: 1.3ms preprocess, 23.0ms inference, 0.3ms postprocess per image at shape (1, 3, 384, 640)\n"
     ]
    },
    {
     "name": "stderr",
     "output_type": "stream",
     "text": [
      "Processing images:  92%|█████████▏| 185/201 [00:28<00:02,  7.33it/s]"
     ]
    },
    {
     "name": "stdout",
     "output_type": "stream",
     "text": [
      "\n",
      "image 1/1 /Users/varunravi/Desktop/OD/sequences/000002/camera_front_blur/000002_romeo_2022-06-13T10:50:00.457479Z.jpg: 384x640 6 Vehicles, 23.2ms\n",
      "Speed: 1.2ms preprocess, 23.2ms inference, 0.3ms postprocess per image at shape (1, 3, 384, 640)\n"
     ]
    },
    {
     "name": "stderr",
     "output_type": "stream",
     "text": [
      "Processing images:  93%|█████████▎| 186/201 [00:28<00:02,  7.30it/s]"
     ]
    },
    {
     "name": "stdout",
     "output_type": "stream",
     "text": [
      "\n",
      "image 1/1 /Users/varunravi/Desktop/OD/sequences/000002/camera_front_blur/000002_romeo_2022-06-13T10:50:10.558206Z.jpg: 384x640 1 TrafficSign, 6 Vehicles, 1 TrafficSignal, 23.0ms\n",
      "Speed: 1.4ms preprocess, 23.0ms inference, 0.3ms postprocess per image at shape (1, 3, 384, 640)\n"
     ]
    },
    {
     "name": "stderr",
     "output_type": "stream",
     "text": [
      "Processing images:  93%|█████████▎| 187/201 [00:28<00:01,  7.11it/s]"
     ]
    },
    {
     "name": "stdout",
     "output_type": "stream",
     "text": [
      "\n",
      "image 1/1 /Users/varunravi/Desktop/OD/sequences/000002/camera_front_blur/000002_romeo_2022-06-13T10:50:07.884484Z.jpg: 384x640 12 Vehicles, 22.7ms\n",
      "Speed: 1.4ms preprocess, 22.7ms inference, 0.3ms postprocess per image at shape (1, 3, 384, 640)\n"
     ]
    },
    {
     "name": "stderr",
     "output_type": "stream",
     "text": [
      "Processing images:  94%|█████████▎| 188/201 [00:28<00:01,  6.61it/s]"
     ]
    },
    {
     "name": "stdout",
     "output_type": "stream",
     "text": [
      "\n",
      "image 1/1 /Users/varunravi/Desktop/OD/sequences/000002/camera_front_blur/000002_romeo_2022-06-13T10:50:00.754559Z.jpg: 384x640 5 Vehicles, 22.8ms\n",
      "Speed: 1.3ms preprocess, 22.8ms inference, 0.4ms postprocess per image at shape (1, 3, 384, 640)\n"
     ]
    },
    {
     "name": "stderr",
     "output_type": "stream",
     "text": [
      "Processing images:  94%|█████████▍| 189/201 [00:29<00:01,  6.84it/s]"
     ]
    },
    {
     "name": "stdout",
     "output_type": "stream",
     "text": [
      "\n",
      "image 1/1 /Users/varunravi/Desktop/OD/sequences/000002/camera_front_blur/000002_romeo_2022-06-13T10:50:02.933147Z.jpg: 384x640 4 Vehicles, 22.6ms\n",
      "Speed: 1.4ms preprocess, 22.6ms inference, 0.3ms postprocess per image at shape (1, 3, 384, 640)\n"
     ]
    },
    {
     "name": "stderr",
     "output_type": "stream",
     "text": [
      "Processing images:  95%|█████████▍| 190/201 [00:29<00:01,  7.21it/s]"
     ]
    },
    {
     "name": "stdout",
     "output_type": "stream",
     "text": [
      "\n",
      "image 1/1 /Users/varunravi/Desktop/OD/sequences/000002/camera_front_blur/000002_romeo_2022-06-13T10:50:06.201029Z.jpg: 384x640 8 Vehicles, 24.7ms\n",
      "Speed: 1.3ms preprocess, 24.7ms inference, 0.3ms postprocess per image at shape (1, 3, 384, 640)\n"
     ]
    },
    {
     "name": "stderr",
     "output_type": "stream",
     "text": [
      "Processing images:  95%|█████████▌| 191/201 [00:29<00:01,  6.83it/s]"
     ]
    },
    {
     "name": "stdout",
     "output_type": "stream",
     "text": [
      "\n",
      "image 1/1 /Users/varunravi/Desktop/OD/sequences/000002/camera_front_blur/000002_romeo_2022-06-13T10:49:58.774024Z.jpg: 384x640 6 Vehicles, 29.2ms\n",
      "Speed: 2.1ms preprocess, 29.2ms inference, 0.3ms postprocess per image at shape (1, 3, 384, 640)\n"
     ]
    },
    {
     "name": "stderr",
     "output_type": "stream",
     "text": [
      "Processing images:  96%|█████████▌| 192/201 [00:29<00:01,  6.65it/s]"
     ]
    },
    {
     "name": "stdout",
     "output_type": "stream",
     "text": [
      "\n",
      "image 1/1 /Users/varunravi/Desktop/OD/sequences/000002/camera_front_blur/000002_romeo_2022-06-13T10:50:13.429981Z.jpg: 384x640 7 Vehicles, 27.2ms\n",
      "Speed: 1.5ms preprocess, 27.2ms inference, 0.3ms postprocess per image at shape (1, 3, 384, 640)\n"
     ]
    },
    {
     "name": "stderr",
     "output_type": "stream",
     "text": [
      "Processing images:  96%|█████████▌| 193/201 [00:29<00:01,  6.64it/s]"
     ]
    },
    {
     "name": "stdout",
     "output_type": "stream",
     "text": [
      "\n",
      "image 1/1 /Users/varunravi/Desktop/OD/sequences/000002/camera_front_blur/000002_romeo_2022-06-13T10:50:05.309789Z.jpg: 384x640 7 Vehicles, 23.1ms\n",
      "Speed: 1.3ms preprocess, 23.1ms inference, 0.3ms postprocess per image at shape (1, 3, 384, 640)\n"
     ]
    },
    {
     "name": "stderr",
     "output_type": "stream",
     "text": [
      "Processing images:  97%|█████████▋| 194/201 [00:29<00:01,  6.91it/s]"
     ]
    },
    {
     "name": "stdout",
     "output_type": "stream",
     "text": [
      "\n",
      "image 1/1 /Users/varunravi/Desktop/OD/sequences/000002/camera_front_blur/000002_romeo_2022-06-13T10:50:10.855286Z.jpg: 384x640 1 TrafficSign, 4 Vehicles, 24.3ms\n",
      "Speed: 1.3ms preprocess, 24.3ms inference, 0.3ms postprocess per image at shape (1, 3, 384, 640)\n"
     ]
    },
    {
     "name": "stderr",
     "output_type": "stream",
     "text": [
      "Processing images:  97%|█████████▋| 195/201 [00:29<00:00,  7.06it/s]"
     ]
    },
    {
     "name": "stdout",
     "output_type": "stream",
     "text": [
      "\n",
      "image 1/1 /Users/varunravi/Desktop/OD/sequences/000002/camera_front_blur/000002_romeo_2022-06-13T10:49:58.972078Z.jpg: 384x640 5 Vehicles, 25.2ms\n",
      "Speed: 1.5ms preprocess, 25.2ms inference, 0.3ms postprocess per image at shape (1, 3, 384, 640)\n"
     ]
    },
    {
     "name": "stderr",
     "output_type": "stream",
     "text": [
      "Processing images:  98%|█████████▊| 196/201 [00:30<00:00,  7.12it/s]"
     ]
    },
    {
     "name": "stdout",
     "output_type": "stream",
     "text": [
      "\n",
      "image 1/1 /Users/varunravi/Desktop/OD/sequences/000002/camera_front_blur/000002_romeo_2022-06-13T10:50:02.438013Z.jpg: 384x640 1 PoleObject, 7 Vehicles, 23.5ms\n",
      "Speed: 1.4ms preprocess, 23.5ms inference, 0.3ms postprocess per image at shape (1, 3, 384, 640)\n"
     ]
    },
    {
     "name": "stderr",
     "output_type": "stream",
     "text": [
      "Processing images:  98%|█████████▊| 197/201 [00:30<00:00,  7.00it/s]"
     ]
    },
    {
     "name": "stdout",
     "output_type": "stream",
     "text": [
      "\n",
      "image 1/1 /Users/varunravi/Desktop/OD/sequences/000002/camera_front_blur/000002_romeo_2022-06-13T10:49:59.467212Z.jpg: 384x640 4 Vehicles, 24.1ms\n",
      "Speed: 1.4ms preprocess, 24.1ms inference, 0.3ms postprocess per image at shape (1, 3, 384, 640)\n"
     ]
    },
    {
     "name": "stderr",
     "output_type": "stream",
     "text": [
      "Processing images:  99%|█████████▊| 198/201 [00:30<00:00,  7.23it/s]"
     ]
    },
    {
     "name": "stdout",
     "output_type": "stream",
     "text": [
      "\n",
      "image 1/1 /Users/varunravi/Desktop/OD/sequences/000002/camera_front_blur/000002_romeo_2022-06-13T10:50:12.736794Z.jpg: 384x640 1 TrafficSign, 5 Vehicles, 23.6ms\n",
      "Speed: 1.3ms preprocess, 23.6ms inference, 0.3ms postprocess per image at shape (1, 3, 384, 640)\n"
     ]
    },
    {
     "name": "stderr",
     "output_type": "stream",
     "text": [
      "Processing images:  99%|█████████▉| 199/201 [00:30<00:00,  7.26it/s]"
     ]
    },
    {
     "name": "stdout",
     "output_type": "stream",
     "text": [
      "\n",
      "image 1/1 /Users/varunravi/Desktop/OD/sequences/000002/camera_front_blur/000002_romeo_2022-06-13T10:50:17.192997Z.jpg: 384x640 1 TrafficSign, 5 Vehicles, 24.5ms\n",
      "Speed: 1.7ms preprocess, 24.5ms inference, 0.3ms postprocess per image at shape (1, 3, 384, 640)\n"
     ]
    },
    {
     "name": "stderr",
     "output_type": "stream",
     "text": [
      "Processing images: 100%|█████████▉| 200/201 [00:30<00:00,  7.28it/s]"
     ]
    },
    {
     "name": "stdout",
     "output_type": "stream",
     "text": [
      "\n",
      "image 1/1 /Users/varunravi/Desktop/OD/sequences/000002/camera_front_blur/000002_romeo_2022-06-13T10:50:14.222195Z.jpg: 384x640 6 Vehicles, 24.4ms\n",
      "Speed: 1.4ms preprocess, 24.4ms inference, 0.4ms postprocess per image at shape (1, 3, 384, 640)\n"
     ]
    },
    {
     "name": "stderr",
     "output_type": "stream",
     "text": [
      "Processing images: 100%|██████████| 201/201 [00:30<00:00,  6.53it/s]\n"
     ]
    },
    {
     "name": "stdout",
     "output_type": "stream",
     "text": [
      "Video successfully saved at: /Users/varunravi/Desktop/OD/sequences/000002/detected_sequence.mp4\n"
     ]
    }
   ],
   "source": [
    "import os\n",
    "import cv2\n",
    "from tqdm import tqdm\n",
    "from ultralytics import YOLO\n",
    "import random\n",
    "\n",
    "# Load the pretrained YOLOv8 model\n",
    "model = YOLO(\"/opt/homebrew/runs/detect/train29/weights/best.pt\")\n",
    "\n",
    "# Define the path to the sequence images and the path to save the results video\n",
    "sequence_folder = \"/Users/varunravi/Desktop/OD/sequences/000002/camera_front_blur\"\n",
    "video_save_path = \"/Users/varunravi/Desktop/OD/sequences/000002/detected_sequence.mp4\"\n",
    "\n",
    "# Get list of images in the given order (without sorting)\n",
    "sequence_images = [\n",
    "    os.path.join(sequence_folder, f) for f in os.listdir(sequence_folder) if f.endswith(('.jpg', '.jpeg', '.png'))\n",
    "]\n",
    "\n",
    "# Check if there are images to process\n",
    "if not sequence_images:\n",
    "    print(\"No images found in the sequence folder.\")\n",
    "    exit()\n",
    "\n",
    "# Read the first image to determine the video dimensions\n",
    "first_image = cv2.imread(sequence_images[0])\n",
    "if first_image is None:\n",
    "    print(\"Failed to load the first image.\")\n",
    "    exit()\n",
    "\n",
    "# Get image dimensions (width, height)\n",
    "height, width, _ = first_image.shape\n",
    "\n",
    "# Define the video writer with codec, output path, fps, and frame size\n",
    "fourcc = cv2.VideoWriter_fourcc(*'mp4v')  # Codec for mp4 format\n",
    "fps = 7  # Frames per second for the output video\n",
    "video_writer = cv2.VideoWriter(video_save_path, fourcc, fps, (width, height))\n",
    "\n",
    "# Generate random colors for each class\n",
    "class_colors = {name: (random.randint(0, 255), random.randint(0, 255), random.randint(0, 255)) for name in model.names.values()}\n",
    "\n",
    "def draw_sleek_bounding_boxes(image, boxes, labels, scores, class_colors):\n",
    "    \"\"\"Draws sleek and elegant bounding boxes with different colors for each class.\"\"\"\n",
    "    for box, label, score in zip(boxes, labels, scores):\n",
    "        # Extract box coordinates\n",
    "        x_min, y_min, x_max, y_max = map(int, box)\n",
    "\n",
    "        # Use class-specific color\n",
    "        color = class_colors[label]\n",
    "\n",
    "        # Draw the rectangle with a sleek thin line\n",
    "        cv2.rectangle(image, (x_min, y_min), (x_max, y_max), color, 2, lineType=cv2.LINE_AA)\n",
    "\n",
    "        # Prepare the label with the score\n",
    "        label_text = f\"{label}: {score:.2f}\"\n",
    "        (label_width, label_height), baseline = cv2.getTextSize(label_text, cv2.FONT_HERSHEY_SIMPLEX, 0.5, 1)\n",
    "\n",
    "        # Draw a semi-transparent background for the label\n",
    "        overlay = image.copy()\n",
    "        label_bg_top_left = (x_min, y_min - label_height - baseline - 10)\n",
    "        label_bg_bottom_right = (x_min + label_width + 10, y_min)\n",
    "        cv2.rectangle(overlay, label_bg_top_left, label_bg_bottom_right, color, -1)\n",
    "        alpha = 0.6\n",
    "        cv2.addWeighted(overlay, alpha, image, 1 - alpha, 0, image)\n",
    "\n",
    "        # Draw the label text\n",
    "        label_pos = (x_min + 5, y_min - baseline - 5)\n",
    "        cv2.putText(image, label_text, label_pos, cv2.FONT_HERSHEY_SIMPLEX, 0.5, (255, 255, 255), 1, lineType=cv2.LINE_AA)\n",
    "\n",
    "    return image\n",
    "\n",
    "# Process each image, run inference, draw bounding boxes, and write to video\n",
    "for image_path in tqdm(sequence_images, desc=\"Processing images\"):\n",
    "    # Run inference on the current image\n",
    "    result = model(image_path)[0]  # Get the first (and only) result\n",
    "\n",
    "    # Get bounding boxes, labels, and scores from the result\n",
    "    boxes = result.boxes.xyxy.cpu().numpy()  # Bounding box coordinates\n",
    "    scores = result.boxes.conf.cpu().numpy()  # Confidence scores\n",
    "    labels = [model.names[int(cls)] for cls in result.boxes.cls.cpu().numpy()]  # Class names\n",
    "\n",
    "    # Load the original image\n",
    "    image = cv2.imread(image_path)\n",
    "\n",
    "    # Draw sleek and elegant bounding boxes with class-specific colors\n",
    "    sleek_image = draw_sleek_bounding_boxes(image, boxes, labels, scores, class_colors)\n",
    "\n",
    "    # Write the result image to the video\n",
    "    video_writer.write(sleek_image)\n",
    "\n",
    "# Release the video writer\n",
    "video_writer.release()\n",
    "\n",
    "# Inform the user about the saved video\n",
    "print(f\"Video successfully saved at: {video_save_path}\")\n",
    "\n",
    "# Optionally display the video\n",
    "cap = cv2.VideoCapture(video_save_path)\n",
    "while cap.isOpened():\n",
    "    ret, frame = cap.read()\n",
    "    if not ret:\n",
    "        break\n",
    "    cv2.imshow('Detected Video', frame)\n",
    "    if cv2.waitKey(25) & 0xFF == ord('q'):  # Press 'q' to exit the video display\n",
    "        break\n",
    "\n",
    "cap.release()\n",
    "cv2.destroyAllWindows()"
   ]
  },
  {
   "cell_type": "code",
   "execution_count": null,
   "metadata": {},
   "outputs": [],
   "source": [
    "imageio.mimsave(gif_save_path, gif_frames, duration=0.5)  # Duration between frames (in seconds)"
   ]
  },
  {
   "cell_type": "code",
   "execution_count": 1,
   "metadata": {},
   "outputs": [
    {
     "name": "stderr",
     "output_type": "stream",
     "text": [
      "Creating video: 100%|██████████| 201/201 [00:10<00:00, 19.97it/s]"
     ]
    },
    {
     "name": "stdout",
     "output_type": "stream",
     "text": [
      "Video successfully saved at: /Users/varunravi/Desktop/OD/sequences/output_video.mp4\n"
     ]
    },
    {
     "name": "stderr",
     "output_type": "stream",
     "text": [
      "\n"
     ]
    }
   ],
   "source": [
    "import os\n",
    "import cv2\n",
    "from tqdm import tqdm\n",
    "\n",
    "# Define the path to the folder containing images and the output video file\n",
    "image_folder = \"/Users/varunravi/Desktop/OD/sequences/000002/camera_front_blur\"  # Replace with your folder path\n",
    "video_save_path = \"/Users/varunravi/Desktop/OD/sequences/output_video.mp4\"  # Replace with your desired output video path\n",
    "\n",
    "# Get list of images sorted in the correct order\n",
    "image_files = [f for f in os.listdir(image_folder) if f.endswith(('.jpg', '.jpeg', '.png'))]\n",
    "image_files.sort()  # Sort files to ensure correct order\n",
    "\n",
    "# Check if there are images to process\n",
    "if not image_files:\n",
    "    print(\"No images found in the folder.\")\n",
    "    exit()\n",
    "\n",
    "# Read the first image to determine the video dimensions\n",
    "first_image_path = os.path.join(image_folder, image_files[0])\n",
    "first_image = cv2.imread(first_image_path)\n",
    "\n",
    "if first_image is None:\n",
    "    print(f\"Failed to load the first image: {first_image_path}\")\n",
    "    exit()\n",
    "\n",
    "# Get image dimensions (width, height)\n",
    "height, width, _ = first_image.shape\n",
    "\n",
    "# Define the video writer with codec, output path, fps, and frame size\n",
    "fourcc = cv2.VideoWriter_fourcc(*'mp4v')  # Codec for mp4 format\n",
    "fps = 30  # Frames per second for the output video\n",
    "video_writer = cv2.VideoWriter(video_save_path, fourcc, fps, (width, height))\n",
    "\n",
    "# Write each image to the video\n",
    "for image_file in tqdm(image_files, desc=\"Creating video\"):\n",
    "    image_path = os.path.join(image_folder, image_file)\n",
    "    image = cv2.imread(image_path)\n",
    "\n",
    "    if image is None:\n",
    "        print(f\"Failed to load image: {image_path}\")\n",
    "        continue\n",
    "\n",
    "    # Write the image frame to the video\n",
    "    video_writer.write(image)\n",
    "\n",
    "# Release the video writer\n",
    "video_writer.release()\n",
    "\n",
    "# Inform the user about the saved video\n",
    "print(f\"Video successfully saved at: {video_save_path}\")"
   ]
  },
  {
   "cell_type": "code",
   "execution_count": 11,
   "metadata": {},
   "outputs": [
    {
     "name": "stdout",
     "output_type": "stream",
     "text": [
      "\n",
      "0: 384x640 6 Vehicles, 25.3ms\n",
      "Speed: 2.1ms preprocess, 25.3ms inference, 0.5ms postprocess per image at shape (1, 3, 384, 640)\n",
      "\n",
      "0: 384x640 5 Vehicles, 23.9ms\n",
      "Speed: 1.9ms preprocess, 23.9ms inference, 0.4ms postprocess per image at shape (1, 3, 384, 640)\n",
      "\n",
      "0: 384x640 5 Vehicles, 21.9ms\n",
      "Speed: 1.5ms preprocess, 21.9ms inference, 0.3ms postprocess per image at shape (1, 3, 384, 640)\n",
      "\n",
      "0: 384x640 1 TrafficSign, 7 Vehicles, 21.9ms\n",
      "Speed: 1.3ms preprocess, 21.9ms inference, 0.3ms postprocess per image at shape (1, 3, 384, 640)\n",
      "\n",
      "0: 384x640 6 Vehicles, 23.0ms\n",
      "Speed: 1.3ms preprocess, 23.0ms inference, 0.4ms postprocess per image at shape (1, 3, 384, 640)\n",
      "\n",
      "0: 384x640 7 Vehicles, 21.2ms\n",
      "Speed: 1.3ms preprocess, 21.2ms inference, 0.4ms postprocess per image at shape (1, 3, 384, 640)\n",
      "\n",
      "0: 384x640 6 Vehicles, 21.9ms\n",
      "Speed: 1.3ms preprocess, 21.9ms inference, 0.3ms postprocess per image at shape (1, 3, 384, 640)\n",
      "\n",
      "0: 384x640 8 Vehicles, 2 TrafficGuides, 22.8ms\n",
      "Speed: 1.4ms preprocess, 22.8ms inference, 0.3ms postprocess per image at shape (1, 3, 384, 640)\n",
      "\n",
      "0: 384x640 9 Vehicles, 22.1ms\n",
      "Speed: 1.2ms preprocess, 22.1ms inference, 0.3ms postprocess per image at shape (1, 3, 384, 640)\n",
      "\n",
      "0: 384x640 10 Vehicles, 22.1ms\n",
      "Speed: 1.2ms preprocess, 22.1ms inference, 0.3ms postprocess per image at shape (1, 3, 384, 640)\n",
      "\n",
      "0: 384x640 9 Vehicles, 22.1ms\n",
      "Speed: 1.3ms preprocess, 22.1ms inference, 0.3ms postprocess per image at shape (1, 3, 384, 640)\n",
      "\n",
      "0: 384x640 8 Vehicles, 22.8ms\n",
      "Speed: 1.2ms preprocess, 22.8ms inference, 0.3ms postprocess per image at shape (1, 3, 384, 640)\n",
      "\n",
      "0: 384x640 7 Vehicles, 22.3ms\n",
      "Speed: 1.2ms preprocess, 22.3ms inference, 0.3ms postprocess per image at shape (1, 3, 384, 640)\n",
      "\n",
      "0: 384x640 5 Vehicles, 22.8ms\n",
      "Speed: 1.2ms preprocess, 22.8ms inference, 0.3ms postprocess per image at shape (1, 3, 384, 640)\n",
      "\n",
      "0: 384x640 5 Vehicles, 22.9ms\n",
      "Speed: 1.3ms preprocess, 22.9ms inference, 0.3ms postprocess per image at shape (1, 3, 384, 640)\n",
      "\n",
      "0: 384x640 4 Vehicles, 22.3ms\n",
      "Speed: 1.3ms preprocess, 22.3ms inference, 0.3ms postprocess per image at shape (1, 3, 384, 640)\n",
      "\n",
      "0: 384x640 5 Vehicles, 1 TrafficGuide, 22.9ms\n",
      "Speed: 1.3ms preprocess, 22.9ms inference, 0.3ms postprocess per image at shape (1, 3, 384, 640)\n",
      "\n",
      "0: 384x640 4 Vehicles, 1 TrafficGuide, 22.7ms\n",
      "Speed: 1.2ms preprocess, 22.7ms inference, 0.3ms postprocess per image at shape (1, 3, 384, 640)\n",
      "\n",
      "0: 384x640 5 Vehicles, 1 TrafficGuide, 23.1ms\n",
      "Speed: 1.4ms preprocess, 23.1ms inference, 0.3ms postprocess per image at shape (1, 3, 384, 640)\n",
      "\n",
      "0: 384x640 3 Vehicles, 22.5ms\n",
      "Speed: 1.3ms preprocess, 22.5ms inference, 0.3ms postprocess per image at shape (1, 3, 384, 640)\n",
      "\n",
      "0: 384x640 3 Vehicles, 22.1ms\n",
      "Speed: 1.3ms preprocess, 22.1ms inference, 0.3ms postprocess per image at shape (1, 3, 384, 640)\n",
      "\n",
      "0: 384x640 4 Vehicles, 22.9ms\n",
      "Speed: 1.2ms preprocess, 22.9ms inference, 0.3ms postprocess per image at shape (1, 3, 384, 640)\n",
      "\n",
      "0: 384x640 4 Vehicles, 22.2ms\n",
      "Speed: 1.1ms preprocess, 22.2ms inference, 0.3ms postprocess per image at shape (1, 3, 384, 640)\n",
      "\n",
      "0: 384x640 4 Vehicles, 22.7ms\n",
      "Speed: 1.2ms preprocess, 22.7ms inference, 0.3ms postprocess per image at shape (1, 3, 384, 640)\n",
      "\n",
      "0: 384x640 1 TrafficSign, 4 Vehicles, 22.8ms\n",
      "Speed: 1.6ms preprocess, 22.8ms inference, 0.3ms postprocess per image at shape (1, 3, 384, 640)\n",
      "\n",
      "0: 384x640 3 Vehicles, 23.0ms\n",
      "Speed: 1.2ms preprocess, 23.0ms inference, 0.3ms postprocess per image at shape (1, 3, 384, 640)\n",
      "\n",
      "0: 384x640 5 Vehicles, 22.8ms\n",
      "Speed: 1.2ms preprocess, 22.8ms inference, 0.3ms postprocess per image at shape (1, 3, 384, 640)\n",
      "\n",
      "0: 384x640 4 Vehicles, 22.1ms\n",
      "Speed: 1.2ms preprocess, 22.1ms inference, 0.3ms postprocess per image at shape (1, 3, 384, 640)\n",
      "\n",
      "0: 384x640 7 Vehicles, 23.6ms\n",
      "Speed: 1.2ms preprocess, 23.6ms inference, 0.3ms postprocess per image at shape (1, 3, 384, 640)\n",
      "\n",
      "0: 384x640 6 Vehicles, 23.1ms\n",
      "Speed: 1.4ms preprocess, 23.1ms inference, 0.3ms postprocess per image at shape (1, 3, 384, 640)\n",
      "\n",
      "0: 384x640 7 Vehicles, 22.6ms\n",
      "Speed: 1.2ms preprocess, 22.6ms inference, 0.4ms postprocess per image at shape (1, 3, 384, 640)\n",
      "\n",
      "0: 384x640 7 Vehicles, 22.9ms\n",
      "Speed: 1.2ms preprocess, 22.9ms inference, 0.3ms postprocess per image at shape (1, 3, 384, 640)\n",
      "\n",
      "0: 384x640 5 Vehicles, 23.5ms\n",
      "Speed: 1.3ms preprocess, 23.5ms inference, 0.3ms postprocess per image at shape (1, 3, 384, 640)\n",
      "\n",
      "0: 384x640 7 Vehicles, 22.7ms\n",
      "Speed: 1.2ms preprocess, 22.7ms inference, 0.3ms postprocess per image at shape (1, 3, 384, 640)\n",
      "\n",
      "0: 384x640 5 Vehicles, 22.6ms\n",
      "Speed: 1.2ms preprocess, 22.6ms inference, 0.3ms postprocess per image at shape (1, 3, 384, 640)\n",
      "\n",
      "0: 384x640 6 Vehicles, 23.8ms\n",
      "Speed: 1.2ms preprocess, 23.8ms inference, 0.3ms postprocess per image at shape (1, 3, 384, 640)\n",
      "\n",
      "0: 384x640 4 Vehicles, 22.6ms\n",
      "Speed: 1.2ms preprocess, 22.6ms inference, 0.3ms postprocess per image at shape (1, 3, 384, 640)\n",
      "\n",
      "0: 384x640 6 Vehicles, 23.0ms\n",
      "Speed: 1.2ms preprocess, 23.0ms inference, 0.3ms postprocess per image at shape (1, 3, 384, 640)\n",
      "\n",
      "0: 384x640 1 TrafficSign, 6 Vehicles, 38.7ms\n",
      "Speed: 1.2ms preprocess, 38.7ms inference, 1.1ms postprocess per image at shape (1, 3, 384, 640)\n",
      "\n",
      "0: 384x640 1 TrafficSign, 7 Vehicles, 22.2ms\n",
      "Speed: 1.2ms preprocess, 22.2ms inference, 0.5ms postprocess per image at shape (1, 3, 384, 640)\n",
      "\n",
      "0: 384x640 6 Vehicles, 23.1ms\n",
      "Speed: 1.2ms preprocess, 23.1ms inference, 0.3ms postprocess per image at shape (1, 3, 384, 640)\n",
      "\n",
      "0: 384x640 7 Vehicles, 23.0ms\n",
      "Speed: 1.2ms preprocess, 23.0ms inference, 0.3ms postprocess per image at shape (1, 3, 384, 640)\n",
      "\n",
      "0: 384x640 1 TrafficSign, 7 Vehicles, 1 TrafficGuide, 22.8ms\n",
      "Speed: 1.2ms preprocess, 22.8ms inference, 0.3ms postprocess per image at shape (1, 3, 384, 640)\n",
      "\n",
      "0: 384x640 1 TrafficSign, 7 Vehicles, 24.4ms\n",
      "Speed: 1.3ms preprocess, 24.4ms inference, 0.3ms postprocess per image at shape (1, 3, 384, 640)\n",
      "\n",
      "0: 384x640 1 TrafficSign, 9 Vehicles, 23.0ms\n",
      "Speed: 1.3ms preprocess, 23.0ms inference, 0.3ms postprocess per image at shape (1, 3, 384, 640)\n",
      "\n",
      "0: 384x640 1 TrafficSign, 8 Vehicles, 22.8ms\n",
      "Speed: 1.2ms preprocess, 22.8ms inference, 0.3ms postprocess per image at shape (1, 3, 384, 640)\n",
      "\n",
      "0: 384x640 8 Vehicles, 23.2ms\n",
      "Speed: 1.2ms preprocess, 23.2ms inference, 0.3ms postprocess per image at shape (1, 3, 384, 640)\n",
      "\n",
      "0: 384x640 5 Vehicles, 1 TrafficGuide, 22.2ms\n",
      "Speed: 1.2ms preprocess, 22.2ms inference, 0.3ms postprocess per image at shape (1, 3, 384, 640)\n",
      "\n",
      "0: 384x640 8 Vehicles, 22.9ms\n",
      "Speed: 1.2ms preprocess, 22.9ms inference, 0.3ms postprocess per image at shape (1, 3, 384, 640)\n",
      "\n",
      "0: 384x640 1 PoleObject, 7 Vehicles, 23.1ms\n",
      "Speed: 1.2ms preprocess, 23.1ms inference, 0.3ms postprocess per image at shape (1, 3, 384, 640)\n",
      "\n",
      "0: 384x640 5 Vehicles, 22.8ms\n",
      "Speed: 1.2ms preprocess, 22.8ms inference, 0.3ms postprocess per image at shape (1, 3, 384, 640)\n",
      "\n",
      "0: 384x640 6 Vehicles, 22.9ms\n",
      "Speed: 1.1ms preprocess, 22.9ms inference, 0.3ms postprocess per image at shape (1, 3, 384, 640)\n",
      "\n",
      "0: 384x640 7 Vehicles, 23.2ms\n",
      "Speed: 1.2ms preprocess, 23.2ms inference, 0.3ms postprocess per image at shape (1, 3, 384, 640)\n",
      "\n",
      "0: 384x640 6 Vehicles, 22.8ms\n",
      "Speed: 1.3ms preprocess, 22.8ms inference, 0.3ms postprocess per image at shape (1, 3, 384, 640)\n",
      "\n",
      "0: 384x640 4 Vehicles, 22.7ms\n",
      "Speed: 1.2ms preprocess, 22.7ms inference, 0.3ms postprocess per image at shape (1, 3, 384, 640)\n",
      "\n",
      "0: 384x640 4 Vehicles, 22.6ms\n",
      "Speed: 1.2ms preprocess, 22.6ms inference, 0.3ms postprocess per image at shape (1, 3, 384, 640)\n",
      "\n",
      "0: 384x640 5 Vehicles, 23.5ms\n",
      "Speed: 1.2ms preprocess, 23.5ms inference, 0.3ms postprocess per image at shape (1, 3, 384, 640)\n",
      "\n",
      "0: 384x640 1 TrafficSign, 5 Vehicles, 21.7ms\n",
      "Speed: 1.2ms preprocess, 21.7ms inference, 0.3ms postprocess per image at shape (1, 3, 384, 640)\n",
      "\n",
      "0: 384x640 5 Vehicles, 22.6ms\n",
      "Speed: 1.3ms preprocess, 22.6ms inference, 0.4ms postprocess per image at shape (1, 3, 384, 640)\n",
      "\n",
      "0: 384x640 4 Vehicles, 23.0ms\n",
      "Speed: 1.2ms preprocess, 23.0ms inference, 0.3ms postprocess per image at shape (1, 3, 384, 640)\n",
      "\n",
      "0: 384x640 4 Vehicles, 23.3ms\n",
      "Speed: 1.2ms preprocess, 23.3ms inference, 0.3ms postprocess per image at shape (1, 3, 384, 640)\n",
      "\n",
      "0: 384x640 3 Vehicles, 22.6ms\n",
      "Speed: 1.3ms preprocess, 22.6ms inference, 0.3ms postprocess per image at shape (1, 3, 384, 640)\n",
      "\n",
      "0: 384x640 3 Vehicles, 23.5ms\n",
      "Speed: 1.2ms preprocess, 23.5ms inference, 0.3ms postprocess per image at shape (1, 3, 384, 640)\n",
      "\n",
      "0: 384x640 3 Vehicles, 23.0ms\n",
      "Speed: 1.2ms preprocess, 23.0ms inference, 0.3ms postprocess per image at shape (1, 3, 384, 640)\n",
      "\n",
      "0: 384x640 3 Vehicles, 22.4ms\n",
      "Speed: 1.2ms preprocess, 22.4ms inference, 0.3ms postprocess per image at shape (1, 3, 384, 640)\n",
      "\n",
      "0: 384x640 3 Vehicles, 1 TrafficGuide, 22.8ms\n",
      "Speed: 1.3ms preprocess, 22.8ms inference, 0.3ms postprocess per image at shape (1, 3, 384, 640)\n",
      "\n",
      "0: 384x640 2 Vehicles, 23.6ms\n",
      "Speed: 1.3ms preprocess, 23.6ms inference, 0.3ms postprocess per image at shape (1, 3, 384, 640)\n",
      "\n",
      "0: 384x640 4 Vehicles, 23.2ms\n",
      "Speed: 1.3ms preprocess, 23.2ms inference, 0.3ms postprocess per image at shape (1, 3, 384, 640)\n",
      "\n",
      "0: 384x640 5 Vehicles, 22.7ms\n",
      "Speed: 1.2ms preprocess, 22.7ms inference, 0.3ms postprocess per image at shape (1, 3, 384, 640)\n",
      "\n",
      "0: 384x640 4 Vehicles, 24.0ms\n",
      "Speed: 1.2ms preprocess, 24.0ms inference, 0.3ms postprocess per image at shape (1, 3, 384, 640)\n",
      "\n",
      "0: 384x640 6 Vehicles, 23.3ms\n",
      "Speed: 1.2ms preprocess, 23.3ms inference, 0.3ms postprocess per image at shape (1, 3, 384, 640)\n",
      "\n",
      "0: 384x640 9 Vehicles, 22.4ms\n",
      "Speed: 1.2ms preprocess, 22.4ms inference, 0.5ms postprocess per image at shape (1, 3, 384, 640)\n",
      "\n",
      "0: 384x640 9 Vehicles, 24.1ms\n",
      "Speed: 1.3ms preprocess, 24.1ms inference, 0.3ms postprocess per image at shape (1, 3, 384, 640)\n",
      "\n",
      "0: 384x640 8 Vehicles, 23.6ms\n",
      "Speed: 1.2ms preprocess, 23.6ms inference, 0.3ms postprocess per image at shape (1, 3, 384, 640)\n",
      "\n",
      "0: 384x640 8 Vehicles, 22.9ms\n",
      "Speed: 1.2ms preprocess, 22.9ms inference, 0.3ms postprocess per image at shape (1, 3, 384, 640)\n",
      "\n",
      "0: 384x640 7 Vehicles, 22.5ms\n",
      "Speed: 1.4ms preprocess, 22.5ms inference, 0.3ms postprocess per image at shape (1, 3, 384, 640)\n",
      "\n",
      "0: 384x640 6 Vehicles, 23.2ms\n",
      "Speed: 1.3ms preprocess, 23.2ms inference, 0.3ms postprocess per image at shape (1, 3, 384, 640)\n",
      "\n",
      "0: 384x640 1 PoleObject, 7 Vehicles, 23.2ms\n",
      "Speed: 1.3ms preprocess, 23.2ms inference, 0.3ms postprocess per image at shape (1, 3, 384, 640)\n",
      "\n",
      "0: 384x640 7 Vehicles, 22.4ms\n",
      "Speed: 1.2ms preprocess, 22.4ms inference, 0.3ms postprocess per image at shape (1, 3, 384, 640)\n",
      "\n",
      "0: 384x640 7 Vehicles, 63.9ms\n",
      "Speed: 3.5ms preprocess, 63.9ms inference, 0.3ms postprocess per image at shape (1, 3, 384, 640)\n",
      "\n",
      "0: 384x640 7 Vehicles, 38.7ms\n",
      "Speed: 1.2ms preprocess, 38.7ms inference, 0.3ms postprocess per image at shape (1, 3, 384, 640)\n",
      "\n",
      "0: 384x640 6 Vehicles, 23.1ms\n",
      "Speed: 1.2ms preprocess, 23.1ms inference, 0.3ms postprocess per image at shape (1, 3, 384, 640)\n",
      "\n",
      "0: 384x640 7 Vehicles, 1 TrafficGuide, 23.0ms\n",
      "Speed: 1.2ms preprocess, 23.0ms inference, 0.3ms postprocess per image at shape (1, 3, 384, 640)\n",
      "\n",
      "0: 384x640 10 Vehicles, 1 TrafficGuide, 23.7ms\n",
      "Speed: 1.2ms preprocess, 23.7ms inference, 0.3ms postprocess per image at shape (1, 3, 384, 640)\n",
      "\n",
      "0: 384x640 8 Vehicles, 23.1ms\n",
      "Speed: 1.2ms preprocess, 23.1ms inference, 0.3ms postprocess per image at shape (1, 3, 384, 640)\n",
      "\n",
      "0: 384x640 8 Vehicles, 22.1ms\n",
      "Speed: 1.2ms preprocess, 22.1ms inference, 0.5ms postprocess per image at shape (1, 3, 384, 640)\n",
      "\n",
      "0: 384x640 10 Vehicles, 1 TrafficGuide, 23.0ms\n",
      "Speed: 1.2ms preprocess, 23.0ms inference, 0.3ms postprocess per image at shape (1, 3, 384, 640)\n",
      "\n",
      "0: 384x640 6 Vehicles, 23.1ms\n",
      "Speed: 1.2ms preprocess, 23.1ms inference, 0.3ms postprocess per image at shape (1, 3, 384, 640)\n",
      "\n",
      "0: 384x640 10 Vehicles, 1 Pedestrian, 22.2ms\n",
      "Speed: 1.2ms preprocess, 22.2ms inference, 0.3ms postprocess per image at shape (1, 3, 384, 640)\n",
      "\n",
      "0: 384x640 11 Vehicles, 22.8ms\n",
      "Speed: 1.3ms preprocess, 22.8ms inference, 0.3ms postprocess per image at shape (1, 3, 384, 640)\n",
      "\n",
      "0: 384x640 12 Vehicles, 23.4ms\n",
      "Speed: 1.3ms preprocess, 23.4ms inference, 0.3ms postprocess per image at shape (1, 3, 384, 640)\n",
      "\n",
      "0: 384x640 10 Vehicles, 23.6ms\n",
      "Speed: 1.2ms preprocess, 23.6ms inference, 0.3ms postprocess per image at shape (1, 3, 384, 640)\n",
      "\n",
      "0: 384x640 6 Vehicles, 22.9ms\n",
      "Speed: 1.2ms preprocess, 22.9ms inference, 0.3ms postprocess per image at shape (1, 3, 384, 640)\n",
      "\n",
      "0: 384x640 8 Vehicles, 23.1ms\n",
      "Speed: 1.2ms preprocess, 23.1ms inference, 0.3ms postprocess per image at shape (1, 3, 384, 640)\n",
      "\n",
      "0: 384x640 7 Vehicles, 24.1ms\n",
      "Speed: 1.5ms preprocess, 24.1ms inference, 0.3ms postprocess per image at shape (1, 3, 384, 640)\n",
      "\n",
      "0: 384x640 6 Vehicles, 1 VulnerableVehicle, 23.4ms\n",
      "Speed: 1.2ms preprocess, 23.4ms inference, 0.3ms postprocess per image at shape (1, 3, 384, 640)\n",
      "\n",
      "0: 384x640 8 Vehicles, 1 VulnerableVehicle, 22.8ms\n",
      "Speed: 1.2ms preprocess, 22.8ms inference, 0.3ms postprocess per image at shape (1, 3, 384, 640)\n",
      "\n",
      "0: 384x640 9 Vehicles, 22.7ms\n",
      "Speed: 1.2ms preprocess, 22.7ms inference, 0.3ms postprocess per image at shape (1, 3, 384, 640)\n",
      "\n",
      "0: 384x640 9 Vehicles, 22.7ms\n",
      "Speed: 1.2ms preprocess, 22.7ms inference, 0.3ms postprocess per image at shape (1, 3, 384, 640)\n",
      "\n",
      "0: 384x640 10 Vehicles, 23.0ms\n",
      "Speed: 1.2ms preprocess, 23.0ms inference, 0.3ms postprocess per image at shape (1, 3, 384, 640)\n",
      "\n",
      "0: 384x640 11 Vehicles, 22.5ms\n",
      "Speed: 1.2ms preprocess, 22.5ms inference, 0.4ms postprocess per image at shape (1, 3, 384, 640)\n",
      "\n",
      "0: 384x640 12 Vehicles, 23.3ms\n",
      "Speed: 1.2ms preprocess, 23.3ms inference, 0.3ms postprocess per image at shape (1, 3, 384, 640)\n",
      "\n",
      "0: 384x640 9 Vehicles, 22.9ms\n",
      "Speed: 1.1ms preprocess, 22.9ms inference, 0.3ms postprocess per image at shape (1, 3, 384, 640)\n",
      "\n",
      "0: 384x640 14 Vehicles, 23.8ms\n",
      "Speed: 1.2ms preprocess, 23.8ms inference, 0.3ms postprocess per image at shape (1, 3, 384, 640)\n",
      "\n",
      "0: 384x640 16 Vehicles, 23.8ms\n",
      "Speed: 1.4ms preprocess, 23.8ms inference, 0.3ms postprocess per image at shape (1, 3, 384, 640)\n",
      "\n",
      "0: 384x640 10 Vehicles, 22.9ms\n",
      "Speed: 1.3ms preprocess, 22.9ms inference, 0.3ms postprocess per image at shape (1, 3, 384, 640)\n",
      "\n",
      "0: 384x640 10 Vehicles, 23.8ms\n",
      "Speed: 1.2ms preprocess, 23.8ms inference, 0.3ms postprocess per image at shape (1, 3, 384, 640)\n",
      "\n",
      "0: 384x640 12 Vehicles, 22.2ms\n",
      "Speed: 1.3ms preprocess, 22.2ms inference, 0.3ms postprocess per image at shape (1, 3, 384, 640)\n",
      "\n",
      "0: 384x640 10 Vehicles, 23.2ms\n",
      "Speed: 1.1ms preprocess, 23.2ms inference, 0.3ms postprocess per image at shape (1, 3, 384, 640)\n",
      "\n",
      "0: 384x640 10 Vehicles, 23.5ms\n",
      "Speed: 1.2ms preprocess, 23.5ms inference, 0.3ms postprocess per image at shape (1, 3, 384, 640)\n",
      "\n",
      "0: 384x640 11 Vehicles, 22.6ms\n",
      "Speed: 1.2ms preprocess, 22.6ms inference, 0.3ms postprocess per image at shape (1, 3, 384, 640)\n",
      "\n",
      "0: 384x640 13 Vehicles, 22.6ms\n",
      "Speed: 1.2ms preprocess, 22.6ms inference, 0.3ms postprocess per image at shape (1, 3, 384, 640)\n",
      "\n",
      "0: 384x640 12 Vehicles, 23.0ms\n",
      "Speed: 1.2ms preprocess, 23.0ms inference, 0.3ms postprocess per image at shape (1, 3, 384, 640)\n",
      "\n",
      "0: 384x640 11 Vehicles, 23.3ms\n",
      "Speed: 1.3ms preprocess, 23.3ms inference, 0.3ms postprocess per image at shape (1, 3, 384, 640)\n",
      "\n",
      "0: 384x640 11 Vehicles, 22.6ms\n",
      "Speed: 1.2ms preprocess, 22.6ms inference, 0.4ms postprocess per image at shape (1, 3, 384, 640)\n",
      "\n",
      "0: 384x640 13 Vehicles, 23.5ms\n",
      "Speed: 1.2ms preprocess, 23.5ms inference, 0.3ms postprocess per image at shape (1, 3, 384, 640)\n",
      "\n",
      "0: 384x640 11 Vehicles, 22.6ms\n",
      "Speed: 1.2ms preprocess, 22.6ms inference, 0.3ms postprocess per image at shape (1, 3, 384, 640)\n",
      "\n",
      "0: 384x640 11 Vehicles, 22.8ms\n",
      "Speed: 1.3ms preprocess, 22.8ms inference, 0.3ms postprocess per image at shape (1, 3, 384, 640)\n",
      "\n",
      "0: 384x640 13 Vehicles, 23.5ms\n",
      "Speed: 1.2ms preprocess, 23.5ms inference, 0.3ms postprocess per image at shape (1, 3, 384, 640)\n",
      "\n",
      "0: 384x640 9 Vehicles, 1 TrafficSignal, 23.1ms\n",
      "Speed: 1.4ms preprocess, 23.1ms inference, 0.3ms postprocess per image at shape (1, 3, 384, 640)\n",
      "\n",
      "0: 384x640 11 Vehicles, 23.1ms\n",
      "Speed: 1.2ms preprocess, 23.1ms inference, 0.3ms postprocess per image at shape (1, 3, 384, 640)\n",
      "\n",
      "0: 384x640 11 Vehicles, 1 TrafficSignal, 23.4ms\n",
      "Speed: 1.2ms preprocess, 23.4ms inference, 0.3ms postprocess per image at shape (1, 3, 384, 640)\n",
      "\n",
      "0: 384x640 10 Vehicles, 22.5ms\n",
      "Speed: 1.2ms preprocess, 22.5ms inference, 0.3ms postprocess per image at shape (1, 3, 384, 640)\n",
      "\n",
      "0: 384x640 12 Vehicles, 23.1ms\n",
      "Speed: 1.3ms preprocess, 23.1ms inference, 0.3ms postprocess per image at shape (1, 3, 384, 640)\n",
      "\n",
      "0: 384x640 9 Vehicles, 23.4ms\n",
      "Speed: 1.2ms preprocess, 23.4ms inference, 0.3ms postprocess per image at shape (1, 3, 384, 640)\n",
      "\n",
      "0: 384x640 1 TrafficSign, 11 Vehicles, 22.4ms\n",
      "Speed: 1.2ms preprocess, 22.4ms inference, 0.3ms postprocess per image at shape (1, 3, 384, 640)\n",
      "\n",
      "0: 384x640 10 Vehicles, 22.9ms\n",
      "Speed: 1.4ms preprocess, 22.9ms inference, 0.3ms postprocess per image at shape (1, 3, 384, 640)\n",
      "\n",
      "0: 384x640 8 Vehicles, 1 TrafficSignal, 22.7ms\n",
      "Speed: 1.4ms preprocess, 22.7ms inference, 0.3ms postprocess per image at shape (1, 3, 384, 640)\n",
      "\n",
      "0: 384x640 7 Vehicles, 23.0ms\n",
      "Speed: 1.2ms preprocess, 23.0ms inference, 0.3ms postprocess per image at shape (1, 3, 384, 640)\n",
      "\n",
      "0: 384x640 8 Vehicles, 1 TrafficSignal, 23.0ms\n",
      "Speed: 1.2ms preprocess, 23.0ms inference, 0.3ms postprocess per image at shape (1, 3, 384, 640)\n",
      "\n",
      "0: 384x640 1 TrafficSign, 7 Vehicles, 1 TrafficSignal, 23.4ms\n",
      "Speed: 1.3ms preprocess, 23.4ms inference, 0.3ms postprocess per image at shape (1, 3, 384, 640)\n",
      "\n",
      "0: 384x640 1 TrafficSign, 5 Vehicles, 1 TrafficSignal, 22.9ms\n",
      "Speed: 1.2ms preprocess, 22.9ms inference, 0.3ms postprocess per image at shape (1, 3, 384, 640)\n",
      "\n",
      "0: 384x640 6 Vehicles, 23.1ms\n",
      "Speed: 1.2ms preprocess, 23.1ms inference, 0.3ms postprocess per image at shape (1, 3, 384, 640)\n",
      "\n",
      "0: 384x640 1 TrafficSign, 4 Vehicles, 23.5ms\n",
      "Speed: 1.2ms preprocess, 23.5ms inference, 0.3ms postprocess per image at shape (1, 3, 384, 640)\n",
      "\n",
      "0: 384x640 1 TrafficSign, 4 Vehicles, 23.7ms\n",
      "Speed: 1.2ms preprocess, 23.7ms inference, 0.3ms postprocess per image at shape (1, 3, 384, 640)\n",
      "\n",
      "0: 384x640 1 TrafficSign, 4 Vehicles, 22.8ms\n",
      "Speed: 1.2ms preprocess, 22.8ms inference, 0.3ms postprocess per image at shape (1, 3, 384, 640)\n",
      "\n",
      "0: 384x640 1 TrafficSign, 2 Vehicles, 23.3ms\n",
      "Speed: 1.2ms preprocess, 23.3ms inference, 0.3ms postprocess per image at shape (1, 3, 384, 640)\n",
      "\n",
      "0: 384x640 2 TrafficSigns, 2 Vehicles, 22.6ms\n",
      "Speed: 1.4ms preprocess, 22.6ms inference, 0.3ms postprocess per image at shape (1, 3, 384, 640)\n",
      "\n",
      "0: 384x640 1 TrafficSign, 3 Vehicles, 23.1ms\n",
      "Speed: 1.3ms preprocess, 23.1ms inference, 0.3ms postprocess per image at shape (1, 3, 384, 640)\n",
      "\n",
      "0: 384x640 1 TrafficSign, 2 Vehicles, 23.7ms\n",
      "Speed: 1.2ms preprocess, 23.7ms inference, 0.3ms postprocess per image at shape (1, 3, 384, 640)\n",
      "\n",
      "0: 384x640 1 TrafficSign, 3 Vehicles, 22.1ms\n",
      "Speed: 1.2ms preprocess, 22.1ms inference, 0.3ms postprocess per image at shape (1, 3, 384, 640)\n",
      "\n",
      "0: 384x640 1 TrafficSign, 4 Vehicles, 23.4ms\n",
      "Speed: 1.3ms preprocess, 23.4ms inference, 0.3ms postprocess per image at shape (1, 3, 384, 640)\n",
      "\n",
      "0: 384x640 1 TrafficSign, 5 Vehicles, 22.6ms\n",
      "Speed: 1.2ms preprocess, 22.6ms inference, 0.3ms postprocess per image at shape (1, 3, 384, 640)\n",
      "\n",
      "0: 384x640 4 Vehicles, 21.7ms\n",
      "Speed: 1.2ms preprocess, 21.7ms inference, 0.3ms postprocess per image at shape (1, 3, 384, 640)\n",
      "\n",
      "0: 384x640 1 TrafficSign, 5 Vehicles, 23.2ms\n",
      "Speed: 1.3ms preprocess, 23.2ms inference, 0.3ms postprocess per image at shape (1, 3, 384, 640)\n",
      "\n",
      "0: 384x640 1 TrafficSign, 4 Vehicles, 22.3ms\n",
      "Speed: 1.1ms preprocess, 22.3ms inference, 0.4ms postprocess per image at shape (1, 3, 384, 640)\n",
      "\n",
      "0: 384x640 1 TrafficSign, 2 Vehicles, 23.6ms\n",
      "Speed: 1.2ms preprocess, 23.6ms inference, 0.3ms postprocess per image at shape (1, 3, 384, 640)\n",
      "\n",
      "0: 384x640 1 TrafficSign, 3 Vehicles, 23.0ms\n",
      "Speed: 1.2ms preprocess, 23.0ms inference, 0.3ms postprocess per image at shape (1, 3, 384, 640)\n",
      "\n",
      "0: 384x640 1 TrafficSign, 3 Vehicles, 22.9ms\n",
      "Speed: 1.5ms preprocess, 22.9ms inference, 0.3ms postprocess per image at shape (1, 3, 384, 640)\n",
      "\n",
      "0: 384x640 1 TrafficSign, 3 Vehicles, 23.3ms\n",
      "Speed: 1.3ms preprocess, 23.3ms inference, 0.3ms postprocess per image at shape (1, 3, 384, 640)\n",
      "\n",
      "0: 384x640 1 TrafficSign, 4 Vehicles, 22.9ms\n",
      "Speed: 1.2ms preprocess, 22.9ms inference, 0.3ms postprocess per image at shape (1, 3, 384, 640)\n",
      "\n",
      "0: 384x640 1 TrafficSign, 5 Vehicles, 22.8ms\n",
      "Speed: 1.2ms preprocess, 22.8ms inference, 0.3ms postprocess per image at shape (1, 3, 384, 640)\n",
      "\n",
      "0: 384x640 1 TrafficSign, 7 Vehicles, 23.1ms\n",
      "Speed: 1.4ms preprocess, 23.1ms inference, 0.4ms postprocess per image at shape (1, 3, 384, 640)\n",
      "\n",
      "0: 384x640 6 Vehicles, 24.2ms\n",
      "Speed: 1.3ms preprocess, 24.2ms inference, 0.3ms postprocess per image at shape (1, 3, 384, 640)\n",
      "\n",
      "0: 384x640 1 TrafficSign, 5 Vehicles, 22.1ms\n",
      "Speed: 1.2ms preprocess, 22.1ms inference, 0.3ms postprocess per image at shape (1, 3, 384, 640)\n",
      "\n",
      "0: 384x640 5 Vehicles, 22.9ms\n",
      "Speed: 1.2ms preprocess, 22.9ms inference, 0.3ms postprocess per image at shape (1, 3, 384, 640)\n",
      "\n",
      "0: 384x640 6 Vehicles, 22.7ms\n",
      "Speed: 1.3ms preprocess, 22.7ms inference, 0.3ms postprocess per image at shape (1, 3, 384, 640)\n",
      "\n",
      "0: 384x640 7 Vehicles, 22.5ms\n",
      "Speed: 1.2ms preprocess, 22.5ms inference, 0.3ms postprocess per image at shape (1, 3, 384, 640)\n",
      "\n",
      "0: 384x640 8 Vehicles, 22.4ms\n",
      "Speed: 1.5ms preprocess, 22.4ms inference, 0.3ms postprocess per image at shape (1, 3, 384, 640)\n",
      "\n",
      "0: 384x640 6 Vehicles, 22.8ms\n",
      "Speed: 1.3ms preprocess, 22.8ms inference, 0.3ms postprocess per image at shape (1, 3, 384, 640)\n",
      "\n",
      "0: 384x640 6 Vehicles, 22.4ms\n",
      "Speed: 1.2ms preprocess, 22.4ms inference, 0.3ms postprocess per image at shape (1, 3, 384, 640)\n",
      "\n",
      "0: 384x640 7 Vehicles, 21.9ms\n",
      "Speed: 1.3ms preprocess, 21.9ms inference, 0.3ms postprocess per image at shape (1, 3, 384, 640)\n",
      "\n",
      "0: 384x640 4 Vehicles, 22.5ms\n",
      "Speed: 1.2ms preprocess, 22.5ms inference, 0.3ms postprocess per image at shape (1, 3, 384, 640)\n",
      "\n",
      "0: 384x640 4 Vehicles, 22.5ms\n",
      "Speed: 1.2ms preprocess, 22.5ms inference, 0.3ms postprocess per image at shape (1, 3, 384, 640)\n",
      "\n",
      "0: 384x640 8 Vehicles, 22.3ms\n",
      "Speed: 1.2ms preprocess, 22.3ms inference, 0.3ms postprocess per image at shape (1, 3, 384, 640)\n",
      "\n",
      "0: 384x640 8 Vehicles, 22.6ms\n",
      "Speed: 1.2ms preprocess, 22.6ms inference, 0.3ms postprocess per image at shape (1, 3, 384, 640)\n",
      "\n",
      "0: 384x640 9 Vehicles, 26.2ms\n",
      "Speed: 1.2ms preprocess, 26.2ms inference, 0.3ms postprocess per image at shape (1, 3, 384, 640)\n",
      "\n",
      "0: 384x640 7 Vehicles, 23.5ms\n",
      "Speed: 1.4ms preprocess, 23.5ms inference, 0.3ms postprocess per image at shape (1, 3, 384, 640)\n",
      "\n",
      "0: 384x640 6 Vehicles, 24.2ms\n",
      "Speed: 1.4ms preprocess, 24.2ms inference, 0.3ms postprocess per image at shape (1, 3, 384, 640)\n",
      "\n",
      "0: 384x640 5 Vehicles, 23.7ms\n",
      "Speed: 1.4ms preprocess, 23.7ms inference, 0.3ms postprocess per image at shape (1, 3, 384, 640)\n",
      "\n",
      "0: 384x640 7 Vehicles, 24.9ms\n",
      "Speed: 1.4ms preprocess, 24.9ms inference, 0.3ms postprocess per image at shape (1, 3, 384, 640)\n",
      "\n",
      "0: 384x640 4 Vehicles, 22.2ms\n",
      "Speed: 1.3ms preprocess, 22.2ms inference, 0.3ms postprocess per image at shape (1, 3, 384, 640)\n",
      "\n",
      "0: 384x640 4 Vehicles, 22.3ms\n",
      "Speed: 1.2ms preprocess, 22.3ms inference, 0.3ms postprocess per image at shape (1, 3, 384, 640)\n",
      "\n",
      "0: 384x640 6 Vehicles, 22.9ms\n",
      "Speed: 1.2ms preprocess, 22.9ms inference, 0.3ms postprocess per image at shape (1, 3, 384, 640)\n",
      "\n",
      "0: 384x640 6 Vehicles, 22.0ms\n",
      "Speed: 1.2ms preprocess, 22.0ms inference, 0.3ms postprocess per image at shape (1, 3, 384, 640)\n",
      "\n",
      "0: 384x640 9 Vehicles, 22.4ms\n",
      "Speed: 1.2ms preprocess, 22.4ms inference, 0.3ms postprocess per image at shape (1, 3, 384, 640)\n",
      "\n",
      "0: 384x640 8 Vehicles, 22.6ms\n",
      "Speed: 1.2ms preprocess, 22.6ms inference, 0.3ms postprocess per image at shape (1, 3, 384, 640)\n",
      "\n",
      "0: 384x640 8 Vehicles, 23.3ms\n",
      "Speed: 1.2ms preprocess, 23.3ms inference, 0.3ms postprocess per image at shape (1, 3, 384, 640)\n",
      "\n",
      "0: 384x640 1 TrafficSign, 11 Vehicles, 21.9ms\n",
      "Speed: 1.2ms preprocess, 21.9ms inference, 0.3ms postprocess per image at shape (1, 3, 384, 640)\n",
      "\n",
      "0: 384x640 9 Vehicles, 22.5ms\n",
      "Speed: 1.2ms preprocess, 22.5ms inference, 0.3ms postprocess per image at shape (1, 3, 384, 640)\n",
      "\n",
      "0: 384x640 9 Vehicles, 22.9ms\n",
      "Speed: 1.2ms preprocess, 22.9ms inference, 0.3ms postprocess per image at shape (1, 3, 384, 640)\n",
      "\n",
      "0: 384x640 8 Vehicles, 22.8ms\n",
      "Speed: 1.2ms preprocess, 22.8ms inference, 0.3ms postprocess per image at shape (1, 3, 384, 640)\n",
      "\n",
      "0: 384x640 1 TrafficSign, 7 Vehicles, 24.2ms\n",
      "Speed: 1.3ms preprocess, 24.2ms inference, 0.3ms postprocess per image at shape (1, 3, 384, 640)\n",
      "\n",
      "0: 384x640 13 Vehicles, 23.1ms\n",
      "Speed: 1.4ms preprocess, 23.1ms inference, 0.3ms postprocess per image at shape (1, 3, 384, 640)\n",
      "\n",
      "0: 384x640 1 TrafficSign, 9 Vehicles, 22.1ms\n",
      "Speed: 1.2ms preprocess, 22.1ms inference, 0.3ms postprocess per image at shape (1, 3, 384, 640)\n",
      "\n",
      "0: 384x640 1 TrafficSign, 6 Vehicles, 22.5ms\n",
      "Speed: 1.2ms preprocess, 22.5ms inference, 0.3ms postprocess per image at shape (1, 3, 384, 640)\n",
      "\n",
      "0: 384x640 2 TrafficSigns, 5 Vehicles, 21.9ms\n",
      "Speed: 1.2ms preprocess, 21.9ms inference, 0.3ms postprocess per image at shape (1, 3, 384, 640)\n",
      "\n",
      "0: 384x640 1 TrafficSign, 5 Vehicles, 23.0ms\n",
      "Speed: 1.2ms preprocess, 23.0ms inference, 0.3ms postprocess per image at shape (1, 3, 384, 640)\n",
      "\n",
      "0: 384x640 1 TrafficSign, 4 Vehicles, 22.7ms\n",
      "Speed: 1.3ms preprocess, 22.7ms inference, 0.3ms postprocess per image at shape (1, 3, 384, 640)\n",
      "\n",
      "0: 384x640 1 TrafficSign, 4 Vehicles, 22.8ms\n",
      "Speed: 1.2ms preprocess, 22.8ms inference, 0.3ms postprocess per image at shape (1, 3, 384, 640)\n",
      "\n",
      "0: 384x640 1 TrafficSign, 1 PoleObject, 4 Vehicles, 22.8ms\n",
      "Speed: 1.2ms preprocess, 22.8ms inference, 0.3ms postprocess per image at shape (1, 3, 384, 640)\n",
      "\n",
      "0: 384x640 1 TrafficSign, 4 Vehicles, 22.8ms\n",
      "Speed: 1.3ms preprocess, 22.8ms inference, 0.3ms postprocess per image at shape (1, 3, 384, 640)\n",
      "\n",
      "0: 384x640 1 TrafficSign, 4 Vehicles, 22.1ms\n",
      "Speed: 1.1ms preprocess, 22.1ms inference, 0.3ms postprocess per image at shape (1, 3, 384, 640)\n",
      "\n",
      "0: 384x640 1 TrafficSign, 3 Vehicles, 22.6ms\n",
      "Speed: 1.3ms preprocess, 22.6ms inference, 0.3ms postprocess per image at shape (1, 3, 384, 640)\n",
      "\n",
      "0: 384x640 1 TrafficSign, 4 Vehicles, 37.4ms\n",
      "Speed: 1.2ms preprocess, 37.4ms inference, 0.3ms postprocess per image at shape (1, 3, 384, 640)\n",
      "\n",
      "0: 384x640 1 TrafficSign, 5 Vehicles, 24.0ms\n",
      "Speed: 1.2ms preprocess, 24.0ms inference, 0.3ms postprocess per image at shape (1, 3, 384, 640)\n",
      "\n",
      "0: 384x640 1 TrafficSign, 4 Vehicles, 22.8ms\n",
      "Speed: 1.2ms preprocess, 22.8ms inference, 0.3ms postprocess per image at shape (1, 3, 384, 640)\n",
      "\n",
      "0: 384x640 1 TrafficSign, 4 Vehicles, 22.2ms\n",
      "Speed: 1.2ms preprocess, 22.2ms inference, 0.3ms postprocess per image at shape (1, 3, 384, 640)\n",
      "\n",
      "0: 384x640 1 TrafficSign, 4 Vehicles, 22.2ms\n",
      "Speed: 1.3ms preprocess, 22.2ms inference, 0.3ms postprocess per image at shape (1, 3, 384, 640)\n",
      "\n",
      "0: 384x640 1 TrafficSign, 5 Vehicles, 23.1ms\n",
      "Speed: 1.2ms preprocess, 23.1ms inference, 0.3ms postprocess per image at shape (1, 3, 384, 640)\n",
      "\n",
      "0: 384x640 1 TrafficSign, 6 Vehicles, 22.5ms\n",
      "Speed: 1.2ms preprocess, 22.5ms inference, 0.3ms postprocess per image at shape (1, 3, 384, 640)\n",
      "Processed video saved at: /Users/varunravi/Desktop/OD/sequences/output_video_od.mp4\n"
     ]
    }
   ],
   "source": [
    "import os\n",
    "from ultralytics import YOLO\n",
    "import cv2\n",
    "import random\n",
    "\n",
    "# Define paths\n",
    "VIDEOS_DIR = '/Users/varunravi/Desktop/OD/sequences'\n",
    "video_path = '/Users/varunravi/Desktop/OD/sequences/output_video.mp4'\n",
    "video_path_out = '/Users/varunravi/Desktop/OD/sequences/output_video_od.mp4'\n",
    "\n",
    "# Load video\n",
    "cap = cv2.VideoCapture(video_path)\n",
    "ret, frame = cap.read()\n",
    "if not ret:\n",
    "    print(\"Failed to read the video.\")\n",
    "    cap.release()\n",
    "    exit()\n",
    "\n",
    "# Get frame dimensions and set up video writer\n",
    "H, W, _ = frame.shape\n",
    "out = cv2.VideoWriter(video_path_out, cv2.VideoWriter_fourcc(*'mp4v'), int(cap.get(cv2.CAP_PROP_FPS)), (W, H))\n",
    "\n",
    "# Load the custom model\n",
    "model_path = os.path.join('.', 'runs', 'detect', 'train29', 'weights', 'best.pt')\n",
    "model = YOLO(\"/opt/homebrew/runs/detect/train29/weights/best.pt\")  # Load your custom YOLO model\n",
    "\n",
    "# Set the detection threshold\n",
    "threshold = 0.5\n",
    "\n",
    "# Generate random colors for each class\n",
    "class_colors = {name: (random.randint(0, 255), random.randint(0, 255), random.randint(0, 255)) for name in model.names.values()}\n",
    "\n",
    "while ret:\n",
    "    # Perform detection on the current frame\n",
    "    results = model(frame)[0]\n",
    "\n",
    "    for result in results.boxes.data.tolist():\n",
    "        x1, y1, x2, y2, score, class_id = result\n",
    "\n",
    "        if score > threshold:\n",
    "            # Get the class name and color\n",
    "            class_name = results.names[int(class_id)]\n",
    "            color = class_colors[class_name]\n",
    "\n",
    "            # Draw the bounding box\n",
    "            cv2.rectangle(frame, (int(x1), int(y1)), (int(x2), int(y2)), color, 4)\n",
    "\n",
    "            # Draw the label text\n",
    "            cv2.putText(frame, class_name, (int(x1), int(y1 - 10)), cv2.FONT_HERSHEY_SIMPLEX, 1.3, color, 3, cv2.LINE_AA)\n",
    "\n",
    "    # Write the processed frame to the output video\n",
    "    out.write(frame)\n",
    "\n",
    "    # Read the next frame\n",
    "    ret, frame = cap.read()\n",
    "\n",
    "# Release resources\n",
    "cap.release()\n",
    "out.release()\n",
    "cv2.destroyAllWindows()\n",
    "\n",
    "print(f\"Processed video saved at: {video_path_out}\")"
   ]
  },
  {
   "cell_type": "markdown",
   "metadata": {},
   "source": [
    "### Segmentation"
   ]
  },
  {
   "cell_type": "code",
   "execution_count": 12,
   "metadata": {},
   "outputs": [
    {
     "name": "stdout",
     "output_type": "stream",
     "text": [
      "\n",
      "0: 384x640 1 car, 1 bus, 58.7ms\n",
      "Speed: 2.1ms preprocess, 58.7ms inference, 5.3ms postprocess per image at shape (1, 3, 384, 640)\n",
      "\n",
      "0: 384x640 1 car, 1 bus, 43.2ms\n",
      "Speed: 1.4ms preprocess, 43.2ms inference, 2.1ms postprocess per image at shape (1, 3, 384, 640)\n",
      "\n",
      "0: 384x640 1 car, 2 buss, 37.4ms\n",
      "Speed: 1.4ms preprocess, 37.4ms inference, 1.5ms postprocess per image at shape (1, 3, 384, 640)\n",
      "\n",
      "0: 384x640 1 car, 1 bus, 1 truck, 31.0ms\n",
      "Speed: 1.3ms preprocess, 31.0ms inference, 1.5ms postprocess per image at shape (1, 3, 384, 640)\n",
      "\n",
      "0: 384x640 2 buss, 34.2ms\n",
      "Speed: 1.3ms preprocess, 34.2ms inference, 1.6ms postprocess per image at shape (1, 3, 384, 640)\n",
      "\n",
      "0: 384x640 1 bus, 2 trucks, 30.4ms\n",
      "Speed: 1.2ms preprocess, 30.4ms inference, 1.8ms postprocess per image at shape (1, 3, 384, 640)\n",
      "\n",
      "0: 384x640 2 trucks, 30.4ms\n",
      "Speed: 1.2ms preprocess, 30.4ms inference, 1.5ms postprocess per image at shape (1, 3, 384, 640)\n",
      "\n",
      "0: 384x640 2 trucks, 30.4ms\n",
      "Speed: 1.2ms preprocess, 30.4ms inference, 1.2ms postprocess per image at shape (1, 3, 384, 640)\n",
      "\n",
      "0: 384x640 2 trucks, 30.9ms\n",
      "Speed: 1.2ms preprocess, 30.9ms inference, 1.2ms postprocess per image at shape (1, 3, 384, 640)\n",
      "\n",
      "0: 384x640 2 trucks, 36.9ms\n",
      "Speed: 1.4ms preprocess, 36.9ms inference, 1.2ms postprocess per image at shape (1, 3, 384, 640)\n",
      "\n",
      "0: 384x640 1 train, 1 truck, 32.7ms\n",
      "Speed: 1.2ms preprocess, 32.7ms inference, 1.7ms postprocess per image at shape (1, 3, 384, 640)\n",
      "\n",
      "0: 384x640 1 bus, 1 train, 55.9ms\n",
      "Speed: 2.3ms preprocess, 55.9ms inference, 2.3ms postprocess per image at shape (1, 3, 384, 640)\n",
      "\n",
      "0: 384x640 1 bus, 1 train, 52.8ms\n",
      "Speed: 2.1ms preprocess, 52.8ms inference, 3.2ms postprocess per image at shape (1, 3, 384, 640)\n",
      "\n",
      "0: 384x640 1 truck, 50.7ms\n",
      "Speed: 1.4ms preprocess, 50.7ms inference, 3.1ms postprocess per image at shape (1, 3, 384, 640)\n",
      "\n",
      "0: 384x640 1 train, 46.5ms\n",
      "Speed: 1.4ms preprocess, 46.5ms inference, 2.0ms postprocess per image at shape (1, 3, 384, 640)\n",
      "\n",
      "0: 384x640 1 truck, 34.9ms\n",
      "Speed: 1.2ms preprocess, 34.9ms inference, 1.6ms postprocess per image at shape (1, 3, 384, 640)\n",
      "\n",
      "0: 384x640 1 truck, 33.4ms\n",
      "Speed: 1.3ms preprocess, 33.4ms inference, 1.6ms postprocess per image at shape (1, 3, 384, 640)\n",
      "\n",
      "0: 384x640 1 truck, 43.0ms\n",
      "Speed: 1.4ms preprocess, 43.0ms inference, 2.5ms postprocess per image at shape (1, 3, 384, 640)\n",
      "\n",
      "0: 384x640 1 bus, 33.1ms\n",
      "Speed: 1.3ms preprocess, 33.1ms inference, 2.0ms postprocess per image at shape (1, 3, 384, 640)\n",
      "\n",
      "0: 384x640 1 bus, 31.3ms\n",
      "Speed: 1.3ms preprocess, 31.3ms inference, 1.7ms postprocess per image at shape (1, 3, 384, 640)\n",
      "\n",
      "0: 384x640 1 truck, 36.7ms\n",
      "Speed: 1.2ms preprocess, 36.7ms inference, 1.8ms postprocess per image at shape (1, 3, 384, 640)\n",
      "\n",
      "0: 384x640 1 truck, 33.9ms\n",
      "Speed: 1.5ms preprocess, 33.9ms inference, 1.4ms postprocess per image at shape (1, 3, 384, 640)\n",
      "\n",
      "0: 384x640 1 truck, 33.0ms\n",
      "Speed: 1.3ms preprocess, 33.0ms inference, 1.2ms postprocess per image at shape (1, 3, 384, 640)\n",
      "\n",
      "0: 384x640 2 trucks, 41.5ms\n",
      "Speed: 1.4ms preprocess, 41.5ms inference, 1.3ms postprocess per image at shape (1, 3, 384, 640)\n",
      "\n",
      "0: 384x640 1 bus, 1 truck, 32.4ms\n",
      "Speed: 1.3ms preprocess, 32.4ms inference, 1.9ms postprocess per image at shape (1, 3, 384, 640)\n",
      "\n",
      "0: 384x640 3 trucks, 32.4ms\n",
      "Speed: 1.2ms preprocess, 32.4ms inference, 2.0ms postprocess per image at shape (1, 3, 384, 640)\n",
      "\n",
      "0: 384x640 3 trucks, 31.7ms\n",
      "Speed: 1.3ms preprocess, 31.7ms inference, 1.5ms postprocess per image at shape (1, 3, 384, 640)\n",
      "\n",
      "0: 384x640 3 trucks, 33.1ms\n",
      "Speed: 1.2ms preprocess, 33.1ms inference, 2.9ms postprocess per image at shape (1, 3, 384, 640)\n",
      "\n",
      "0: 384x640 1 car, 2 trucks, 31.5ms\n",
      "Speed: 1.2ms preprocess, 31.5ms inference, 1.5ms postprocess per image at shape (1, 3, 384, 640)\n",
      "\n",
      "0: 384x640 2 trucks, 35.6ms\n",
      "Speed: 1.2ms preprocess, 35.6ms inference, 1.2ms postprocess per image at shape (1, 3, 384, 640)\n",
      "\n",
      "0: 384x640 2 trucks, 31.4ms\n",
      "Speed: 1.2ms preprocess, 31.4ms inference, 1.3ms postprocess per image at shape (1, 3, 384, 640)\n",
      "\n",
      "0: 384x640 2 trucks, 31.2ms\n",
      "Speed: 1.2ms preprocess, 31.2ms inference, 1.2ms postprocess per image at shape (1, 3, 384, 640)\n",
      "\n",
      "0: 384x640 2 trucks, 32.6ms\n",
      "Speed: 1.2ms preprocess, 32.6ms inference, 1.6ms postprocess per image at shape (1, 3, 384, 640)\n",
      "\n",
      "0: 384x640 2 trucks, 31.4ms\n",
      "Speed: 1.2ms preprocess, 31.4ms inference, 1.2ms postprocess per image at shape (1, 3, 384, 640)\n",
      "\n",
      "0: 384x640 2 trucks, 31.8ms\n",
      "Speed: 1.3ms preprocess, 31.8ms inference, 1.2ms postprocess per image at shape (1, 3, 384, 640)\n",
      "\n",
      "0: 384x640 2 trucks, 33.5ms\n",
      "Speed: 1.2ms preprocess, 33.5ms inference, 1.3ms postprocess per image at shape (1, 3, 384, 640)\n",
      "\n",
      "0: 384x640 1 bus, 2 trucks, 31.4ms\n",
      "Speed: 1.2ms preprocess, 31.4ms inference, 1.2ms postprocess per image at shape (1, 3, 384, 640)\n",
      "\n",
      "0: 384x640 3 trucks, 30.1ms\n",
      "Speed: 1.4ms preprocess, 30.1ms inference, 1.4ms postprocess per image at shape (1, 3, 384, 640)\n",
      "\n",
      "0: 384x640 3 trucks, 32.8ms\n",
      "Speed: 1.2ms preprocess, 32.8ms inference, 1.4ms postprocess per image at shape (1, 3, 384, 640)\n",
      "\n",
      "0: 384x640 1 car, 1 bus, 2 trucks, 32.0ms\n",
      "Speed: 1.2ms preprocess, 32.0ms inference, 1.5ms postprocess per image at shape (1, 3, 384, 640)\n",
      "\n",
      "0: 384x640 1 car, 3 trucks, 32.4ms\n",
      "Speed: 1.2ms preprocess, 32.4ms inference, 2.0ms postprocess per image at shape (1, 3, 384, 640)\n",
      "\n",
      "0: 384x640 1 car, 1 bus, 2 trucks, 33.9ms\n",
      "Speed: 1.3ms preprocess, 33.9ms inference, 1.2ms postprocess per image at shape (1, 3, 384, 640)\n",
      "\n",
      "0: 384x640 1 car, 3 trucks, 32.0ms\n",
      "Speed: 1.3ms preprocess, 32.0ms inference, 1.5ms postprocess per image at shape (1, 3, 384, 640)\n",
      "\n",
      "0: 384x640 1 car, 1 bus, 1 truck, 31.7ms\n",
      "Speed: 1.1ms preprocess, 31.7ms inference, 1.2ms postprocess per image at shape (1, 3, 384, 640)\n",
      "\n",
      "0: 384x640 2 cars, 1 bus, 1 truck, 33.8ms\n",
      "Speed: 1.2ms preprocess, 33.8ms inference, 1.5ms postprocess per image at shape (1, 3, 384, 640)\n",
      "\n",
      "0: 384x640 2 cars, 2 trucks, 33.8ms\n",
      "Speed: 1.2ms preprocess, 33.8ms inference, 1.5ms postprocess per image at shape (1, 3, 384, 640)\n",
      "\n",
      "0: 384x640 2 cars, 1 bus, 1 truck, 31.9ms\n",
      "Speed: 1.2ms preprocess, 31.9ms inference, 1.2ms postprocess per image at shape (1, 3, 384, 640)\n",
      "\n",
      "0: 384x640 1 car, 2 buss, 31.6ms\n",
      "Speed: 1.2ms preprocess, 31.6ms inference, 1.3ms postprocess per image at shape (1, 3, 384, 640)\n",
      "\n",
      "0: 384x640 1 car, 1 bus, 1 truck, 32.3ms\n",
      "Speed: 1.2ms preprocess, 32.3ms inference, 1.6ms postprocess per image at shape (1, 3, 384, 640)\n",
      "\n",
      "0: 384x640 1 car, 1 bus, 1 truck, 32.1ms\n",
      "Speed: 1.1ms preprocess, 32.1ms inference, 1.4ms postprocess per image at shape (1, 3, 384, 640)\n",
      "\n",
      "0: 384x640 2 cars, 2 trucks, 33.6ms\n",
      "Speed: 1.3ms preprocess, 33.6ms inference, 1.3ms postprocess per image at shape (1, 3, 384, 640)\n",
      "\n",
      "0: 384x640 2 cars, 2 trucks, 33.2ms\n",
      "Speed: 1.2ms preprocess, 33.2ms inference, 1.2ms postprocess per image at shape (1, 3, 384, 640)\n",
      "\n",
      "0: 384x640 2 cars, 1 bus, 1 truck, 31.5ms\n",
      "Speed: 1.2ms preprocess, 31.5ms inference, 1.1ms postprocess per image at shape (1, 3, 384, 640)\n",
      "\n",
      "0: 384x640 2 cars, 1 bus, 1 truck, 31.4ms\n",
      "Speed: 1.2ms preprocess, 31.4ms inference, 1.0ms postprocess per image at shape (1, 3, 384, 640)\n",
      "\n",
      "0: 384x640 1 car, 1 bus, 1 truck, 32.7ms\n",
      "Speed: 1.2ms preprocess, 32.7ms inference, 0.9ms postprocess per image at shape (1, 3, 384, 640)\n",
      "\n",
      "0: 384x640 1 car, 1 bus, 1 truck, 31.8ms\n",
      "Speed: 1.2ms preprocess, 31.8ms inference, 1.0ms postprocess per image at shape (1, 3, 384, 640)\n",
      "\n",
      "0: 384x640 1 car, 2 trucks, 33.1ms\n",
      "Speed: 1.2ms preprocess, 33.1ms inference, 0.9ms postprocess per image at shape (1, 3, 384, 640)\n",
      "\n",
      "0: 384x640 1 car, 2 trucks, 34.5ms\n",
      "Speed: 1.2ms preprocess, 34.5ms inference, 0.9ms postprocess per image at shape (1, 3, 384, 640)\n",
      "\n",
      "0: 384x640 1 car, 2 trucks, 38.1ms\n",
      "Speed: 1.2ms preprocess, 38.1ms inference, 1.5ms postprocess per image at shape (1, 3, 384, 640)\n",
      "\n",
      "0: 384x640 1 car, 1 bus, 1 truck, 33.7ms\n",
      "Speed: 1.3ms preprocess, 33.7ms inference, 1.0ms postprocess per image at shape (1, 3, 384, 640)\n",
      "\n",
      "0: 384x640 1 car, 1 bus, 1 truck, 34.8ms\n",
      "Speed: 1.3ms preprocess, 34.8ms inference, 1.0ms postprocess per image at shape (1, 3, 384, 640)\n",
      "\n",
      "0: 384x640 2 cars, 1 truck, 32.7ms\n",
      "Speed: 1.2ms preprocess, 32.7ms inference, 1.0ms postprocess per image at shape (1, 3, 384, 640)\n",
      "\n",
      "0: 384x640 1 car, 1 airplane, 1 truck, 32.8ms\n",
      "Speed: 1.3ms preprocess, 32.8ms inference, 1.1ms postprocess per image at shape (1, 3, 384, 640)\n",
      "\n",
      "0: 384x640 1 truck, 32.8ms\n",
      "Speed: 1.2ms preprocess, 32.8ms inference, 0.6ms postprocess per image at shape (1, 3, 384, 640)\n",
      "\n",
      "0: 384x640 1 truck, 32.5ms\n",
      "Speed: 1.2ms preprocess, 32.5ms inference, 0.9ms postprocess per image at shape (1, 3, 384, 640)\n",
      "\n",
      "0: 384x640 1 truck, 32.9ms\n",
      "Speed: 1.2ms preprocess, 32.9ms inference, 0.7ms postprocess per image at shape (1, 3, 384, 640)\n",
      "\n",
      "0: 384x640 1 truck, 33.6ms\n",
      "Speed: 1.2ms preprocess, 33.6ms inference, 1.0ms postprocess per image at shape (1, 3, 384, 640)\n",
      "\n",
      "0: 384x640 1 truck, 33.1ms\n",
      "Speed: 1.2ms preprocess, 33.1ms inference, 0.7ms postprocess per image at shape (1, 3, 384, 640)\n",
      "\n",
      "0: 384x640 1 truck, 33.1ms\n",
      "Speed: 1.2ms preprocess, 33.1ms inference, 0.9ms postprocess per image at shape (1, 3, 384, 640)\n",
      "\n",
      "0: 384x640 1 truck, 34.6ms\n",
      "Speed: 1.2ms preprocess, 34.6ms inference, 0.8ms postprocess per image at shape (1, 3, 384, 640)\n",
      "\n",
      "0: 384x640 1 truck, 31.8ms\n",
      "Speed: 1.2ms preprocess, 31.8ms inference, 0.7ms postprocess per image at shape (1, 3, 384, 640)\n",
      "\n",
      "0: 384x640 1 truck, 70.1ms\n",
      "Speed: 1.2ms preprocess, 70.1ms inference, 0.9ms postprocess per image at shape (1, 3, 384, 640)\n",
      "\n",
      "0: 384x640 1 truck, 35.3ms\n",
      "Speed: 1.3ms preprocess, 35.3ms inference, 0.9ms postprocess per image at shape (1, 3, 384, 640)\n",
      "\n",
      "0: 384x640 1 truck, 32.7ms\n",
      "Speed: 1.2ms preprocess, 32.7ms inference, 0.6ms postprocess per image at shape (1, 3, 384, 640)\n",
      "\n",
      "0: 384x640 1 truck, 31.5ms\n",
      "Speed: 1.2ms preprocess, 31.5ms inference, 1.2ms postprocess per image at shape (1, 3, 384, 640)\n",
      "\n",
      "0: 384x640 1 truck, 32.6ms\n",
      "Speed: 1.2ms preprocess, 32.6ms inference, 1.3ms postprocess per image at shape (1, 3, 384, 640)\n",
      "\n",
      "0: 384x640 1 truck, 33.3ms\n",
      "Speed: 1.2ms preprocess, 33.3ms inference, 1.2ms postprocess per image at shape (1, 3, 384, 640)\n",
      "\n",
      "0: 384x640 1 truck, 33.9ms\n",
      "Speed: 1.4ms preprocess, 33.9ms inference, 1.3ms postprocess per image at shape (1, 3, 384, 640)\n",
      "\n",
      "0: 384x640 1 truck, 31.5ms\n",
      "Speed: 1.2ms preprocess, 31.5ms inference, 1.2ms postprocess per image at shape (1, 3, 384, 640)\n",
      "\n",
      "0: 384x640 1 truck, 32.7ms\n",
      "Speed: 1.3ms preprocess, 32.7ms inference, 1.3ms postprocess per image at shape (1, 3, 384, 640)\n",
      "\n",
      "0: 384x640 1 truck, 32.0ms\n",
      "Speed: 1.3ms preprocess, 32.0ms inference, 1.2ms postprocess per image at shape (1, 3, 384, 640)\n",
      "\n",
      "0: 384x640 1 bus, 32.5ms\n",
      "Speed: 1.3ms preprocess, 32.5ms inference, 1.4ms postprocess per image at shape (1, 3, 384, 640)\n",
      "\n",
      "0: 384x640 1 bus, 33.4ms\n",
      "Speed: 1.2ms preprocess, 33.4ms inference, 1.4ms postprocess per image at shape (1, 3, 384, 640)\n",
      "\n",
      "0: 384x640 1 truck, 33.1ms\n",
      "Speed: 1.2ms preprocess, 33.1ms inference, 1.2ms postprocess per image at shape (1, 3, 384, 640)\n",
      "\n",
      "0: 384x640 1 truck, 33.8ms\n",
      "Speed: 1.2ms preprocess, 33.8ms inference, 1.7ms postprocess per image at shape (1, 3, 384, 640)\n",
      "\n",
      "0: 384x640 1 truck, 48.0ms\n",
      "Speed: 1.2ms preprocess, 48.0ms inference, 1.8ms postprocess per image at shape (1, 3, 384, 640)\n",
      "\n",
      "0: 384x640 1 truck, 32.5ms\n",
      "Speed: 1.2ms preprocess, 32.5ms inference, 1.8ms postprocess per image at shape (1, 3, 384, 640)\n",
      "\n",
      "0: 384x640 2 trucks, 31.6ms\n",
      "Speed: 1.2ms preprocess, 31.6ms inference, 1.6ms postprocess per image at shape (1, 3, 384, 640)\n",
      "\n",
      "0: 384x640 2 trucks, 32.7ms\n",
      "Speed: 1.1ms preprocess, 32.7ms inference, 1.5ms postprocess per image at shape (1, 3, 384, 640)\n",
      "\n",
      "0: 384x640 2 trucks, 33.0ms\n",
      "Speed: 1.2ms preprocess, 33.0ms inference, 2.0ms postprocess per image at shape (1, 3, 384, 640)\n",
      "\n",
      "0: 384x640 2 trucks, 34.0ms\n",
      "Speed: 1.2ms preprocess, 34.0ms inference, 1.4ms postprocess per image at shape (1, 3, 384, 640)\n",
      "\n",
      "0: 384x640 2 trucks, 33.3ms\n",
      "Speed: 1.3ms preprocess, 33.3ms inference, 1.2ms postprocess per image at shape (1, 3, 384, 640)\n",
      "\n",
      "0: 384x640 2 trucks, 33.8ms\n",
      "Speed: 1.2ms preprocess, 33.8ms inference, 1.2ms postprocess per image at shape (1, 3, 384, 640)\n",
      "\n",
      "0: 384x640 2 trucks, 33.8ms\n",
      "Speed: 1.2ms preprocess, 33.8ms inference, 1.3ms postprocess per image at shape (1, 3, 384, 640)\n",
      "\n",
      "0: 384x640 2 buss, 33.0ms\n",
      "Speed: 1.2ms preprocess, 33.0ms inference, 2.1ms postprocess per image at shape (1, 3, 384, 640)\n",
      "\n",
      "0: 384x640 1 bus, 1 truck, 30.1ms\n",
      "Speed: 1.2ms preprocess, 30.1ms inference, 1.2ms postprocess per image at shape (1, 3, 384, 640)\n",
      "\n",
      "0: 384x640 2 trucks, 31.6ms\n",
      "Speed: 1.2ms preprocess, 31.6ms inference, 2.3ms postprocess per image at shape (1, 3, 384, 640)\n",
      "\n",
      "0: 384x640 1 bus, 30.2ms\n",
      "Speed: 1.3ms preprocess, 30.2ms inference, 1.3ms postprocess per image at shape (1, 3, 384, 640)\n",
      "\n",
      "0: 384x640 1 truck, 30.8ms\n",
      "Speed: 1.2ms preprocess, 30.8ms inference, 1.2ms postprocess per image at shape (1, 3, 384, 640)\n",
      "\n",
      "0: 384x640 1 truck, 32.0ms\n",
      "Speed: 1.2ms preprocess, 32.0ms inference, 1.6ms postprocess per image at shape (1, 3, 384, 640)\n",
      "\n",
      "0: 384x640 1 truck, 32.0ms\n",
      "Speed: 1.2ms preprocess, 32.0ms inference, 1.6ms postprocess per image at shape (1, 3, 384, 640)\n",
      "\n",
      "0: 384x640 1 car, 1 bus, 1 truck, 32.5ms\n",
      "Speed: 1.2ms preprocess, 32.5ms inference, 1.7ms postprocess per image at shape (1, 3, 384, 640)\n",
      "\n",
      "0: 384x640 1 car, 2 trucks, 32.6ms\n",
      "Speed: 1.3ms preprocess, 32.6ms inference, 1.4ms postprocess per image at shape (1, 3, 384, 640)\n"
     ]
    },
    {
     "ename": "",
     "evalue": "",
     "output_type": "error",
     "traceback": [
      "\u001b[1;31mThe Kernel crashed while executing code in the current cell or a previous cell. \n",
      "\u001b[1;31mPlease review the code in the cell(s) to identify a possible cause of the failure. \n",
      "\u001b[1;31mClick <a href='https://aka.ms/vscodeJupyterKernelCrash'>here</a> for more info. \n",
      "\u001b[1;31mView Jupyter <a href='command:jupyter.viewOutput'>log</a> for further details."
     ]
    }
   ],
   "source": [
    "from collections import defaultdict\n",
    "\n",
    "import cv2\n",
    "\n",
    "from ultralytics import YOLO\n",
    "from ultralytics.utils.plotting import Annotator, colors\n",
    "\n",
    "track_history = defaultdict(lambda: [])\n",
    "\n",
    "model = YOLO(\"yolov8n-seg.pt\")  # segmentation model\n",
    "cap = cv2.VideoCapture(\"/Users/varunravi/Desktop/OD/sequences/output_video.mp4\")\n",
    "w, h, fps = (int(cap.get(x)) for x in (cv2.CAP_PROP_FRAME_WIDTH, cv2.CAP_PROP_FRAME_HEIGHT, cv2.CAP_PROP_FPS))\n",
    "\n",
    "out = cv2.VideoWriter(\"instance-segmentation-object-tracking.avi\", cv2.VideoWriter_fourcc(*\"MJPG\"), fps, (w, h))\n",
    "\n",
    "while True:\n",
    "    ret, im0 = cap.read()\n",
    "    if not ret:\n",
    "        print(\"Video frame is empty or video processing has been successfully completed.\")\n",
    "        break\n",
    "\n",
    "    annotator = Annotator(im0, line_width=2)\n",
    "\n",
    "    results = model.track(im0, persist=True)\n",
    "\n",
    "    if results[0].boxes.id is not None and results[0].masks is not None:\n",
    "        masks = results[0].masks.xy\n",
    "        track_ids = results[0].boxes.id.int().cpu().tolist()\n",
    "\n",
    "        for mask, track_id in zip(masks, track_ids):\n",
    "            color = colors(int(track_id), True)\n",
    "            txt_color = annotator.get_txt_color(color)\n",
    "            annotator.seg_bbox(mask=mask, mask_color=color, label=str(track_id), txt_color=txt_color)\n",
    "\n",
    "    out.write(im0)\n",
    "    cv2.imshow(\"instance-segmentation-object-tracking\", im0)\n",
    "\n",
    "    if cv2.waitKey(1) & 0xFF == ord(\"q\"):\n",
    "        break\n",
    "\n",
    "out.release()\n",
    "cap.release()\n",
    "cv2.destroyAllWindows()"
   ]
  }
 ],
 "metadata": {
  "kernelspec": {
   "display_name": "llmenv",
   "language": "python",
   "name": "python3"
  },
  "language_info": {
   "codemirror_mode": {
    "name": "ipython",
    "version": 3
   },
   "file_extension": ".py",
   "mimetype": "text/x-python",
   "name": "python",
   "nbconvert_exporter": "python",
   "pygments_lexer": "ipython3",
   "version": "3.11.7"
  }
 },
 "nbformat": 4,
 "nbformat_minor": 2
}
